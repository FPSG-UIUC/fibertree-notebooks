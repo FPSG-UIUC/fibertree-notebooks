{
 "cells": [
  {
   "cell_type": "markdown",
   "metadata": {
    "slideshow": {
     "slide_type": "-"
    }
   },
   "source": [
    "# Tensor Maker\n",
    "\n",
    "First, include some libraries"
   ]
  },
  {
   "cell_type": "code",
   "execution_count": null,
   "metadata": {},
   "outputs": [],
   "source": [
    "# Library imports\n",
    "\n",
    "#\n",
    "# Import tensor class\n",
    "#\n",
    "from fibertree import Fiber, Tensor, TensorImage\n",
    "\n",
    "#\n",
    "# Import display classes/utilities\n",
    "#\n",
    "from IPython.display import display # to display images\n",
    "\n",
    "def displayTensor(t):\n",
    "    display(TensorImage(t).im)\n",
    "\n",
    "#\n",
    "# Helper for data directory\n",
    "#\n",
    "import os\n",
    "\n",
    "data_dir = \"../data\"\n",
    "\n",
    "def datafileName(filename):\n",
    "    return os.path.join(data_dir, filename)\n",
    "\n"
   ]
  },
  {
   "cell_type": "markdown",
   "metadata": {},
   "source": [
    "## Uncompressed Tensor\n",
    "\n",
    "Create an uncompressed tensor from a nested set of lists."
   ]
  },
  {
   "cell_type": "code",
   "execution_count": null,
   "metadata": {},
   "outputs": [],
   "source": [
    "x = [ [ [ 1, 2, 8, 20, 0, 0, 11 ],\n",
    "        [ 1, 0, 0, 11, 0, 0, 33 ],\n",
    "        [ 0, 0, 0, 0,  0, 0, 0  ],\n",
    "        [ 1, 1, 8, 12, 0, 0, 44 ],\n",
    "        [ 1, 3, 0, 13, 0, 0, 42 ],\n",
    "        [ 0, 0, 4, 14, 0, 0, 0  ],\n",
    "        [ 0, 0, 0, 0,  0, 0, 0  ] ],\n",
    "\n",
    "      [ [ 0, 0, 0, 0,  0, 0, 0  ],\n",
    "        [ 0, 0, 0, 0,  0, 0, 0  ],\n",
    "        [ 0, 0, 0, 0,  0, 0, 0  ],\n",
    "        [ 0, 0, 0, 0,  0, 0, 0  ],\n",
    "        [ 0, 0, 0, 0,  0, 0, 0  ],\n",
    "        [ 0, 0, 0, 0,  0, 0, 0  ],\n",
    "        [ 0, 0, 0, 0,  0, 0, 0  ] ],\n",
    "\n",
    "      [ [ 1, 2, 8, 20, 0, 0, 11 ],\n",
    "        [ 1, 0, 0, 11, 0, 0, 33 ],\n",
    "        [ 0, 0, 0, 0,  0, 0, 0  ],\n",
    "        [ 1, 1, 8, 12, 0, 0, 44 ],\n",
    "        [ 1, 3, 0, 13, 0, 0, 42 ],\n",
    "        [ 0, 0, 4, 14, 0, 0, 0  ],\n",
    "        [ 0, 0, 0, 0,  0, 0, 0  ] ] ]\n"
   ]
  },
  {
   "cell_type": "markdown",
   "metadata": {},
   "source": [
    "## Convert uncompressed to Tensor\n",
    "\n",
    "Covert the uncompressed tensor (list of lists...) to Tensor"
   ]
  },
  {
   "cell_type": "code",
   "execution_count": null,
   "metadata": {
    "scrolled": false
   },
   "outputs": [],
   "source": [
    "t = Tensor.fromUncompressed([\"X\", \"Y\", \"Z\"], x)\n",
    "\n",
    "displayTensor(t)"
   ]
  },
  {
   "cell_type": "markdown",
   "metadata": {},
   "source": [
    "## Dump Tensor\n",
    "\n",
    "Dump the tensor to a YAML file"
   ]
  },
  {
   "cell_type": "code",
   "execution_count": null,
   "metadata": {},
   "outputs": [],
   "source": [
    "filename = \"/tmp/new_tensor.yaml\"\n",
    "\n",
    "t.dump(filename)"
   ]
  },
  {
   "cell_type": "markdown",
   "metadata": {},
   "source": [
    "## Print YAML file"
   ]
  },
  {
   "cell_type": "code",
   "execution_count": null,
   "metadata": {},
   "outputs": [],
   "source": [
    "f = open(filename)\n",
    "for line in f:\n",
    "    print(line.rstrip('\\n'))\n",
    "f.close()"
   ]
  },
  {
   "cell_type": "markdown",
   "metadata": {},
   "source": [
    "# Re-read tensor from YAML file and display"
   ]
  },
  {
   "cell_type": "code",
   "execution_count": null,
   "metadata": {},
   "outputs": [],
   "source": [
    "t_new = Tensor.fromYAMLfile(filename)\n",
    "\n",
    "displayTensor(t_new)"
   ]
  },
  {
   "cell_type": "markdown",
   "metadata": {},
   "source": [
    "## Testing area\n",
    "\n",
    "For running alternative algorithms"
   ]
  },
  {
   "cell_type": "code",
   "execution_count": null,
   "metadata": {},
   "outputs": [],
   "source": []
  },
  {
   "cell_type": "code",
   "execution_count": null,
   "metadata": {},
   "outputs": [],
   "source": []
  },
  {
   "cell_type": "code",
   "execution_count": null,
   "metadata": {},
   "outputs": [],
   "source": []
  }
 ],
 "metadata": {
  "kernelspec": {
   "display_name": "Python 3",
   "language": "python",
   "name": "python3"
  },
  "language_info": {
   "codemirror_mode": {
    "name": "ipython",
    "version": 3
   },
   "file_extension": ".py",
   "mimetype": "text/x-python",
   "name": "python",
   "nbconvert_exporter": "python",
   "pygments_lexer": "ipython3",
   "version": "3.6.8"
  }
 },
 "nbformat": 4,
 "nbformat_minor": 2
}
