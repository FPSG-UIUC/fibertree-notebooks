{
 "cells": [
  {
   "cell_type": "code",
   "execution_count": 1,
   "metadata": {},
   "outputs": [
    {
     "data": {
      "application/vnd.jupyter.widget-view+json": {
       "model_id": "36ccb782cbb14aff83af1b9d52889cdc",
       "version_major": 2,
       "version_minor": 0
      },
      "text/plain": [
       "interactive(children=(Dropdown(description='style', options=('tree', 'uncompressed', 'tree+uncompressed'), val…"
      ]
     },
     "metadata": {},
     "output_type": "display_data"
    },
    {
     "data": {
      "application/vnd.jupyter.widget-view+json": {
       "model_id": "ed16129646ef41f88f29974b5d0ffdf4",
       "version_major": 2,
       "version_minor": 0
      },
      "text/plain": [
       "Button(description='Run all cells below', style=ButtonStyle())"
      ]
     },
     "metadata": {},
     "output_type": "display_data"
    }
   ],
   "source": [
    "from fibertree import Codec\n",
    "from fibertree import Tensor\n",
    "\n",
    "import copy\n",
    "\n",
    "# Run boilerplate code to set up environment\n",
    "\n",
    "# Uncomment the first line and comment out the second to show movie animations\n",
    "\n",
    "#%run ../prelude.py\n",
    "%run ../prelude.py --no-show-animations"
   ]
  },
  {
   "cell_type": "markdown",
   "metadata": {},
   "source": [
    "# Test driver to encode a tensor using the codec"
   ]
  },
  {
   "cell_type": "code",
   "execution_count": 2,
   "metadata": {},
   "outputs": [],
   "source": [
    "# given a tensor and descriptor, write it\n",
    "def try_format(tensor, descriptor):\n",
    "    codec = Codec(tuple(descriptor))\n",
    "\n",
    "    rank_names = tensor.getRankIds()\n",
    "\n",
    "    output = Codec.get_output_dict(rank_names)\n",
    "    \n",
    "    # depth_start, root, rank ids, output dict\n",
    "    codec.encode(-1, tensor.getRoot(), rank_names, output)\n",
    "\n",
    "    Codec.write_yaml(tensor, descriptor, output)"
   ]
  },
  {
   "cell_type": "code",
   "execution_count": 3,
   "metadata": {},
   "outputs": [],
   "source": [
    "def try_all_formats(tensor, possible_formats, descriptor):\n",
    "    # once we have built a full descriptor, try it\n",
    "    if len(descriptor) == len(tensor.getRankIds()):\n",
    "        try_format(tensor, descriptor)\n",
    "\n",
    "    else:\n",
    "        # add a format to the descriptor and recurse\n",
    "        for fmt in possible_formats:\n",
    "            temp = copy.deepcopy(descriptor)\n",
    "            temp.append(fmt)\n",
    "            try_all_formats(tensor, possible_formats, temp)"
   ]
  },
  {
   "cell_type": "markdown",
   "metadata": {},
   "source": [
    "# UU example"
   ]
  },
  {
   "cell_type": "code",
   "execution_count": null,
   "metadata": {},
   "outputs": [],
   "source": [
    "descriptor = [\"U\", \"U\"]\n",
    "test_data = [[0, 1], [2, 3]]\n",
    "test_mtx = Tensor.fromUncompressed([\"M\", \"K\"], test_data)\n",
    "\n",
    "try_format(test_mtx, descriptor)"
   ]
  },
  {
   "cell_type": "markdown",
   "metadata": {},
   "source": [
    "# UC example"
   ]
  },
  {
   "cell_type": "code",
   "execution_count": null,
   "metadata": {},
   "outputs": [],
   "source": [
    "descriptor = [\"U\", \"C\"]\n",
    "test_data = [[0, 1], [2, 3]]\n",
    "test_mtx = Tensor.fromUncompressed([\"M\", \"K\"], test_data)\n",
    "\n",
    "try_format(test_mtx, descriptor)"
   ]
  },
  {
   "cell_type": "markdown",
   "metadata": {},
   "source": [
    "# CU example "
   ]
  },
  {
   "cell_type": "code",
   "execution_count": null,
   "metadata": {
    "scrolled": false
   },
   "outputs": [],
   "source": [
    "# example from slides\n",
    "descriptor = [\"U\", \"C\"]\n",
    "test_data = [['a', 'b', 0, 0], [0, 0, 0, 0], [0, 0, 0, 0], ['c', 0, 'd', 0]]\n",
    "\n",
    "test_mtx = Tensor.fromUncompressed([\"M\", \"K\"], test_data)\n",
    "\n",
    "displayTensor(test_mtx)\n",
    "try_format(test_mtx, descriptor)"
   ]
  },
  {
   "cell_type": "markdown",
   "metadata": {},
   "source": [
    "# CC example"
   ]
  },
  {
   "cell_type": "code",
   "execution_count": null,
   "metadata": {
    "scrolled": true
   },
   "outputs": [],
   "source": [
    "descriptor = [\"C\", \"C\"]\n",
    "test_data = [[0, 0], [0, 3]]\n",
    "test_mtx = Tensor.fromUncompressed([\"M\", \"K\"], test_data)\n",
    "\n",
    "try_format(test_mtx, descriptor)"
   ]
  },
  {
   "cell_type": "markdown",
   "metadata": {},
   "source": [
    "# try all bitvector combinations with U"
   ]
  },
  {
   "cell_type": "code",
   "execution_count": 4,
   "metadata": {
    "scrolled": false
   },
   "outputs": [
    {
     "data": {
      "image/png": "[encoded data removed]",
      "text/plain": [
       "<PIL.Image.Image image mode=RGB size=720x330 at 0x7F671C1D69B0>"
      ]
     },
     "metadata": {},
     "output_type": "display_data"
    },
    {
     "name": "stdout",
     "output_type": "stream",
     "text": [
      "tensor:\n",
      "  name: tensor-a\n",
      "  rank_ids: [M, K]\n",
      "  shapes: [4, 4]\n",
      "  formats: [B, B]\n",
      "  scratchpads:\n",
      "    rank_1:\n",
      "      coords: [1, 0, 0, 1]\n",
      "    rank_2:\n",
      "      coords: [1, 1, 0, 0, 1, 0, 1, 0]\n",
      "      payloads: [a, b, c, d]\n",
      "\n",
      "tensor:\n",
      "  name: tensor-a\n",
      "  rank_ids: [M, K]\n",
      "  shapes: [4, 4]\n",
      "  formats: [B, C]\n",
      "  scratchpads:\n",
      "    rank_1:\n",
      "      coords: [1, 0, 0, 1]\n",
      "      payloads: [0, 2, 4]\n",
      "    rank_2:\n",
      "      coords: [0, 1, 0, 2]\n",
      "      payloads: [a, b, c, d]\n",
      "\n",
      "tensor:\n",
      "  name: tensor-a\n",
      "  rank_ids: [M, K]\n",
      "  shapes: [4, 4]\n",
      "  formats: [C, B]\n",
      "  scratchpads:\n",
      "    rank_0:\n",
      "      payloads: [2]\n",
      "    rank_1:\n",
      "      coords: [0, 3]\n",
      "    rank_2:\n",
      "      coords: [1, 1, 0, 0, 1, 0, 1, 0]\n",
      "      payloads: [a, b, c, d]\n",
      "\n",
      "tensor:\n",
      "  name: tensor-a\n",
      "  rank_ids: [M, K]\n",
      "  shapes: [4, 4]\n",
      "  formats: [C, C]\n",
      "  scratchpads:\n",
      "    rank_0:\n",
      "      payloads: [2]\n",
      "    rank_1:\n",
      "      coords: [0, 3]\n",
      "      payloads: [0, 2, 4]\n",
      "    rank_2:\n",
      "      coords: [0, 1, 0, 2]\n",
      "      payloads: [a, b, c, d]\n",
      "\n"
     ]
    }
   ],
   "source": [
    "\"\"\" Test 2D tensor \"\"\"\n",
    "descriptor = [\"B\", \"C\"]\n",
    "ranks = [\"M\", \"K\"]\n",
    "\n",
    "test_data = [['a', 'b', 0, 0], [0, 0, 0, 0], [0, 0, 0, 0], ['c', 0, 'd', 0]]\n",
    "\n",
    "\n",
    "test_mtx = Tensor.fromUncompressed([\"M\", \"K\"], test_data)\n",
    "\n",
    "displayTensor(test_mtx)\n",
    "try_all_formats(test_mtx, descriptor, [])"
   ]
  },
  {
   "cell_type": "markdown",
   "metadata": {},
   "source": [
    "# try C with B"
   ]
  },
  {
   "cell_type": "code",
   "execution_count": null,
   "metadata": {},
   "outputs": [],
   "source": [
    "\"\"\" Test 2D tensor \"\"\"\n",
    "descriptor = [\"B\", \"C\"]\n",
    "ranks = [\"M\", \"K\"]\n",
    "test_data = [[0, 0], [1, 0], [0, 0], [0, 3]]\n",
    "test_mtx = Tensor.fromUncompressed(ranks, test_data)\n",
    "try_all_formats(test_mtx, descriptor, [])"
   ]
  },
  {
   "cell_type": "code",
   "execution_count": null,
   "metadata": {},
   "outputs": [],
   "source": []
  }
 ],
 "metadata": {
  "kernelspec": {
   "display_name": "Python 3",
   "language": "python",
   "name": "python3"
  },
  "language_info": {
   "codemirror_mode": {
    "name": "ipython",
    "version": 3
   },
   "file_extension": ".py",
   "mimetype": "text/x-python",
   "name": "python",
   "nbconvert_exporter": "python",
   "pygments_lexer": "ipython3",
   "version": "3.6.9"
  }
 },
 "nbformat": 4,
 "nbformat_minor": 4
}
