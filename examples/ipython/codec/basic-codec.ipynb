{
 "cells": [
  {
   "cell_type": "code",
   "execution_count": 1,
   "metadata": {},
   "outputs": [],
   "source": [
    "from fibertree import Codec\n",
    "from fibertree import Tensor\n",
    "\n",
    "import copy"
   ]
  },
  {
   "cell_type": "markdown",
   "metadata": {},
   "source": [
    "# Test driver to encode a tensor using the codec"
   ]
  },
  {
   "cell_type": "code",
   "execution_count": 2,
   "metadata": {},
   "outputs": [],
   "source": [
    "# given a tensor and descriptor, write it\n",
    "def try_format(tensor, descriptor):\n",
    "    codec = Codec(tuple(descriptor))\n",
    "\n",
    "    rank_names = tensor.getRankIds()\n",
    "\n",
    "    output = Codec.get_output_dict(rank_names)\n",
    "    \n",
    "    # depth_start, root, rank ids, output dict\n",
    "    codec.encode(-1, tensor.getRoot(), rank_names, output)\n",
    "\n",
    "    Codec.write_yaml(tensor, descriptor, output)"
   ]
  },
  {
   "cell_type": "code",
   "execution_count": 3,
   "metadata": {},
   "outputs": [],
   "source": [
    "def try_all_formats(tensor, possible_formats, descriptor):\n",
    "    # once we have built a full descriptor, try it\n",
    "    if len(descriptor) == len(tensor.getRankIds()):\n",
    "        try_format(tensor, descriptor)\n",
    "\n",
    "    else:\n",
    "        # add a format to the descriptor and recurse\n",
    "        for fmt in possible_formats:\n",
    "            temp = copy.deepcopy(descriptor)\n",
    "            temp.append(fmt)\n",
    "            try_all_formats(tensor, possible_formats, temp)"
   ]
  },
  {
   "cell_type": "markdown",
   "metadata": {},
   "source": [
    "# UU example"
   ]
  },
  {
   "cell_type": "code",
   "execution_count": null,
   "metadata": {},
   "outputs": [],
   "source": [
    "descriptor = [\"U\", \"U\"]\n",
    "test_data = [[0, 1], [2, 3]]\n",
    "test_mtx = Tensor.fromUncompressed([\"M\", \"K\"], test_data)\n",
    "\n",
    "try_format(test_mtx, descriptor)"
   ]
  },
  {
   "cell_type": "markdown",
   "metadata": {},
   "source": [
    "# UC example"
   ]
  },
  {
   "cell_type": "code",
   "execution_count": null,
   "metadata": {},
   "outputs": [],
   "source": [
    "descriptor = [\"U\", \"C\"]\n",
    "test_data = [[0, 1], [2, 3]]\n",
    "test_mtx = Tensor.fromUncompressed([\"M\", \"K\"], test_data)\n",
    "\n",
    "try_format(test_mtx, descriptor)"
   ]
  },
  {
   "cell_type": "markdown",
   "metadata": {},
   "source": [
    "# CU example"
   ]
  },
  {
   "cell_type": "code",
   "execution_count": null,
   "metadata": {},
   "outputs": [],
   "source": [
    "descriptor = [\"C\", \"U\"]\n",
    "test_data = [[0, 0], [0, 3]]\n",
    "test_mtx = Tensor.fromUncompressed([\"M\", \"K\"], test_data)\n",
    "\n",
    "try_format(test_mtx, descriptor)"
   ]
  },
  {
   "cell_type": "markdown",
   "metadata": {},
   "source": [
    "# CC example"
   ]
  },
  {
   "cell_type": "code",
   "execution_count": null,
   "metadata": {},
   "outputs": [],
   "source": [
    "descriptor = [\"C\", \"C\"]\n",
    "test_data = [[0, 0], [0, 3]]\n",
    "test_mtx = Tensor.fromUncompressed([\"M\", \"K\"], test_data)\n",
    "\n",
    "try_format(test_mtx, descriptor)"
   ]
  },
  {
   "cell_type": "markdown",
   "metadata": {},
   "source": [
    "# try all bitvector combinations with U"
   ]
  },
  {
   "cell_type": "code",
   "execution_count": 4,
   "metadata": {},
   "outputs": [
    {
     "name": "stdout",
     "output_type": "stream",
     "text": [
      "tensor:\n",
      "  name: tensor-a\n",
      "  rank_ids: [M, K]\n",
      "  shapes: [2, 2]\n",
      "  formats: [B, B]\n",
      "  scratchpads:\n",
      "    rank_0:\n",
      "      coords: [0, 1]\n",
      "    rank_1:\n",
      "      coords: [0, 1]\n",
      "      payloads: [3]\n",
      "\n",
      "tensor:\n",
      "  name: tensor-a\n",
      "  rank_ids: [M, K]\n",
      "  shapes: [2, 2]\n",
      "  formats: [B, U]\n",
      "  scratchpads:\n",
      "    rank_0:\n",
      "      coords: [0, 1]\n",
      "    rank_1:\n",
      "      payloads: [0, 3]\n",
      "\n",
      "tensor:\n",
      "  name: tensor-a\n",
      "  rank_ids: [M, K]\n",
      "  shapes: [2, 2]\n",
      "  formats: [U, B]\n",
      "  scratchpads:\n",
      "    rank_1:\n",
      "      coords: [0, 0, 0, 1]\n",
      "      payloads: [3]\n",
      "\n",
      "tensor:\n",
      "  name: tensor-a\n",
      "  rank_ids: [M, K]\n",
      "  shapes: [2, 2]\n",
      "  formats: [U, U]\n",
      "  scratchpads:\n",
      "    rank_1:\n",
      "      payloads: [0, 0, 0, 3]\n",
      "\n"
     ]
    }
   ],
   "source": [
    "\"\"\" Test 2D tensor \"\"\"\n",
    "descriptor = [\"B\", \"U\"]\n",
    "ranks = [\"M\", \"K\"]\n",
    "test_data = [[0, 0], [0, 3]]\n",
    "test_mtx = Tensor.fromUncompressed(ranks, test_data)\n",
    "try_all_formats(test_mtx, descriptor, [])"
   ]
  },
  {
   "cell_type": "code",
   "execution_count": null,
   "metadata": {},
   "outputs": [],
   "source": []
  }
 ],
 "metadata": {
  "kernelspec": {
   "display_name": "Python 3",
   "language": "python",
   "name": "python3"
  },
  "language_info": {
   "codemirror_mode": {
    "name": "ipython",
    "version": 3
   },
   "file_extension": ".py",
   "mimetype": "text/x-python",
   "name": "python",
   "nbconvert_exporter": "python",
   "pygments_lexer": "ipython3",
   "version": "3.6.9"
  }
 },
 "nbformat": 4,
 "nbformat_minor": 4
}
