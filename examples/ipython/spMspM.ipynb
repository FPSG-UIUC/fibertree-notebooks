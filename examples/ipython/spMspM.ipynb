{
 "cells": [
  {
   "cell_type": "markdown",
   "metadata": {
    "slideshow": {
     "slide_type": "-"
    }
   },
   "source": [
    "# SpMSpM\n",
    "\n",
    "First, include some libraries"
   ]
  },
  {
   "cell_type": "code",
   "execution_count": null,
   "metadata": {},
   "outputs": [],
   "source": [
    "# Library imports\n",
    "\n",
    "#\n",
    "# Import tensor class\n",
    "#\n",
    "from fibertree import Fiber, Tensor, TensorImage\n",
    "\n",
    "#\n",
    "# Import display classes/utilities\n",
    "#\n",
    "from IPython.display import display # to display images\n",
    "\n",
    "def displayTensor(t):\n",
    "    display(TensorImage(t).im)\n",
    "\n",
    "#\n",
    "# Helper for data directory\n",
    "#\n",
    "import os\n",
    "\n",
    "data_dir = \"../data\"\n",
    "\n",
    "def datafileName(filename):\n",
    "    return os.path.join(data_dir, filename)\n",
    "\n"
   ]
  },
  {
   "cell_type": "markdown",
   "metadata": {},
   "source": [
    "## Read matrices\n"
   ]
  },
  {
   "cell_type": "code",
   "execution_count": null,
   "metadata": {},
   "outputs": [],
   "source": [
    "a = Tensor(os.path.join(data_dir, \"sparse-matrix-a.yaml\"))\n",
    "b = Tensor(os.path.join(data_dir, \"sparse-matrix-b.yaml\"))\n",
    "\n",
    "displayTensor(a)\n",
    "displayTensor(b)\n",
    "\n",
    "    \n",
    "z_verify = Tensor(\"../data/sparse-matrix-a_times_b.yaml\")\n"
   ]
  },
  {
   "cell_type": "markdown",
   "metadata": {},
   "source": [
    "## A stationary - column major - matix multipy\n"
   ]
  },
  {
   "cell_type": "code",
   "execution_count": null,
   "metadata": {
    "scrolled": false
   },
   "outputs": [],
   "source": [
    "z = Tensor(rank_ids=[\"M\", \"N\"])\n",
    "\n",
    "displayTensor(z)\n",
    "\n",
    "\n",
    "a_m = a.root()\n",
    "b_k = b.root()\n",
    "z_m = z.root()\n",
    "\n",
    "a_m.print(\"a_m\")\n",
    "b_k.print(\"b_k\")\n",
    "z_m.print(\"z_m\")\n",
    "\n",
    "print(\"spMspM\")\n",
    "\n",
    "print(\"Processing z_m << a_m -> m, (z_n_ref, a_k)\")\n",
    "for m, (z_n_ref, a_k) in z_m << a_m:\n",
    "    print(\"    %s, (%s, %s)\" % (m, z_n_ref, a_k))\n",
    "    \n",
    "    print(\"    Processing a_k & b_k -> k, (a_val, b_n)\")\n",
    "    for k, (a_val, b_n) in  a_k & b_k:\n",
    "        print(\"        %s, (%s, %s)\" % (k, a_val, b_n))\n",
    "\n",
    "        print(\"        Processing z_n_ref << b_n -> n, (z_ref, (a_val, b_val)\")\n",
    "        for n, (z_ref, (b_val)) in z_n_ref << b_n:\n",
    "            print(\"            %s, (%s, %s)\" % (n, z_ref, b_val))\n",
    "            z_ref += a_val * b_val\n",
    "\n",
    "z.print(\"z\")\n",
    "displayTensor(z)\n"
   ]
  },
  {
   "cell_type": "markdown",
   "metadata": {},
   "source": [
    "## Check result"
   ]
  },
  {
   "cell_type": "code",
   "execution_count": null,
   "metadata": {},
   "outputs": [],
   "source": [
    "z_verify == z"
   ]
  },
  {
   "cell_type": "markdown",
   "metadata": {},
   "source": [
    "## A stationary - column major - matix multipy - reversed\n"
   ]
  },
  {
   "cell_type": "code",
   "execution_count": null,
   "metadata": {
    "scrolled": false
   },
   "outputs": [],
   "source": [
    "z = Tensor(rank_ids=[\"M\", \"N\"])\n",
    "\n",
    "displayTensor(z)\n",
    "\n",
    "\n",
    "a_m = a.root()\n",
    "b_k = b.root()\n",
    "z_m = z.root()\n",
    "\n",
    "a_m.print(\"a_m\")\n",
    "b_k.print(\"b_k\")\n",
    "z_m.print(\"z_m\")\n",
    "\n",
    "print(\"spMspM\")\n",
    "\n",
    "print(\"Processing z_m << a_m -> m, (z_n_ref, a_k)\")\n",
    "for m, (z_n_ref, a_k) in reversed(z_m << a_m):\n",
    "    print(\"    %s, (%s, %s)\" % (m, z_n_ref, a_k))\n",
    "    \n",
    "    print(\"    Processing a_k & b_k -> k, (a_val, b_n)\")\n",
    "    for k, (a_val, b_n) in  reversed(a_k & b_k):\n",
    "        print(\"        %s, (%s, %s)\" % (k, a_val, b_n))\n",
    "\n",
    "        print(\"        Processing z_n_ref << b_n -> n, (z_ref, (a_val, b_val)\")\n",
    "        for n, (z_ref, (b_val)) in reversed(z_n_ref << b_n):\n",
    "            print(\"            %s, (%s, %s)\" % (n, z_ref, b_val))\n",
    "            z_ref += a_val * b_val\n",
    "\n",
    "z.print(\"z\")\n",
    "displayTensor(z)\n"
   ]
  },
  {
   "cell_type": "markdown",
   "metadata": {},
   "source": [
    "## Check result"
   ]
  },
  {
   "cell_type": "code",
   "execution_count": null,
   "metadata": {},
   "outputs": [],
   "source": [
    "z_verify == z"
   ]
  },
  {
   "cell_type": "markdown",
   "metadata": {},
   "source": [
    "## Testing area\n",
    "\n",
    "For running alternative algorithms"
   ]
  },
  {
   "cell_type": "code",
   "execution_count": null,
   "metadata": {},
   "outputs": [],
   "source": []
  },
  {
   "cell_type": "code",
   "execution_count": null,
   "metadata": {},
   "outputs": [],
   "source": []
  }
 ],
 "metadata": {
  "kernelspec": {
   "display_name": "Python 3",
   "language": "python",
   "name": "python3"
  },
  "language_info": {
   "codemirror_mode": {
    "name": "ipython",
    "version": 3
   },
   "file_extension": ".py",
   "mimetype": "text/x-python",
   "name": "python",
   "nbconvert_exporter": "python",
   "pygments_lexer": "ipython3",
   "version": "3.6.7"
  }
 },
 "nbformat": 4,
 "nbformat_minor": 2
}
