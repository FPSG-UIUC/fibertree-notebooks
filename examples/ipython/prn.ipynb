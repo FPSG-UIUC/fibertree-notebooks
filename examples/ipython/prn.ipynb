{
 "cells": [
  {
   "cell_type": "markdown",
   "metadata": {
    "slideshow": {
     "slide_type": "-"
    }
   },
   "source": [
    "# Exploring Page Rank Nibble (Untiled and Runtime Incremental Tiling)\n",
    "\n",
    "First, include some libraries"
   ]
  },
  {
   "cell_type": "code",
   "execution_count": null,
   "metadata": {},
   "outputs": [],
   "source": [
    "# Run boilerplate code to set up environment\n",
    "\n",
    "%run prelude.py"
   ]
  },
  {
   "cell_type": "markdown",
   "metadata": {},
   "source": [
    "#  Create Random Matrix\n"
   ]
  },
  {
   "cell_type": "code",
   "execution_count": null,
   "metadata": {},
   "outputs": [],
   "source": [
    "import random \n",
    "\n",
    "random.seed(0)\n",
    "def GenerateRandomGraph(numVertex=8, sparsity=25, symmetric=True):\n",
    "    adjMatrix = [[0 for d in range(numVertex)] for s in range(numVertex)]\n",
    "    \n",
    "    genNode = int(numVertex * numVertex * sparsity / 100)\n",
    "    \n",
    "    for n in range(genNode):\n",
    "        while True:\n",
    "            src = random.randrange(numVertex)\n",
    "            dst = random.randrange(numVertex)\n",
    "            if src != dst:\n",
    "                break\n",
    "                \n",
    "        adjMatrix[src][dst] = 1\n",
    "        if symmetric:\n",
    "            adjMatrix[dst][src] = 1\n",
    "    \n",
    "    return adjMatrix"
   ]
  },
  {
   "cell_type": "markdown",
   "metadata": {},
   "source": [
    "# Create Random Frontier"
   ]
  },
  {
   "cell_type": "code",
   "execution_count": null,
   "metadata": {},
   "outputs": [],
   "source": [
    "import random \n",
    "\n",
    "random.seed(0)\n",
    "def GenerateRandomFrontier(numVertex=8, frontierSize=8):\n",
    "    frontier = [ 0 for v in range(numVertex) ]\n",
    "\n",
    "    for n in range(frontierSize):\n",
    "        while True:\n",
    "            v = random.randrange(numVertex)\n",
    "            if frontier[v] != 1:\n",
    "                break\n",
    "        frontier[v] = 1\n",
    "        \n",
    "    frontier = Tensor.fromUncompressed([\"F\"], frontier)\n",
    "        \n",
    "    return frontier"
   ]
  },
  {
   "cell_type": "markdown",
   "metadata": {},
   "source": [
    "# Generate Graph Inputs"
   ]
  },
  {
   "cell_type": "code",
   "execution_count": null,
   "metadata": {},
   "outputs": [],
   "source": [
    "#\n",
    "# Function to create graph inputs\n",
    "#\n",
    "\n",
    "\n",
    "# Create inputs based on the slides that Aamer used to do the initial SPMV mapping on Symphony\n",
    "def create_inputs(display=True, numNode=8):\n",
    "    # Adjacency matrix - Ranks \"S\" (source) and \"D\" (destination)\n",
    "\n",
    "    matrix = GenerateRandomGraph(numNode, 25)\n",
    "    adjMat = Tensor.fromUncompressed([ \"S\", \"D\"], matrix)\n",
    "\n",
    "    # Vector\n",
    "    srcData = Tensor.fromUncompressed([ \"S\" ], [ 100 for s in range(numNode) ])\n",
    "\n",
    "    # Vector\n",
    "    dstData = Tensor.fromUncompressed([ \"D\" ], [ 0 for d in range(numNode) ])\n",
    "    \n",
    "    if display:\n",
    "        displayTensor(adjMat)\n",
    "\n",
    "    if display:\n",
    "        displayTensor(srcData)\n",
    "\n",
    "    if display:\n",
    "        displayTensor(dstData)\n",
    "\n",
    "    return (dstData, adjMat, srcData)"
   ]
  },
  {
   "cell_type": "markdown",
   "metadata": {},
   "source": [
    "# Naive Untiled Page Rank Nibble"
   ]
  },
  {
   "cell_type": "code",
   "execution_count": null,
   "metadata": {},
   "outputs": [],
   "source": [
    "V  = 8\n",
    "\n",
    "#Create inputs\n",
    "(output, adjMat, input) = create_inputs(False, V)\n",
    "\n",
    "#Create frontier\n",
    "frontier = GenerateRandomFrontier(V, 6)\n",
    "\n",
    "adjMat_s = adjMat.getRoot();\n",
    "f_s      = frontier.getRoot();\n",
    "input_v  = input.getRoot();\n",
    "output_v = output.getRoot();\n",
    "\n",
    "for s, ((d_fiber, _), input_val) in ((adjMat_s & f_s) & input_v):\n",
    "    degree   = d_fiber.__len__()\n",
    "    propVal  = input_val / degree\n",
    "    for d, (output_ref, _), in (output_v << d_fiber):\n",
    "        output_ref += propVal\n",
    "\n",
    "displayTensor(adjMat_s)\n",
    "displayTensor(f_s)\n",
    "displayTensor(output_v)"
   ]
  },
  {
   "cell_type": "markdown",
   "metadata": {},
   "source": [
    "# Runtime Incremental Tiling"
   ]
  },
  {
   "cell_type": "code",
   "execution_count": null,
   "metadata": {},
   "outputs": [],
   "source": [
    "V  = 8\n",
    "\n",
    "F0 = 2\n",
    "D0 = 4\n",
    "\n",
    "print(\"Tiling Parameters:\")\n",
    "print(\"\\tV  = \", V)\n",
    "print(\"\\tD0 = \", D0)\n",
    "print(\"\\tF0 = \", F0)\n",
    "\n",
    "D1 = int((V/D0+1,V/D0) [(V%D0) == 0])\n",
    "\n",
    "print(\"\\tD1 = \", D1)\n",
    "\n",
    "#Create inputs\n",
    "#(output, adjMat, input) = create_inputs(False, V)\n",
    "\n",
    "#Create frontier\n",
    "#frontier = GenerateRandomFrontier(V, 1)\n",
    "\n",
    "adjMat_s = adjMat.getRoot();\n",
    "f_s      = frontier.getRoot();\n",
    "input_v  = input.getRoot();\n",
    "output_v = output.getRoot();\n",
    "\n",
    "print(\"\\n\\nFrontier: \")\n",
    "displayTensor(f_s)\n",
    "frontier_split = f_s.splitEqual(F0)\n",
    "\n",
    "print(\"\\n\\nFrontier Split Equally: \")\n",
    "displayTensor(frontier_split)\n",
    "\n",
    "print(\"\\n\\nGraph: \")\n",
    "displayTensor(adjMat_s)\n",
    "\n",
    "print(\"\\n\\nProcessing: \")\n",
    "# for each equally split frontier tile\n",
    "for f1, (fr_tile) in (frontier_split):\n",
    "    \n",
    "    # for each d1 tile\n",
    "    for d1 in range(D1):\n",
    "        \n",
    "        # Dynamically create a filter fiber for the range of d0 coordinates to process for this d1 tile\n",
    "        d1_filter = Fiber(coords=[d0 for d0 in range(d1*D0, (d1+1)*D0)], initial=1 )\n",
    "        \n",
    "        # for each source (i.e., element of the frontier tile)\n",
    "        for s, ((d_fiber, _), input_val) in ((adjMat_s & fr_tile) & input_v):\n",
    "            \n",
    "            # determine the degree and the value to propogate\n",
    "            degree   = d_fiber.__len__()\n",
    "            propVal  = input_val / degree\n",
    "\n",
    "            # propagate for each destination (that belongs to the current d1 tile)\n",
    "            for d, (output_ref, _), in (output_v << (d_fiber & d1_filter)):\n",
    "                #print(\"Processing: s =\", s, \" d = \", d)\n",
    "                output_ref += propVal\n",
    "                \n",
    "\n",
    "print(\"\\n\\nGraph Output: \")\n",
    "displayTensor(output_v)"
   ]
  }
 ],
 "metadata": {
  "kernelspec": {
   "display_name": "Python 3",
   "language": "python",
   "name": "python3"
  },
  "language_info": {
   "codemirror_mode": {
    "name": "ipython",
    "version": 3
   },
   "file_extension": ".py",
   "mimetype": "text/x-python",
   "name": "python",
   "nbconvert_exporter": "python",
   "pygments_lexer": "ipython3",
   "version": "3.6.9"
  }
 },
 "nbformat": 4,
 "nbformat_minor": 2
}
