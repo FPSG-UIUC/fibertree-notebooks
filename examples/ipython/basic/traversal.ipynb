{
 "cells": [
  {
   "cell_type": "markdown",
   "metadata": {},
   "source": [
    "## Tensor traversal\n",
    "\n",
    "Illustrate both concordant and discordant traversal of the ranks of a rank-2 tensor.\n",
    "\n",
    "First, include some libraries\n"
   ]
  },
  {
   "cell_type": "code",
   "execution_count": null,
   "metadata": {},
   "outputs": [],
   "source": [
    "%run ../prelude.py --style=tree --animation=movie"
   ]
  },
  {
   "cell_type": "markdown",
   "metadata": {},
   "source": [
    "## Initialize setup\n",
    "\n",
    "The following cell just creates some sliders to control the creation of the input operand tensors."
   ]
  },
  {
   "cell_type": "code",
   "execution_count": null,
   "metadata": {},
   "outputs": [],
   "source": [
    "# Initial values\n",
    "\n",
    "M = 8\n",
    "K = 6\n",
    "density = [0.9, 0.8]\n",
    "seed = 10\n",
    "\n",
    "def set_params(rank_M, rank_K, tensor_density, rand_seed):\n",
    "    global M\n",
    "    global K\n",
    "    global density\n",
    "    global seed\n",
    "    \n",
    "    M = rank_M\n",
    "    K = rank_K\n",
    "    \n",
    "    if tensor_density == 'sparse':\n",
    "        density = [0.9, 0.8]\n",
    "    elif tensor_density == 'sparser':\n",
    "        density = [0.9, 0.4]\n",
    "    else:\n",
    "        density = [1.0, 1.0]\n",
    "        \n",
    "    seed = rand_seed\n",
    "\n",
    "interactive(set_params,\n",
    "            rank_M=widgets.IntSlider(min=2, max=12, step=1, value=M),\n",
    "            rank_K=widgets.IntSlider(min=2, max=12, step=1, value=K),\n",
    "            tensor_density=['sparser', 'sparse', 'dense'],\n",
    "            rand_seed=widgets.IntSlider(min=0, max=100, step=1, value=seed))"
   ]
  },
  {
   "cell_type": "markdown",
   "metadata": {},
   "source": [
    "## Create an input tensors\n",
    "\n",
    "Because this notebook tends to use both the original and rank swapped versions of the operands, the tensor names are suffixed with the ordered names of the ranks.\n"
   ]
  },
  {
   "cell_type": "code",
   "execution_count": null,
   "metadata": {},
   "outputs": [],
   "source": [
    "a_MK = Tensor.fromRandom([\"M\", \"K\"], [M, K], density, 5, seed=seed)\n",
    "a_MK.setColor(\"blue\").setName(\"a_MK\")\n",
    "displayTensor(a_MK)\n"
   ]
  },
  {
   "cell_type": "markdown",
   "metadata": {},
   "source": [
    "## Concordant traversal of the entire tensor\n",
    "\n",
    "Concordant traversal of the entire tensor, i.e., the top rank coordinate (__m__) moving slowest, just requires nested loops that interate through the fibers in the tensor."
   ]
  },
  {
   "cell_type": "code",
   "execution_count": null,
   "metadata": {},
   "outputs": [],
   "source": [
    "a_m = a_MK.getRoot()\n",
    "\n",
    "canvas = createCanvas(a_MK)\n",
    "print(f\"(M, K) -> Value\")\n",
    "\n",
    "for m, a_k in a_m:\n",
    "    for k, a_val in a_k:\n",
    "        print(f\"({m}, {k}) -> {a_val}\")\n",
    "        addFrame(canvas, (m,k))\n",
    "        \n",
    "displayCanvas(canvas)\n",
    "        "
   ]
  },
  {
   "cell_type": "markdown",
   "metadata": {},
   "source": [
    "## Discordant traversal of the entire tensor\n",
    "\n",
    "If we want to traverse the tensor in a reverse rank order, i.e., the lower rank coordinate (__k__) moving slowest, we cannot iterate through the fibers in the desired order, so we must iterate over the coordinates, and use __Fiber.getPayload()__ to get the values in the desired order.\n",
    "\n",
    "Note: using the keyword \"allocate=False\" causes __Fiber.getPayload()__ to return __None__ for empty coordinates."
   ]
  },
  {
   "cell_type": "code",
   "execution_count": null,
   "metadata": {},
   "outputs": [],
   "source": [
    "a_m = a_MK.getRoot()\n",
    "\n",
    "canvas = createCanvas(a_MK)\n",
    "print(f\"(K, M) -> Value\")\n",
    "\n",
    "for k in range(K):\n",
    "    for m in range(M):\n",
    "        a_val = a_MK.getPayload(m, k, allocate=False)\n",
    "        if a_val is not None:\n",
    "            print(f\"({k}, {m}) -> {a_val}\")\n",
    "            addFrame(canvas, (m, k))\n",
    "        \n",
    "displayCanvas(canvas)\n",
    "        "
   ]
  },
  {
   "cell_type": "markdown",
   "metadata": {},
   "source": [
    "## Concordant traversal of a given tile in a tensor\n",
    "\n",
    "Given an _axis aligned hyper-rectangle_ (AAHR) specified as a start coordinate and size (in coordinates) for each rank, we can traverse the tile using __Fiber.getRange()__."
   ]
  },
  {
   "cell_type": "code",
   "execution_count": null,
   "metadata": {},
   "outputs": [],
   "source": [
    "# sample delta AAHR specified as a start coord and size\n",
    "\n",
    "m_range = [2,4]\n",
    "k_range = [4,2]\n",
    "\n",
    "a_m = a_MK.getRoot()\n",
    "\n",
    "canvas = createCanvas(a_MK)\n",
    "print(f\"(M, K) -> Value\")\n",
    "\n",
    "for m, a_k in a_m.getRange(*m_range):\n",
    "    for k, a_val in a_k.getRange(*k_range):\n",
    "        print(f\"({m}, {k}) -> {a_val}\")\n",
    "        addFrame(canvas, (m,k))\n",
    "        \n",
    "displayCanvas(canvas)\n",
    "        "
   ]
  },
  {
   "cell_type": "markdown",
   "metadata": {},
   "source": [
    "## Disconcordant traversal of a given tile in a tensor\n",
    "\n",
    "Discordant traversal of a AAHR in a tensor can be accomplished using __Fiber.getPayload()__."
   ]
  },
  {
   "cell_type": "code",
   "execution_count": null,
   "metadata": {},
   "outputs": [],
   "source": [
    "# sample delta AAHR specified as a start coord and size\n",
    "\n",
    "m_range = [2,4]\n",
    "k_range = [4,2]\n",
    "\n",
    "a_m = a_MK.getRoot()\n",
    "\n",
    "canvas = createCanvas(a_MK)\n",
    "print(f\"(K, M) -> Value\")\n",
    "\n",
    "for k in range(k_range[0], k_range[0]+k_range[1]):\n",
    "    for m in range(m_range[0],m_range[0]+m_range[1]):\n",
    "        a_val = a_MK.getPayload(m, k, allocate=False)\n",
    "        if a_val is not None:\n",
    "            print(f\"({k}, {m}) -> {a_val}\")\n",
    "            addFrame(canvas, (m, k))\n",
    "        \n",
    "displayCanvas(canvas)\n",
    "        "
   ]
  },
  {
   "cell_type": "markdown",
   "metadata": {},
   "source": [
    "## Testing Area"
   ]
  },
  {
   "cell_type": "code",
   "execution_count": null,
   "metadata": {},
   "outputs": [],
   "source": []
  },
  {
   "cell_type": "code",
   "execution_count": null,
   "metadata": {},
   "outputs": [],
   "source": []
  },
  {
   "cell_type": "code",
   "execution_count": null,
   "metadata": {},
   "outputs": [],
   "source": []
  }
 ],
 "metadata": {
  "kernelspec": {
   "display_name": "Python 3",
   "language": "python",
   "name": "python3"
  },
  "language_info": {
   "codemirror_mode": {
    "name": "ipython",
    "version": 3
   },
   "file_extension": ".py",
   "mimetype": "text/x-python",
   "name": "python",
   "nbconvert_exporter": "python",
   "pygments_lexer": "ipython3",
   "version": "3.6.7"
  }
 },
 "nbformat": 4,
 "nbformat_minor": 4
}
