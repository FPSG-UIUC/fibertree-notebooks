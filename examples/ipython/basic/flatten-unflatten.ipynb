{
 "cells": [
  {
   "cell_type": "markdown",
   "metadata": {},
   "source": [
    "# Flatten/Unflatten Tensors\n",
    "\n",
    "First, include some libaries"
   ]
  },
  {
   "cell_type": "code",
   "execution_count": null,
   "metadata": {},
   "outputs": [],
   "source": [
    "%run ../prelude.py"
   ]
  },
  {
   "cell_type": "markdown",
   "metadata": {},
   "source": [
    "## Flatten/Unflatten tests\n",
    "\n",
    "Following are a set of cells where a tensor is flattened and then unflattened back to is orignal form. "
   ]
  },
  {
   "cell_type": "code",
   "execution_count": null,
   "metadata": {
    "scrolled": false
   },
   "outputs": [],
   "source": [
    "t0 = Tensor(\"../../data/draw-a.yaml\")\n",
    "#print(f\"{t1.getRoot():n*}\")\n",
    "print(t0.getName())\n",
    "print(t0.getRankIds())\n",
    "print(t0.getShape())\n",
    "displayTensor(t0)\n",
    "\n",
    "t1 = Tensor(\"../../data/draw-b.yaml\")\n",
    "#print(f\"{t2.getRoot():n*}\")\n",
    "print(t1.getName())\n",
    "print(t1.getRankIds())\n",
    "print(t1.getShape())\n",
    "displayTensor(t1)"
   ]
  },
  {
   "cell_type": "code",
   "execution_count": null,
   "metadata": {},
   "outputs": [],
   "source": [
    "f = t0.flattenRanks()\n",
    "print(f\"{f:n*}\")\n",
    "displayTensor(f)"
   ]
  },
  {
   "cell_type": "code",
   "execution_count": null,
   "metadata": {
    "scrolled": false
   },
   "outputs": [],
   "source": [
    "f01 = t0.flattenRanks(depth=0, levels=1)\n",
    "print(f\"{f01:n*}\")\n",
    "displayTensor(f01)\n",
    "\n",
    "u01 = f01.unflattenRanks(depth=0, levels=1)\n",
    "displayTensor(u01)\n",
    "\n",
    "print(u01 == t0)"
   ]
  },
  {
   "cell_type": "code",
   "execution_count": null,
   "metadata": {},
   "outputs": [],
   "source": [
    "f02 = t0.flattenRanks(depth=0, levels=2)\n",
    "print(f\"{f02:n*}\")\n",
    "displayTensor(f02)\n",
    "\n",
    "\n",
    "u02a = f02.unflattenRanks(depth=0, levels=1)\n",
    "u02b = u02a.unflattenRanks(depth=1, levels=1)\n",
    "displayTensor(u02b)\n",
    "\n",
    "print(u02b == t0)\n",
    "\n",
    "u02 = f02.unflattenRanks(depth=0, levels=2)\n",
    "\n",
    "print(u02 == t0)"
   ]
  },
  {
   "cell_type": "code",
   "execution_count": null,
   "metadata": {},
   "outputs": [],
   "source": [
    "f12 = t0.flattenRanks(depth=1, levels=1)\n",
    "print(f\"{f12:n*}\")\n",
    "displayTensor(f12)\n",
    "\n",
    "u12 = f12.unflattenRanks(depth=1, levels=1)\n",
    "print(u12 == t0)\n",
    "displayTensor(u12)\n",
    "\n",
    "print(u12 == t0)"
   ]
  },
  {
   "cell_type": "code",
   "execution_count": null,
   "metadata": {},
   "outputs": [],
   "source": [
    "t2 = Tensor.fromFiber([\"A\", \"B\", \"C\", \"D\"], \n",
    "                      Fiber([1, 4], [t0.getRoot(), t1.getRoot()]),\n",
    "                      name=\"t2\")\n",
    "displayTensor(t2)"
   ]
  },
  {
   "cell_type": "code",
   "execution_count": null,
   "metadata": {},
   "outputs": [],
   "source": [
    "f13 = t2.flattenRanks(depth=1, levels=2)\n",
    "print(f\"{f13:n*}\")\n",
    "displayTensor(f13)\n",
    "\n",
    "u13 = f13.unflattenRanks(depth=1, levels=2)\n",
    "displayTensor(u13)\n",
    "\n",
    "print(u13 == t2)"
   ]
  },
  {
   "cell_type": "code",
   "execution_count": null,
   "metadata": {},
   "outputs": [],
   "source": [
    "f04 = t2.flattenRanks(depth=0, levels=3)\n",
    "print(f\"{f04:n*}\")\n",
    "displayTensor(f04)\n",
    "\n",
    "u04 = f04.unflattenRanks(depth=0, levels=3)\n",
    "displayTensor(u04)\n",
    "\n",
    "print(u04 == t2)"
   ]
  },
  {
   "cell_type": "code",
   "execution_count": null,
   "metadata": {},
   "outputs": [],
   "source": [
    "\n",
    "\n",
    "\n",
    "\n"
   ]
  },
  {
   "cell_type": "code",
   "execution_count": null,
   "metadata": {},
   "outputs": [],
   "source": []
  }
 ],
 "metadata": {
  "kernelspec": {
   "display_name": "Python 3",
   "language": "python",
   "name": "python3"
  },
  "language_info": {
   "codemirror_mode": {
    "name": "ipython",
    "version": 3
   },
   "file_extension": ".py",
   "mimetype": "text/x-python",
   "name": "python",
   "nbconvert_exporter": "python",
   "pygments_lexer": "ipython3",
   "version": "3.6.7"
  }
 },
 "nbformat": 4,
 "nbformat_minor": 4
}
