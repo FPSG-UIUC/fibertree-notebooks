{
 "cells": [
  {
   "cell_type": "markdown",
   "metadata": {
    "slideshow": {
     "slide_type": "-"
    }
   },
   "source": [
    "# Split operations\n",
    "\n",
    "First, include some libraries"
   ]
  },
  {
   "cell_type": "code",
   "execution_count": null,
   "metadata": {},
   "outputs": [],
   "source": [
    "# Library imports\n",
    "\n",
    "#\n",
    "# Import tensor class\n",
    "#\n",
    "from fibertree import Fiber, Tensor, TensorImage\n",
    "\n",
    "#\n",
    "# Import display classes/utilities\n",
    "#\n",
    "from IPython.display import display # to display images\n",
    "\n",
    "def displayTensor(t):\n",
    "    display(TensorImage(t).im)\n",
    "\n",
    "#\n",
    "# Helper for data directory\n",
    "#\n",
    "import os\n",
    "\n",
    "data_dir = \"../data\"\n",
    "\n",
    "def datafileName(filename):\n",
    "    return os.path.join(data_dir, filename)\n",
    "\n"
   ]
  },
  {
   "cell_type": "markdown",
   "metadata": {},
   "source": [
    "## Split a tensor "
   ]
  },
  {
   "cell_type": "code",
   "execution_count": null,
   "metadata": {},
   "outputs": [],
   "source": [
    "# 1D \n",
    "\n",
    "t_u = [ 2, 4, 0, 6, 7, 0, 10, 0, 0, 20, 0, 0, 0, 0, 0, 0, 0, 23]\n",
    "t = Tensor.fromUncompressed([\"X\"], t_u)\n",
    "displayTensor(t)\n",
    "\n",
    "t_x = t.root()"
   ]
  },
  {
   "cell_type": "markdown",
   "metadata": {},
   "source": [
    "### Split into equal parts (in coordinate space)"
   ]
  },
  {
   "cell_type": "code",
   "execution_count": null,
   "metadata": {
    "scrolled": false
   },
   "outputs": [],
   "source": [
    "t_x_split_uniform = t_x.splitUniform(4)\n",
    "\n",
    "print(\"Before\")\n",
    "displayTensor(t)\n",
    "print(\"After - new dense rank added at top\")\n",
    "displayTensor(t_x_split_uniform)"
   ]
  },
  {
   "cell_type": "markdown",
   "metadata": {},
   "source": [
    "### Split into equal parts (in position space)"
   ]
  },
  {
   "cell_type": "code",
   "execution_count": null,
   "metadata": {
    "scrolled": false
   },
   "outputs": [],
   "source": [
    "t_x_split_equal = t_x.splitEqual(2)\n",
    "\n",
    "print(\"Before\")\n",
    "displayTensor(t)\n",
    "print(\"After - new dense rank added at top\")\n",
    "displayTensor(t_x_split_equal)"
   ]
  },
  {
   "cell_type": "markdown",
   "metadata": {},
   "source": [
    "## Split after flattening"
   ]
  },
  {
   "cell_type": "markdown",
   "metadata": {},
   "source": [
    "### Generate matrices"
   ]
  },
  {
   "cell_type": "code",
   "execution_count": null,
   "metadata": {},
   "outputs": [],
   "source": [
    "u_t = [ [ [ 1, 2, 3, 0],\n",
    "          [ 1, 0, 3, 4],\n",
    "          [ 0, 2, 3, 4],\n",
    "          [ 1, 2, 0, 4] ],\n",
    "        [ [ 0, 0, 0, 0],\n",
    "          [ 0, 0, 0, 0],\n",
    "          [ 0, 0, 0, 0],\n",
    "          [ 0, 0, 0, 0] ],\n",
    "        [ [ 1, 2, 3, 0],\n",
    "          [ 1, 0, 3, 4],\n",
    "          [ 0, 0, 0, 0],\n",
    "          [ 1, 2, 0, 4] ] ]\n",
    "\n",
    "t = Tensor.fromUncompressed([\"X\", \"Y\", \"Z\"], u_t)\n",
    "\n",
    "displayTensor(t)"
   ]
  },
  {
   "cell_type": "markdown",
   "metadata": {},
   "source": [
    "### Illustrate flattening and unflattening"
   ]
  },
  {
   "cell_type": "code",
   "execution_count": null,
   "metadata": {},
   "outputs": [],
   "source": [
    "a = t.root()\n",
    "\n",
    "print(\"Original\")\n",
    "displayTensor(a)\n",
    "\n",
    "a_flattened = a.flattenRanks()\n",
    "\n",
    "print(\"Flattened\")\n",
    "displayTensor(a_flattened)\n",
    "\n",
    "a_unflattened = a_flattened.unflattenRanks()\n",
    "\n",
    "print(\"Unflattend\")\n",
    "displayTensor(a_unflattened)\n",
    "\n",
    "print(\"Transform from flattened back to unflattned worked: %s\" % (a == a_unflattened))"
   ]
  },
  {
   "cell_type": "markdown",
   "metadata": {},
   "source": [
    "### Split the flattened tensor into equal parts"
   ]
  },
  {
   "cell_type": "code",
   "execution_count": null,
   "metadata": {},
   "outputs": [],
   "source": [
    "# Using a_flattened created in cell above..\n",
    "\n",
    "a_flattened_split = a_flattened.splitEqual(3)\n",
    "\n",
    "print(\"Before\")\n",
    "displayTensor(a_flattened)\n",
    "print(\"After - new dense rank added at top\")\n",
    "displayTensor(a_flattened_split)"
   ]
  },
  {
   "cell_type": "markdown",
   "metadata": {},
   "source": [
    "### Unflatten the split tensor"
   ]
  },
  {
   "cell_type": "code",
   "execution_count": null,
   "metadata": {},
   "outputs": [],
   "source": [
    "# Uses a_flattened_split created in cell above\n",
    "\n",
    "print(\"Original\")\n",
    "displayTensor(a)\n",
    "print(\"Flattend split\")\n",
    "displayTensor(a_flattened_split)\n",
    "\n",
    "# Note: a_flattened_split is about to be be modified\n",
    "a_flattened_split.updatePayloads(Fiber.unflattenRanks)\n",
    "\n",
    "print(\"Final - note repeated coordinates in 2nd rank from top\")\n",
    "displayTensor(a_flattened_split)"
   ]
  },
  {
   "cell_type": "markdown",
   "metadata": {},
   "source": [
    "## Testing area\n",
    "\n",
    "For running alternative algorithms"
   ]
  },
  {
   "cell_type": "code",
   "execution_count": null,
   "metadata": {},
   "outputs": [],
   "source": []
  },
  {
   "cell_type": "code",
   "execution_count": null,
   "metadata": {},
   "outputs": [],
   "source": []
  }
 ],
 "metadata": {
  "kernelspec": {
   "display_name": "Python 3",
   "language": "python",
   "name": "python3"
  },
  "language_info": {
   "codemirror_mode": {
    "name": "ipython",
    "version": 3
   },
   "file_extension": ".py",
   "mimetype": "text/x-python",
   "name": "python",
   "nbconvert_exporter": "python",
   "pygments_lexer": "ipython3",
   "version": "3.6.7"
  }
 },
 "nbformat": 4,
 "nbformat_minor": 2
}
