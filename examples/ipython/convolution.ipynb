{
 "cells": [
  {
   "cell_type": "markdown",
   "metadata": {
    "slideshow": {
     "slide_type": "-"
    }
   },
   "source": [
    "# Exploring convolution\n",
    "\n",
    "First, include some libraries"
   ]
  },
  {
   "cell_type": "code",
   "execution_count": 1,
   "metadata": {},
   "outputs": [
    {
     "name": "stdout",
     "output_type": "stream",
     "text": [
      "Prelude loaded OK\n"
     ]
    }
   ],
   "source": [
    "# Run boilerplate code to set up environment\n",
    "\n",
    "%run prelude.py\n",
    "#%run prelude.py --no-show-animations"
   ]
  },
  {
   "cell_type": "markdown",
   "metadata": {},
   "source": [
    "## Convolution Inputs\n"
   ]
  },
  {
   "cell_type": "code",
   "execution_count": 2,
   "metadata": {},
   "outputs": [
    {
     "data": {
      "image/png": "[encoded data removed]",
      "text/plain": [
       "<PIL.Image.Image image mode=RGB size=560x250 at 0x7F01472166D8>"
      ]
     },
     "metadata": {},
     "output_type": "display_data"
    },
    {
     "data": {
      "image/png": "[encoded data removed]",
      "text/plain": [
       "<PIL.Image.Image image mode=RGB size=880x250 at 0x7F013E67EE80>"
      ]
     },
     "metadata": {},
     "output_type": "display_data"
    }
   ],
   "source": [
    "w = Tensor(os.path.join(data_dir, \"conv-weights-a.yaml\"))\n",
    "i = Tensor(os.path.join(data_dir, \"conv-activations-a.yaml\"))\n",
    "\n",
    "displayTensor(w)\n",
    "displayTensor(i)"
   ]
  },
  {
   "cell_type": "markdown",
   "metadata": {},
   "source": [
    "## Weight Stationary"
   ]
  },
  {
   "cell_type": "code",
   "execution_count": 3,
   "metadata": {
    "scrolled": false
   },
   "outputs": [
    {
     "name": "stdout",
     "output_type": "stream",
     "text": [
      "Convolution\n",
      "Processing weight: (0, (<1>))\n",
      "  Processing output (0, (<0>, <1>)\n",
      "  Processing output (2, (<0>, <2>)\n",
      "  Processing output (4, (<0>, <3>)\n",
      "  Processing output (5, (<0>, <1>)\n",
      "Processing weight: (2, (<3>))\n",
      "  Processing output (0, (<1>, <2>)\n",
      "  Processing output (2, (<2>, <3>)\n",
      "  Processing output (3, (<0>, <1>)\n",
      "  Processing output (4, (<3>, <2>)\n",
      "  Processing output (5, (<1>, <3>)\n"
     ]
    },
    {
     "data": {
      "text/html": [
       "\n",
       "        <video width=\"100%\" loop autoplay controls>\n",
       "            <source src=\"tmp.mp4?t=icbaUPWqFT\" type=\"video/mp4\">\n",
       "        </video>\n",
       "      "
      ],
      "text/plain": [
       "<IPython.core.display.HTML object>"
      ]
     },
     "metadata": {},
     "output_type": "display_data"
    }
   ],
   "source": [
    "o = Tensor(rank_ids=[\"P\"])\n",
    "\n",
    "canvas = TensorCanvas(w, i, o)\n",
    "\n",
    "w_r = w.getRoot()\n",
    "i_h = i.getRoot()\n",
    "o_p = o.getRoot()\n",
    "\n",
    "R = w_r.maxCoord() + 1\n",
    "H = i_h.maxCoord() + 1\n",
    "P = H - R + 1\n",
    "\n",
    "print(\"Convolution\")\n",
    "\n",
    "for r, (w_val) in w_r:\n",
    "    print(f\"Processing weight: ({r}, ({w_val}))\")\n",
    "    for p, (o_p_ref, i_val) in o_p << i_h.project(lambda h: h-r, (0, P)):\n",
    "        print(f\"  Processing output ({p}, ({o_p_ref}, {i_val})\")\n",
    "        o_p_ref += w_val * i_val\n",
    "        canvas.addFrame((r,), (p+r,), (p,))\n",
    "\n",
    "displayCanvas(canvas)"
   ]
  },
  {
   "cell_type": "markdown",
   "metadata": {},
   "source": [
    "## Input Stationary"
   ]
  },
  {
   "cell_type": "code",
   "execution_count": 4,
   "metadata": {},
   "outputs": [
    {
     "name": "stdout",
     "output_type": "stream",
     "text": [
      "Convolution\n",
      "Processing input: (0, (<1>))\n",
      "  Processing output (0, (<0>, <1>)\n",
      "Processing input: (2, (<2>))\n",
      "  Processing output (0, (<1>, <3>)\n",
      "  Processing output (2, (<0>, <1>)\n",
      "Processing input: (4, (<3>))\n",
      "  Processing output (2, (<2>, <3>)\n",
      "  Processing output (4, (<0>, <1>)\n",
      "Processing input: (5, (<1>))\n",
      "  Processing output (3, (<0>, <3>)\n",
      "  Processing output (5, (<0>, <1>)\n",
      "Processing input: (6, (<2>))\n",
      "  Processing output (4, (<3>, <3>)\n",
      "Processing input: (7, (<3>))\n",
      "  Processing output (5, (<1>, <3>)\n"
     ]
    },
    {
     "data": {
      "text/html": [
       "\n",
       "        <video width=\"100%\" loop autoplay controls>\n",
       "            <source src=\"tmp.mp4?t=aYYJZTXLXV\" type=\"video/mp4\">\n",
       "        </video>\n",
       "      "
      ],
      "text/plain": [
       "<IPython.core.display.HTML object>"
      ]
     },
     "metadata": {},
     "output_type": "display_data"
    }
   ],
   "source": [
    "o = Tensor(rank_ids=[\"P\"])\n",
    "\n",
    "canvas = TensorCanvas(w, i, o)\n",
    "\n",
    "w_r = w.getRoot()\n",
    "i_h = i.getRoot()\n",
    "o_p = o.getRoot()\n",
    "\n",
    "R = w_r.maxCoord() + 1\n",
    "H = i_h.maxCoord() + 1\n",
    "P = H - R + 1\n",
    "\n",
    "print(\"Convolution\")\n",
    "\n",
    "for h, (i_val) in i_h:\n",
    "    print(f\"Processing input: ({h}, ({i_val}))\")\n",
    "    for p, (o_p_ref, w_val) in o_p << w_r.project(lambda r: h-r, (0, P)):\n",
    "        print(f\"  Processing output ({p}, ({o_p_ref}, {w_val})\")\n",
    "        o_p_ref += w_val * i_val\n",
    "        canvas.addFrame((h-p,), (h,), (p,))\n",
    "\n",
    "\n",
    "displayCanvas(canvas)"
   ]
  },
  {
   "cell_type": "markdown",
   "metadata": {},
   "source": [
    "## Output Stationary"
   ]
  },
  {
   "cell_type": "code",
   "execution_count": 5,
   "metadata": {
    "scrolled": true
   },
   "outputs": [
    {
     "name": "stdout",
     "output_type": "stream",
     "text": [
      "Convolution\n",
      "Processing output: (0, (<0>))\n",
      "  Processing weights and activations (0, (<1>, <1>)\n",
      "  Processing weights and activations (2, (<3>, <2>)\n",
      "Processing output: (1, (<0>))\n",
      "Processing output: (2, (<0>))\n",
      "  Processing weights and activations (2, (<1>, <2>)\n",
      "  Processing weights and activations (4, (<3>, <3>)\n",
      "Processing output: (3, (<0>))\n",
      "  Processing weights and activations (5, (<3>, <1>)\n",
      "Processing output: (4, (<0>))\n",
      "  Processing weights and activations (4, (<1>, <3>)\n",
      "  Processing weights and activations (6, (<3>, <2>)\n",
      "Processing output: (5, (<0>))\n",
      "  Processing weights and activations (5, (<1>, <1>)\n",
      "  Processing weights and activations (7, (<3>, <3>)\n"
     ]
    },
    {
     "data": {
      "text/html": [
       "\n",
       "        <video width=\"100%\" loop autoplay controls>\n",
       "            <source src=\"tmp.mp4?t=RQXYDGYaPc\" type=\"video/mp4\">\n",
       "        </video>\n",
       "      "
      ],
      "text/plain": [
       "<IPython.core.display.HTML object>"
      ]
     },
     "metadata": {},
     "output_type": "display_data"
    }
   ],
   "source": [
    "o = Tensor(rank_ids=[\"P\"])\n",
    "\n",
    "\n",
    "w_r = w.getRoot()\n",
    "i_h = i.getRoot()\n",
    "o_p = o.getRoot()\n",
    "\n",
    "R = w_r.maxCoord() + 1\n",
    "H = i_h.maxCoord() + 1\n",
    "P = H - R + 1\n",
    "\n",
    "print(\"Convolution\")\n",
    "\n",
    "output_shape = Fiber(coords=range(P), initial=1)\n",
    "\n",
    "canvas = TensorCanvas(w, i, output_shape)\n",
    "\n",
    "for p, (o_p_ref, _) in o_p << output_shape:\n",
    "    print(f\"Processing output: ({p}, ({o_p_ref}))\")\n",
    "    for h, (w_val, i_val) in w_r.project(lambda r: p+r) & i_h:\n",
    "        print(f\"  Processing weights and activations ({h}, ({w_val}, {i_val})\")\n",
    "        o_p_ref += w_val * i_val\n",
    "        canvas.addFrame((h-p,), (h,), (p,))\n",
    "\n",
    "displayCanvas(canvas)"
   ]
  },
  {
   "cell_type": "markdown",
   "metadata": {},
   "source": [
    "## Output Stationary - Two pass"
   ]
  },
  {
   "cell_type": "code",
   "execution_count": 6,
   "metadata": {
    "scrolled": false
   },
   "outputs": [
    {
     "name": "stdout",
     "output_type": "stream",
     "text": [
      "Convolution\n",
      "Processing weight: (0, (_))\n",
      "  Calculating output (0, (<0>, _)\n",
      "  Calculating output (2, (<0>, _)\n",
      "  Calculating output (4, (<0>, _)\n",
      "  Calculating output (5, (<0>, _)\n",
      "Processing weight: (2, (_))\n",
      "  Calculating output (0, (<0>, _)\n",
      "  Calculating output (2, (<0>, _)\n",
      "  Calculating output (3, (<0>, _)\n",
      "  Calculating output (4, (<0>, _)\n",
      "  Calculating output (5, (<0>, _)\n",
      "Pass1 count: 9\n"
     ]
    },
    {
     "data": {
      "image/png": "[encoded data removed]",
      "text/plain": [
       "<PIL.Image.Image image mode=RGB size=800x250 at 0x7F013E699C88>"
      ]
     },
     "metadata": {},
     "output_type": "display_data"
    },
    {
     "name": "stdout",
     "output_type": "stream",
     "text": [
      "Processing output: (0, (<0>))\n",
      "  Processing weights and activations (0, (<1>, <1>)\n",
      "  Processing weights and activations (2, (<3>, <2>)\n",
      "Processing output: (2, (<0>))\n",
      "  Processing weights and activations (2, (<1>, <2>)\n",
      "  Processing weights and activations (4, (<3>, <3>)\n",
      "Processing output: (3, (<0>))\n",
      "  Processing weights and activations (5, (<3>, <1>)\n",
      "Processing output: (4, (<0>))\n",
      "  Processing weights and activations (4, (<1>, <3>)\n",
      "  Processing weights and activations (6, (<3>, <2>)\n",
      "Processing output: (5, (<0>))\n",
      "  Processing weights and activations (5, (<1>, <1>)\n",
      "  Processing weights and activations (7, (<3>, <3>)\n"
     ]
    },
    {
     "data": {
      "text/html": [
       "\n",
       "        <video width=\"100%\" loop autoplay controls>\n",
       "            <source src=\"tmp.mp4?t=bZtdoGifwR\" type=\"video/mp4\">\n",
       "        </video>\n",
       "      "
      ],
      "text/plain": [
       "<IPython.core.display.HTML object>"
      ]
     },
     "metadata": {},
     "output_type": "display_data"
    }
   ],
   "source": [
    "o = Tensor(rank_ids=[\"P\"])\n",
    "\n",
    "canvas = TensorCanvas(w, i, o)\n",
    "\n",
    "w_r = w.getRoot()\n",
    "i_h = i.getRoot()\n",
    "o_p = o.getRoot()\n",
    "\n",
    "R = w_r.maxCoord() + 1\n",
    "H = i_h.maxCoord() + 1\n",
    "P = H - R + 1\n",
    "\n",
    "print(\"Convolution\")\n",
    "\n",
    "pass1_count = 0\n",
    "\n",
    "\n",
    "for r, (_) in w_r:\n",
    "    print(f\"Processing weight: ({r}, (_))\")\n",
    "    for p, (o_p_ref, _) in o_p << i_h.project(lambda h: h-r, (0, P)):\n",
    "        print(f\"  Calculating output ({p}, ({o_p_ref}, _)\")\n",
    "        pass1_count += 1\n",
    "        canvas.addFrame((r,), (p+r,), (p,))\n",
    "\n",
    "print(\"Pass1 count: %s\" % pass1_count)\n",
    "displayTensor(o_p)\n",
    "canvas.addFrame([], [], [])\n",
    "\n",
    "for p, (o_p_ref) in o_p:\n",
    "    print(f\"Processing output: ({p}, ({o_p_ref}))\")\n",
    "    for h, (w_val, i_val) in w_r.project(lambda r: p+r) & i_h:\n",
    "        print(f\"  Processing weights and activations ({h}, ({w_val}, {i_val})\")\n",
    "        o_p_ref += w_val * i_val\n",
    "        canvas.addFrame((h-p,), (h,), (p,))\n",
    "\n",
    "\n",
    "displayCanvas(canvas)"
   ]
  },
  {
   "cell_type": "markdown",
   "metadata": {},
   "source": [
    "## Output Stationary - Two pass - Optimized"
   ]
  },
  {
   "cell_type": "code",
   "execution_count": 7,
   "metadata": {
    "scrolled": false
   },
   "outputs": [
    {
     "name": "stdout",
     "output_type": "stream",
     "text": [
      "Convolution\n",
      "Processing weight: (0, (_))\n",
      "  Calculating output (0, (<0>, _)\n",
      "  Calculating output (2, (<0>, _)\n",
      "  Calculating output (4, (<0>, _)\n",
      "  Calculating output (5, (<0>, _)\n",
      "Processing weight: (2, (_))\n",
      "  Calculating output (0, (<0>, _)\n",
      "  Calculating output (2, (<0>, _)\n",
      "  Calculating output (3, (<0>, _)\n",
      "  Calculating output (4, (<0>, _)\n",
      "  Calculating output (5, (<0>, _)\n",
      "Pass1 count: 9\n",
      "Processing output: (0, (<0>))\n",
      "  Processing weights and activations (0, (<1>, <1>)\n",
      "  Processing weights and activations (2, (<3>, <2>)\n",
      "Processing output: (2, (<0>))\n",
      "  Processing weights and activations (2, (<1>, <2>)\n",
      "  Processing weights and activations (4, (<3>, <3>)\n",
      "Processing output: (3, (<0>))\n",
      "  Processing weights and activations (5, (<3>, <1>)\n",
      "Processing output: (4, (<0>))\n",
      "  Processing weights and activations (4, (<1>, <3>)\n",
      "  Processing weights and activations (6, (<3>, <2>)\n",
      "Processing output: (5, (<0>))\n",
      "  Processing weights and activations (5, (<1>, <1>)\n",
      "  Processing weights and activations (7, (<3>, <3>)\n"
     ]
    },
    {
     "data": {
      "text/html": [
       "\n",
       "        <video width=\"100%\" loop autoplay controls>\n",
       "            <source src=\"tmp.mp4?t=lpabOCqKGP\" type=\"video/mp4\">\n",
       "        </video>\n",
       "      "
      ],
      "text/plain": [
       "<IPython.core.display.HTML object>"
      ]
     },
     "metadata": {},
     "output_type": "display_data"
    }
   ],
   "source": [
    "o = Tensor(rank_ids=[\"P\"])\n",
    "\n",
    "canvas = TensorCanvas(w, i, o)\n",
    "\n",
    "w_r = w.getRoot()\n",
    "i_h = i.getRoot()\n",
    "o_p = o.getRoot()\n",
    "\n",
    "R = w_r.maxCoord() + 1\n",
    "H = i_h.maxCoord() + 1\n",
    "P = H - R + 1\n",
    "\n",
    "print(\"Convolution\")\n",
    "\n",
    "pass1_count = 0\n",
    "\n",
    "for r, (_) in w_r:\n",
    "    print(f\"Processing weight: ({r}, (_))\")\n",
    "    for p, (o_p_ref, _) in o_p << i_h.project(lambda h: h-r, (0, P)) - o_p:\n",
    "        print(f\"  Calculating output ({p}, ({o_p_ref}, _)\")\n",
    "        pass1_count += 1\n",
    "        canvas.addFrame((r,), (p+r,), (p,))\n",
    "\n",
    "print(\"Pass1 count: %s\" % pass1_count)\n",
    "canvas.addFrame([], [], [])\n",
    "\n",
    "for p, (o_p_ref) in o_p:\n",
    "    print(f\"Processing output: ({p}, ({o_p_ref}))\")\n",
    "    for h, (w_val, i_val) in w_r.project(lambda r: p+r) & i_h:\n",
    "        print(f\"  Processing weights and activations ({h}, ({w_val}, {i_val})\")\n",
    "        o_p_ref += w_val * i_val\n",
    "        canvas.addFrame((h-p,), (h,), (p,))\n",
    "\n",
    "\n",
    "displayCanvas(canvas)\n"
   ]
  },
  {
   "cell_type": "markdown",
   "metadata": {},
   "source": [
    "## Testing area\n",
    "\n",
    "For running alternative algorithms"
   ]
  },
  {
   "cell_type": "code",
   "execution_count": null,
   "metadata": {},
   "outputs": [],
   "source": []
  },
  {
   "cell_type": "code",
   "execution_count": null,
   "metadata": {},
   "outputs": [],
   "source": []
  },
  {
   "cell_type": "code",
   "execution_count": null,
   "metadata": {},
   "outputs": [],
   "source": []
  }
 ],
 "metadata": {
  "kernelspec": {
   "display_name": "Python 3",
   "language": "python",
   "name": "python3"
  },
  "language_info": {
   "codemirror_mode": {
    "name": "ipython",
    "version": 3
   },
   "file_extension": ".py",
   "mimetype": "text/x-python",
   "name": "python",
   "nbconvert_exporter": "python",
   "pygments_lexer": "ipython3",
   "version": "3.6.8"
  }
 },
 "nbformat": 4,
 "nbformat_minor": 2
}
