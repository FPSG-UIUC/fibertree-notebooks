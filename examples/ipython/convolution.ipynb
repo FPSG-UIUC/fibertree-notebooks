{
 "cells": [
  {
   "cell_type": "markdown",
   "metadata": {
    "slideshow": {
     "slide_type": "-"
    }
   },
   "source": [
    "# Exploring convolution\n",
    "\n",
    "First, include some libraries"
   ]
  },
  {
   "cell_type": "code",
   "execution_count": null,
   "metadata": {},
   "outputs": [],
   "source": [
    "# Library imports\n",
    "\n",
    "import math\n",
    "import numpy as np\n",
    "\n",
    "#\n",
    "# Import tensor class\n",
    "#\n",
    "from fibertree import Fiber, Tensor, TensorImage\n",
    "\n",
    "#\n",
    "# Import display classes/utilities\n",
    "#\n",
    "from IPython.display import display # to display images\n",
    "\n",
    "def displayTensor(t):\n",
    "    display(TensorImage(t).im)\n",
    "\n",
    "#\n",
    "# Matplolib classes (not currently used)\n",
    "#\n",
    "from matplotlib.pyplot import imshow\n",
    "\n",
    "#\n",
    "# Import rc to configure animation for HTML5\n",
    "#\n",
    "from matplotlib import rc\n",
    "rc('animation', html='html5')\n",
    "\n",
    "#\n",
    "# Helper for data directory\n",
    "#\n",
    "import os\n",
    "\n",
    "data_dir = \"../data\"\n",
    "\n",
    "def datafileName(filename):\n",
    "    return os.path.join(data_dir, filename)\n",
    "\n"
   ]
  },
  {
   "cell_type": "markdown",
   "metadata": {},
   "source": [
    "## Convolution Inputs\n"
   ]
  },
  {
   "cell_type": "code",
   "execution_count": null,
   "metadata": {},
   "outputs": [],
   "source": [
    "w = Tensor(os.path.join(data_dir, \"conv-weights-a.yaml\"))\n",
    "i = Tensor(os.path.join(data_dir, \"conv-activations-a.yaml\"))\n",
    "\n",
    "displayTensor(w)\n",
    "displayTensor(i)"
   ]
  },
  {
   "cell_type": "markdown",
   "metadata": {},
   "source": [
    "## Weight Stationary"
   ]
  },
  {
   "cell_type": "code",
   "execution_count": null,
   "metadata": {
    "scrolled": false
   },
   "outputs": [],
   "source": [
    "o = Tensor(rank_ids=[\"Q\"])\n",
    "\n",
    "displayTensor(o)\n",
    "\n",
    "w_r = w.root()\n",
    "i_h = i.root()\n",
    "o_q = o.root()\n",
    "\n",
    "W = w_r.maxCoord() + 1\n",
    "I = i_h.maxCoord() + 1\n",
    "Q = I - W + 1\n",
    "\n",
    "print(\"Convolution\")\n",
    "\n",
    "for r, (w_val) in w_r:\n",
    "    print(f\"Processing weight: ({r}, ({w_val}))\")\n",
    "    for q, (o_q_ref, i_val) in o_q << i_h.project(lambda h: h-r, (0, Q)):\n",
    "        print(f\"  Processing output ({q}, ({o_q_ref}, {i_val})\")\n",
    "        o_q_ref += w_val * i_val\n",
    "\n",
    "displayTensor(o)"
   ]
  },
  {
   "cell_type": "markdown",
   "metadata": {},
   "source": [
    "## Input Stationary"
   ]
  },
  {
   "cell_type": "code",
   "execution_count": null,
   "metadata": {},
   "outputs": [],
   "source": [
    "o = Tensor(rank_ids=[\"Q\"])\n",
    "\n",
    "displayTensor(o)\n",
    "\n",
    "w_r = w.root()\n",
    "i_h = i.root()\n",
    "o_q = o.root()\n",
    "\n",
    "W = w_r.maxCoord() + 1\n",
    "I = i_h.maxCoord() + 1\n",
    "Q = I - W + 1\n",
    "\n",
    "print(\"Convolution\")\n",
    "\n",
    "for h, (i_val) in i_h:\n",
    "    print(f\"Processing input: ({h}, ({i_val}))\")\n",
    "    for q, (o_q_ref, w_val) in o_q << w_r.project(lambda r: h-r, (0, Q)):\n",
    "        print(f\"  Processing output ({q}, ({o_q_ref}, {w_val})\")\n",
    "        o_q_ref += w_val * i_val\n",
    "\n",
    "\n",
    "displayTensor(o)\n"
   ]
  },
  {
   "cell_type": "markdown",
   "metadata": {},
   "source": [
    "## Output Stationary"
   ]
  },
  {
   "cell_type": "code",
   "execution_count": null,
   "metadata": {},
   "outputs": [],
   "source": [
    "o = Tensor(rank_ids=[\"Q\"])\n",
    "\n",
    "displayTensor(o)\n",
    "\n",
    "w_r = w.root()\n",
    "i_h = i.root()\n",
    "o_q = o.root()\n",
    "\n",
    "W = w_r.maxCoord() + 1\n",
    "I = i_h.maxCoord() + 1\n",
    "Q = I - W + 1\n",
    "\n",
    "print(\"Convolution\")\n",
    "\n",
    "output_shape = Fiber(coords=range(Q), initial=1)\n",
    "\n",
    "displayTensor(output_shape)\n",
    "\n",
    "for q, (o_q_ref, _) in o_q << output_shape:\n",
    "    print(f\"Processing output: ({q}, ({o_q_ref}))\")\n",
    "    for r, (w_val, i_val) in w_r.project(lambda r: q+r) & i_h:\n",
    "        print(f\"  Processing weights and activations ({r}, ({w_val}, {i_val})\")\n",
    "        o_q_ref += w_val * i_val\n",
    "\n",
    "\n",
    "displayTensor(o)\n"
   ]
  },
  {
   "cell_type": "markdown",
   "metadata": {},
   "source": [
    "## Output Stationary - Two pass"
   ]
  },
  {
   "cell_type": "code",
   "execution_count": null,
   "metadata": {
    "scrolled": false
   },
   "outputs": [],
   "source": [
    "o = Tensor(rank_ids=[\"Q\"])\n",
    "\n",
    "displayTensor(o)\n",
    "\n",
    "w_r = w.root()\n",
    "i_h = i.root()\n",
    "o_q = o.root()\n",
    "\n",
    "W = w_r.maxCoord() + 1\n",
    "I = i_h.maxCoord() + 1\n",
    "Q = I - W + 1\n",
    "\n",
    "print(\"Convolution\")\n",
    "\n",
    "pass1_count = 0\n",
    "\n",
    "for r, (_) in w_r:\n",
    "    print(f\"Processing weight: ({r}, (_))\")\n",
    "    for q, (o_q_ref, _) in o_q << i_h.project(lambda h: h-r, (0, Q)):\n",
    "        print(f\"  Calculating output ({q}, ({o_q_ref}, _)\")\n",
    "        pass1_count += 1\n",
    "\n",
    "print(\"Pass1 count: %s\" % pass1_count)\n",
    "displayTensor(o_q)\n",
    "\n",
    "for q, (o_q_ref) in o_q:\n",
    "    print(f\"Processing output: ({q}, ({o_q_ref}))\")\n",
    "    for r, (w_val, i_val) in w_r.project(lambda r: q+r) & i_h:\n",
    "        print(f\"  Processing weights and activations ({r}, ({w_val}, {i_val})\")\n",
    "        o_q_ref += w_val * i_val\n",
    "\n",
    "\n",
    "displayTensor(o)\n"
   ]
  },
  {
   "cell_type": "markdown",
   "metadata": {},
   "source": [
    "## Output Stationary - Two pass - Optimized"
   ]
  },
  {
   "cell_type": "code",
   "execution_count": null,
   "metadata": {
    "scrolled": false
   },
   "outputs": [],
   "source": [
    "o = Tensor(rank_ids=[\"Q\"])\n",
    "\n",
    "displayTensor(o)\n",
    "\n",
    "w_r = w.root()\n",
    "i_h = i.root()\n",
    "o_q = o.root()\n",
    "\n",
    "W = w_r.maxCoord() + 1\n",
    "I = i_h.maxCoord() + 1\n",
    "Q = I - W + 1\n",
    "\n",
    "print(\"Convolution\")\n",
    "\n",
    "pass1_count = 0\n",
    "\n",
    "for r, (_) in w_r:\n",
    "    print(f\"Processing weight: ({r}, (_))\")\n",
    "    for q, (o_q_ref, _) in o_q << i_h.project(lambda h: h-r, (0, Q)) - o_q:\n",
    "        print(f\"  Calculating output ({q}, ({o_q_ref}, _)\")\n",
    "        pass1_count += 1\n",
    "\n",
    "print(\"Pass1 count: %s\" % pass1_count)\n",
    "\n",
    "for q, (o_q_ref) in o_q:\n",
    "    print(f\"Processing output: ({q}, ({o_q_ref}))\")\n",
    "    for r, (w_val, i_val) in w_r.project(lambda r: q+r) & i_h:\n",
    "        print(f\"  Processing weights and activations ({r}, ({w_val}, {i_val})\")\n",
    "        o_q_ref += w_val * i_val\n",
    "\n",
    "\n",
    "displayTensor(o)\n"
   ]
  },
  {
   "cell_type": "markdown",
   "metadata": {},
   "source": [
    "## Testing area\n",
    "\n",
    "For running alternative algorithms"
   ]
  },
  {
   "cell_type": "code",
   "execution_count": null,
   "metadata": {},
   "outputs": [],
   "source": []
  },
  {
   "cell_type": "code",
   "execution_count": null,
   "metadata": {},
   "outputs": [],
   "source": []
  },
  {
   "cell_type": "code",
   "execution_count": null,
   "metadata": {},
   "outputs": [],
   "source": []
  }
 ],
 "metadata": {
  "kernelspec": {
   "display_name": "Python 3",
   "language": "python",
   "name": "python3"
  },
  "language_info": {
   "codemirror_mode": {
    "name": "ipython",
    "version": 3
   },
   "file_extension": ".py",
   "mimetype": "text/x-python",
   "name": "python",
   "nbconvert_exporter": "python",
   "pygments_lexer": "ipython3",
   "version": "3.6.8"
  }
 },
 "nbformat": 4,
 "nbformat_minor": 2
}
