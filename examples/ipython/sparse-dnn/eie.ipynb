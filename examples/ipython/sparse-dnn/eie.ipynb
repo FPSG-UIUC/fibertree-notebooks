{
 "cells": [
  {
   "cell_type": "markdown",
   "metadata": {
    "slideshow": {
     "slide_type": "-"
    }
   },
   "source": [
    "# EIE\n",
    "\n",
    "First, include some libraries"
   ]
  },
  {
   "cell_type": "code",
   "execution_count": null,
   "metadata": {},
   "outputs": [],
   "source": [
    "# Run boilerplate code to set up environment\n",
    "\n",
    "%run ../prelude.py"
   ]
  },
  {
   "cell_type": "markdown",
   "metadata": {},
   "source": [
    "## Read matrices\n"
   ]
  },
  {
   "cell_type": "code",
   "execution_count": null,
   "metadata": {},
   "outputs": [],
   "source": [
    "i = Tensor.fromUncompressed([\"CHW\"], \n",
    "                            [ 1, 2, 0, 3, 4, 0, 0, 7, 8])\n",
    "f = Tensor.fromUncompressed([\"M\", \"CHW\"],\n",
    "                            [[ 1, 2, 0, 3, 4, 0, 0, 7, 8],\n",
    "                            [ 0, 1, 0, 0, 8, 0, 0, 7, 0],\n",
    "                            [ 0, 0, 0, 0, 0, 0, 0, 0, 0],\n",
    "                            [ 1, 0, 0, 3, 0, 0, 0, 2, 0],\n",
    "                            [ 0, 0, 0, 2, 0, 0, 0, 4, 0],\n",
    "                            [ 0, 0, 0, 0, 0, 0, 0, 0, 0],\n",
    "                            [ 2, 4, 0, 6, 0, 0, 0, 14, 16],\n",
    "                            [ 2, 0, 0, 2, 0, 0, 3, 0, 8]\n",
    "                            ])\n",
    "\n",
    "o_verify = Tensor.fromUncompressed([\"M\"],\n",
    "                                   [143, 83, 0, 24, 34, 0, 254, 72])\n",
    "\n",
    "displayTensor(i.setColor(\"blue\"))\n",
    "displayTensor(f.setColor(\"green\"))\n",
    "displayTensor(o_verify)\n",
    "    "
   ]
  },
  {
   "cell_type": "markdown",
   "metadata": {},
   "source": [
    "## Fully connected - Naive\n"
   ]
  },
  {
   "cell_type": "code",
   "execution_count": null,
   "metadata": {
    "scrolled": false
   },
   "outputs": [],
   "source": [
    "swapped_f = f.swapRanks()\n",
    "\n",
    "o = Tensor(rank_ids=[\"M\"])\n",
    "\n",
    "canvas = createCanvas(i, swapped_f, o)\n",
    "\n",
    "i_chw = i.getRoot()\n",
    "f_chw = swapped_f.getRoot()\n",
    "o_m = o.getRoot()\n",
    "\n",
    "for chw, (i_val, f_m) in i_chw & f_chw:    \n",
    "    for m, (o_ref, f_val) in  o_m << f_m:\n",
    "        o_ref += i_val * f_val\n",
    "        addFrame(canvas, (chw,), (chw, m), (m,))\n",
    "\n",
    "displayTensor(o)\n",
    "displayCanvas(canvas)\n"
   ]
  },
  {
   "cell_type": "markdown",
   "metadata": {},
   "source": [
    "## Check result"
   ]
  },
  {
   "cell_type": "code",
   "execution_count": null,
   "metadata": {},
   "outputs": [],
   "source": [
    "o_verify == o"
   ]
  },
  {
   "cell_type": "markdown",
   "metadata": {},
   "source": [
    "## EIE Input"
   ]
  },
  {
   "cell_type": "code",
   "execution_count": null,
   "metadata": {},
   "outputs": [],
   "source": [
    "PEs = 2\n",
    "split_size = (len(f.getRoot())+1)//PEs\n",
    "\n",
    "eie_f = f.splitEqual(split_size).swapRanks(depth=1)\n",
    "displayTensor(eie_f)\n",
    "\n",
    "eie_o_verify = o_verify.splitEqual(split_size)\n",
    "eie_o_verify\n",
    "displayTensor(eie_o_verify)"
   ]
  },
  {
   "cell_type": "code",
   "execution_count": null,
   "metadata": {},
   "outputs": [],
   "source": [
    "o = Tensor(rank_ids=[\"M1\", \"M0\"])\n",
    "\n",
    "canvas = createCanvas(i, eie_f, o)\n",
    "\n",
    "i_chw = i.getRoot()\n",
    "f_m1 = eie_f.getRoot()\n",
    "o_m1 = o.getRoot()\n",
    "\n",
    "for chw, i_val in i_chw:\n",
    "    for m1, (o_m0, f_chw) in o_m1 << f_m1:   # parallel\n",
    "        f_m = f_chw.getPayload(chw)\n",
    "        for m, (o_ref, f_val) in o_m0 << f_m:\n",
    "            o_ref += i_val * f_val\n",
    "            addFrame(canvas, (chw,), (m1, chw, m), (m1, m))\n",
    "\n",
    "displayTensor(o)\n",
    "displayCanvas(canvas)\n"
   ]
  },
  {
   "cell_type": "markdown",
   "metadata": {},
   "source": [
    "## Check result"
   ]
  },
  {
   "cell_type": "code",
   "execution_count": null,
   "metadata": {},
   "outputs": [],
   "source": [
    "displayTensor(eie_o_verify)\n",
    "displayTensor(o)\n",
    "eie_o_verify == o"
   ]
  },
  {
   "cell_type": "markdown",
   "metadata": {},
   "source": [
    "## Testing area\n",
    "\n",
    "For running alternative algorithms"
   ]
  },
  {
   "cell_type": "code",
   "execution_count": null,
   "metadata": {},
   "outputs": [],
   "source": [
    "displayTensor(o)\n",
    "o.getRoot().uncompress()"
   ]
  },
  {
   "cell_type": "code",
   "execution_count": null,
   "metadata": {},
   "outputs": [],
   "source": []
  }
 ],
 "metadata": {
  "kernelspec": {
   "display_name": "Python 3",
   "language": "python",
   "name": "python3"
  },
  "language_info": {
   "codemirror_mode": {
    "name": "ipython",
    "version": 3
   },
   "file_extension": ".py",
   "mimetype": "text/x-python",
   "name": "python",
   "nbconvert_exporter": "python",
   "pygments_lexer": "ipython3",
   "version": "3.6.7"
  }
 },
 "nbformat": 4,
 "nbformat_minor": 2
}
