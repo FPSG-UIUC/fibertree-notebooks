{
 "cells": [
  {
   "cell_type": "markdown",
   "metadata": {
    "slideshow": {
     "slide_type": "-"
    }
   },
   "source": [
    "# Eyeriss - V2\n",
    "\n",
    "First, include some libraries"
   ]
  },
  {
   "cell_type": "code",
   "execution_count": null,
   "metadata": {},
   "outputs": [],
   "source": [
    "# Run boilerplate code to set up environment\n",
    "\n",
    "%run ../prelude.py"
   ]
  },
  {
   "cell_type": "markdown",
   "metadata": {},
   "source": [
    "## Initialize matrices\n",
    "\n",
    "Dense and sparse examples are provided. The active example is selected below...\n"
   ]
  },
  {
   "cell_type": "code",
   "execution_count": null,
   "metadata": {},
   "outputs": [],
   "source": [
    "ies = {}\n",
    "fs = {}\n",
    "o_verifies = {}\n",
    "\n",
    "instance = \"dense\"\n",
    "ies[instance] = Tensor.fromUncompressed([\"C\", \"W\"], \n",
    "                                       [ [1, 2, 5, 3, 4, 9, 8],\n",
    "                                         [8, 1, 3, 4, 3, 5, 9] ])\n",
    "\n",
    "fs[instance] = Tensor.fromUncompressed([\"C\", \"S\", \"M\"],\n",
    "                                       [[[ 1, 2, 4, 3, 4, 9, 1],\n",
    "                                         [ 8, 1, 5, 3, 8, 6, 2],\n",
    "                                         [ 7, 6, 5, 7, 4, 3, 4]],\n",
    "                                        [[ 1, 9, 5, 3, 2, 6, 9],\n",
    "                                         [ 4, 4, 9, 8, 1, 4, 8],\n",
    "                                         [ 2, 4, 1, 6, 1, 9, 1]]])\n",
    "\n",
    "o_verifies[instance] = Tensor.fromUncompressed([\"M\", \"Q\"],\n",
    "                                               [[70, 84, 82, 124, 173],\n",
    "                                                [122, 64, 92, 132, 148],\n",
    "                                                [91, 84, 109, 129, 170],\n",
    "                                                [94, 93, 111, 150, 198],\n",
    "                                                [60, 69, 73, 96, 140],\n",
    "                                                [115, 111, 136, 159, 233],\n",
    "                                                [108, 61, 89, 112, 130]])\n",
    "\n",
    "\n",
    "instance = \"sparse\"\n",
    "ies[instance] = Tensor.fromUncompressed([\"C\", \"W\"], \n",
    "                                       [ [1, 2, 0, 3, 4, 0, 0],\n",
    "                                         [2, 0, 3, 0, 0, 5, 0] ])\n",
    "\n",
    "fs[instance] = Tensor.fromUncompressed([\"C\", \"S\", \"M\"],\n",
    "                                       [[[ 1, 2, 0, 3, 4, 0, 0],\n",
    "                                         [ 0, 1, 0, 0, 8, 0, 0],\n",
    "                                         [ 0, 0, 0, 0, 0, 0, 0]],\n",
    "                                        [[ 1, 0, 0, 3, 0, 0, 0],\n",
    "                                         [ 0, 0, 0, 0, 0, 0, 0],\n",
    "                                         [ 2, 4, 0, 6, 0, 9, 1]]])\n",
    "\n",
    "o_verifies[instance] = Tensor.fromUncompressed([\"M\", \"Q\"],\n",
    "                                               [[9, 2, 3, 13, 4, 5],\n",
    "                                                [16, 4, 3, 30, 8, 0],\n",
    "                                                [0, 0, 0, 0, 0, 0],\n",
    "                                                [27, 6, 9, 39, 12, 15],\n",
    "                                                [20, 8, 24, 44, 16, 0],\n",
    "                                                [27, 0, 0, 45, 0, 0],\n",
    "                                                [3, 0, 0, 5, 0, 0]])\n",
    "\n",
    "\n",
    "\n",
    "\n",
    "\n",
    "# Number of weights in filter (should be computed)\n",
    "S = 3\n",
    "# Number of output activations (should be computed)\n",
    "Q = 5"
   ]
  },
  {
   "cell_type": "markdown",
   "metadata": {},
   "source": [
    "## Select which example to run"
   ]
  },
  {
   "cell_type": "code",
   "execution_count": null,
   "metadata": {},
   "outputs": [],
   "source": [
    "\n",
    "def setInstance(instance):\n",
    "    global i\n",
    "    global f\n",
    "    global o_verify\n",
    "    \n",
    "    i = ies[instance]\n",
    "    f = fs[instance]\n",
    "    o_verify = o_verifies[instance]\n",
    "\n",
    "    print(\"Input activations\")\n",
    "    displayTensor(i.setColor(\"blue\"))\n",
    "    print(\"Filter Weights\")\n",
    "    displayTensor(f.setColor(\"green\"))\n",
    "    print(\"Output activations (expected)\")\n",
    "    displayTensor(o_verify)\n",
    "\n",
    "\n",
    "select_instance = interactive(setInstance,\n",
    "                              instance=[\"sparse\", \"dense\"])\n",
    "\n",
    "display(select_instance)\n",
    "\n",
    "\n"
   ]
  },
  {
   "cell_type": "markdown",
   "metadata": {},
   "source": [
    "## Row Convolution - Input stationary\n"
   ]
  },
  {
   "cell_type": "code",
   "execution_count": null,
   "metadata": {
    "scrolled": false
   },
   "outputs": [],
   "source": [
    "\n",
    "o = Tensor(rank_ids=[\"M\", \"Q\"])\n",
    "\n",
    "canvas = createCanvas(i, f, o)\n",
    "\n",
    "i_c = i.getRoot()\n",
    "f_c = f.getRoot()\n",
    "o_m = o.getRoot()\n",
    "\n",
    "for c, (i_w, f_s) in i_c & f_c:\n",
    "    for s, f_m in f_s:\n",
    "       for m, (o_q, f_val) in  o_m << f_m:\n",
    "            for q, (o_ref, i_val) in o_q << i_w.project(lambda w: w-s, interval=[0,Q-1]):\n",
    "                o_ref += i_val * f_val\n",
    "                addFrame(canvas, (c, q+s), (c, s, m), (m, q))\n",
    "\n",
    "displayTensor(o)\n",
    "displayCanvas(canvas)\n"
   ]
  },
  {
   "cell_type": "markdown",
   "metadata": {},
   "source": [
    "## Check result"
   ]
  },
  {
   "cell_type": "code",
   "execution_count": null,
   "metadata": {},
   "outputs": [],
   "source": [
    "o_verify == o"
   ]
  },
  {
   "cell_type": "markdown",
   "metadata": {},
   "source": [
    "## Eyeriss V2 - Input"
   ]
  },
  {
   "cell_type": "code",
   "execution_count": null,
   "metadata": {},
   "outputs": [],
   "source": [
    "# Same as above\n",
    "eyeriss2_i = i.swapRanks()\n",
    "\n",
    "print(\"Original input activations\")\n",
    "displayTensor(i)\n",
    "print(\"Eyeriss v2 input activations - should be flattened\")\n",
    "displayTensor(eyeriss2_i)"
   ]
  },
  {
   "cell_type": "markdown",
   "metadata": {},
   "source": [
    "## Eyeriss - V2 - No parallelism\n",
    "\n",
    "Note: We assume that the number of inputs channels in the filter weights tensor (and packed into the input activations tensors) fit into the filter weight storage array, since this can be determined statically. We also assume that the number of output channels in the filter weights tensor also fit into the filter weight storage array and there are that same number of output activation partial sum buffers. \n"
   ]
  },
  {
   "cell_type": "code",
   "execution_count": null,
   "metadata": {},
   "outputs": [],
   "source": [
    "\n",
    "o = Tensor(rank_ids=[\"Q\", \"M\"])\n",
    "\n",
    "canvas = createCanvas(eyeriss2_i, f, o)\n",
    "\n",
    "i_w = eyeriss2_i.getRoot()\n",
    "f_c = f.getRoot()\n",
    "o_q = o.getRoot()\n",
    "\n",
    "for q in range(0, Q):\n",
    "    o_m = o_q.getPayloadRef(q)\n",
    "\n",
    "    for s in range(0,S):\n",
    "        w = q+s\n",
    "        i_c = i_w.getPayload(w)   # sliding window pattern\n",
    "\n",
    "        for c, i_val in i_c:\n",
    "            f_m = f_c.getPayload(c,s)\n",
    "\n",
    "            for m, (o_ref, f_val) in o_m << f_m:\n",
    "                o_ref += i_val * f_val\n",
    "                addFrame(canvas, [(w, c)], [(c, s, m)], [(q, m)])\n",
    "\n",
    "displayTensor(o)\n",
    "displayCanvas(canvas)\n"
   ]
  },
  {
   "cell_type": "markdown",
   "metadata": {},
   "source": [
    "## Check result"
   ]
  },
  {
   "cell_type": "code",
   "execution_count": null,
   "metadata": {},
   "outputs": [],
   "source": [
    "eyeriss2_o_verify = o_verify.swapRanks()\n",
    "\n",
    "displayTensor(eyeriss2_o_verify)\n",
    "displayTensor(o)\n",
    "\n",
    "eyeriss2_o_verify == o"
   ]
  },
  {
   "cell_type": "markdown",
   "metadata": {},
   "source": [
    "## With parallelism"
   ]
  },
  {
   "cell_type": "code",
   "execution_count": null,
   "metadata": {},
   "outputs": [],
   "source": [
    "o = Tensor(rank_ids=[\"Q\", \"M\"])\n",
    "\n",
    "canvas = createCanvas(eyeriss2_i, f, o)\n",
    "\n",
    "i_w = eyeriss2_i.getRoot()\n",
    "f_c = f.getRoot()\n",
    "o_q = o.getRoot()\n",
    "\n",
    "for q in range(0, Q):\n",
    "    o_m = o_q.getPayloadRef(q)\n",
    "\n",
    "    for s in range(0,S):\n",
    "        w = q+s\n",
    "        i_c = i_w.getPayload(w)\n",
    "\n",
    "        for c, i_val in i_c:\n",
    "            f_m = f_c.getPayload(c, s)\n",
    "            f_m_split = f_m.splitEqual(2)\n",
    "            \n",
    "            for _, f_m in f_m_split: \n",
    "                fset = []\n",
    "                oset = []\n",
    "                for m, (o_ref, f_val) in o_m << f_m:   # parallel for\n",
    "                    fset.append( (c, s, m) )\n",
    "                    oset.append( (q, m) )\n",
    "                    o_ref += i_val * f_val\n",
    "                \n",
    "                addFrame(canvas, [(w, c)], fset, oset)\n",
    "\n",
    "\n",
    "\n",
    "displayTensor(o)\n",
    "displayCanvas(canvas)\n"
   ]
  },
  {
   "cell_type": "markdown",
   "metadata": {},
   "source": [
    "## Check result"
   ]
  },
  {
   "cell_type": "code",
   "execution_count": null,
   "metadata": {},
   "outputs": [],
   "source": [
    "\n",
    "displayTensor(eyeriss2_o_verify)\n",
    "displayTensor(o)\n",
    "\n",
    "eyeriss2_o_verify == o"
   ]
  },
  {
   "cell_type": "markdown",
   "metadata": {},
   "source": [
    "## Testing area\n",
    "\n",
    "For running alternative algorithms"
   ]
  },
  {
   "cell_type": "code",
   "execution_count": null,
   "metadata": {},
   "outputs": [],
   "source": [
    "displayTensor(o)\n",
    "o.getRoot().uncompress()"
   ]
  },
  {
   "cell_type": "code",
   "execution_count": null,
   "metadata": {},
   "outputs": [],
   "source": []
  }
 ],
 "metadata": {
  "kernelspec": {
   "display_name": "Python 3",
   "language": "python",
   "name": "python3"
  },
  "language_info": {
   "codemirror_mode": {
    "name": "ipython",
    "version": 3
   },
   "file_extension": ".py",
   "mimetype": "text/x-python",
   "name": "python",
   "nbconvert_exporter": "python",
   "pygments_lexer": "ipython3",
   "version": "3.6.7"
  }
 },
 "nbformat": 4,
 "nbformat_minor": 2
}
