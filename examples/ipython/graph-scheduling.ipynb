{
 "cells": [
  {
   "cell_type": "markdown",
   "metadata": {
    "slideshow": {
     "slide_type": "-"
    }
   },
   "source": [
    "# Graph Scheduling Operations\n",
    "\n",
    "Examples of scheduling directives used in graph (and other) processing\n",
    "\n",
    "First, include some libraries"
   ]
  },
  {
   "cell_type": "code",
   "execution_count": null,
   "metadata": {},
   "outputs": [],
   "source": [
    "# Library imports\n",
    "\n",
    "#\n",
    "# Import tensor class\n",
    "#\n",
    "from fibertree import Payload, Fiber, Tensor, TensorImage\n",
    "\n",
    "#\n",
    "# Import display classes/utilities\n",
    "#\n",
    "from IPython.display import display # to display images\n",
    "\n",
    "def displayTensor(t):\n",
    "    display(TensorImage(t).im)\n",
    "\n",
    "#\n",
    "# Helper for data directory\n",
    "#\n",
    "import os\n",
    "\n",
    "data_dir = \"../data\"\n",
    "\n",
    "def datafileName(filename):\n",
    "    return os.path.join(data_dir, filename)\n",
    "\n"
   ]
  },
  {
   "cell_type": "markdown",
   "metadata": {},
   "source": [
    "## Graph Inputs"
   ]
  },
  {
   "cell_type": "code",
   "execution_count": null,
   "metadata": {},
   "outputs": [],
   "source": [
    "#\n",
    "# Function to create graph inputs\n",
    "#\n",
    "\n",
    "def create_inputs(display=True):\n",
    "    \n",
    "    # Adjacency matrix - Ranks \"S\" (source) and \"D\" (destination)\n",
    "\n",
    "    a = Tensor.fromUncompressed([ \"S\", \"D\"],\n",
    "                                [ [ 0, 1, 1, 0, 0, 0, 0, 1 ],\n",
    "                                  [ 0, 0, 1, 1, 0, 0, 1, 0 ],\n",
    "                                  [ 0, 0, 0, 1, 1, 0, 0, 0 ],\n",
    "                                  [ 0, 0, 0, 0, 1, 1, 0, 0 ],\n",
    "                                  [ 1, 0, 0, 0, 0, 1, 0, 0 ],\n",
    "                                  [ 0, 1, 0, 0, 0, 1, 0, 0 ],\n",
    "                                  [ 0, 0, 0, 1, 0, 1, 0, 0 ],\n",
    "                                  [ 1, 1, 0, 0, 0, 0, 0, 0 ] ])\n",
    "\n",
    "\n",
    "    print(\"Adjacency Matrix\")\n",
    "    displayTensor(a)\n",
    "\n",
    "    return (a)\n",
    "\n"
   ]
  },
  {
   "cell_type": "markdown",
   "metadata": {},
   "source": [
    "# Uniform coordinate space tiling of two ranks (edge blocking)\n"
   ]
  },
  {
   "cell_type": "code",
   "execution_count": null,
   "metadata": {
    "scrolled": true
   },
   "outputs": [],
   "source": [
    "# Create inputs\n",
    "\n",
    "a = create_inputs()\n",
    "\n",
    "a_s = a.getRoot()\n",
    "\n"
   ]
  },
  {
   "cell_type": "code",
   "execution_count": null,
   "metadata": {},
   "outputs": [],
   "source": [
    "# Split top rank(source rows) uniformly in coordinate space creating new rank (source tiles)\n",
    "\n",
    "a_s = a_s.splitUniform(4)\n",
    "displayTensor(a_s)"
   ]
  },
  {
   "cell_type": "code",
   "execution_count": null,
   "metadata": {},
   "outputs": [],
   "source": [
    "# Split thrid rank (destination columns) in coordinate space creating new rank (destination tiles)\n",
    "\n",
    "a_s.splitUniformBelow(4, depth=1)\n",
    "displayTensor(a_s)"
   ]
  },
  {
   "cell_type": "code",
   "execution_count": null,
   "metadata": {},
   "outputs": [],
   "source": [
    "# Swap second rank (source rows) with third rank (destination tiles)\n",
    "# Result is:\n",
    "#   - Source tiles\n",
    "#   - Destination tiles\n",
    "#   - Source rows\n",
    "#   - Destination columns\n",
    "\n",
    "a_s.swapRanksBelow()\n",
    "displayTensor(a_s)"
   ]
  },
  {
   "cell_type": "markdown",
   "metadata": {},
   "source": [
    "## Testing area\n",
    "\n",
    "For running alternative algorithms"
   ]
  },
  {
   "cell_type": "code",
   "execution_count": null,
   "metadata": {},
   "outputs": [],
   "source": []
  },
  {
   "cell_type": "code",
   "execution_count": null,
   "metadata": {},
   "outputs": [],
   "source": []
  },
  {
   "cell_type": "code",
   "execution_count": null,
   "metadata": {},
   "outputs": [],
   "source": []
  }
 ],
 "metadata": {
  "kernelspec": {
   "display_name": "Python 3",
   "language": "python",
   "name": "python3"
  },
  "language_info": {
   "codemirror_mode": {
    "name": "ipython",
    "version": 3
   },
   "file_extension": ".py",
   "mimetype": "text/x-python",
   "name": "python",
   "nbconvert_exporter": "python",
   "pygments_lexer": "ipython3",
   "version": "3.6.7"
  }
 },
 "nbformat": 4,
 "nbformat_minor": 2
}
