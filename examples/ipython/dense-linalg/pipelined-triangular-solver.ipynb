{
 "cells": [
  {
   "cell_type": "code",
   "execution_count": null,
   "metadata": {},
   "outputs": [],
   "source": [
    "# Run boilerplate code to set up environment\n",
    "\n",
    "%run ../prelude.py"
   ]
  },
  {
   "cell_type": "markdown",
   "metadata": {},
   "source": [
    "# Triangular solver\n",
    "\n",
    "Based on scipy's [scipy.linalg.solve_triangular](https://docs.scipy.org/doc/scipy/reference/generated/scipy.linalg.solve_triangular.html)\n",
    "\n",
    "_Note:_ this still needs a little work, because it's all still uncompressed. Also, the special-casing of case j = 0 and j > 0 is very awkward."
   ]
  },
  {
   "cell_type": "code",
   "execution_count": null,
   "metadata": {
    "scrolled": false
   },
   "outputs": [],
   "source": [
    "x = [[3, 2, 1, 1],\n",
    "     [0, 1, 0, 1],\n",
    "     [0, 0, 1, 1],\n",
    "     [0, 0, 0, 1]]\n",
    "\n",
    "N = 4\n",
    "\n",
    "b = [4,\n",
    "     2,\n",
    "     4,\n",
    "     2]\n",
    "\n",
    "A_MN = Tensor.fromUncompressed([\"M\", \"N\"], x).setName(\"A\")\n",
    "B_N = Tensor.fromUncompressed([\"N\"], b).setName(\"b\")\n",
    "\n",
    "B_check = Tensor.fromUncompressed([\"N\"], b).setName(\"b check\")\n",
    "\n",
    "\n",
    "A = A_MN.getRoot()\n",
    "# hack to induce coordinates in A where there are zeros,\n",
    "# and allowing us to use square brackets (i.e. __getitem__)\n",
    "# because positions == coordinates\n",
    "A << Fiber(coords=range(N))\n",
    "for j, a_j in A:\n",
    "    a_j << Fiber(coords=range(N))\n",
    "\n",
    "B = B_N.getRoot()\n",
    "\n",
    "displayTensor(A)\n",
    "displayTensor(B)"
   ]
  },
  {
   "cell_type": "markdown",
   "metadata": {},
   "source": [
    "## Pipelined triangular solver\n",
    "\n",
    "`P` is a representation of pipelined communication; each row corresponds to the data passed from the previous stage to the next. Each row is N elements wide (same as B)."
   ]
  },
  {
   "cell_type": "code",
   "execution_count": null,
   "metadata": {
    "scrolled": false
   },
   "outputs": [],
   "source": [
    "# create \"pipes\" between each stage: N-entry tensors\n",
    "# (can't simply do a rank-2 tensor because I'd have multiple entries for addActivity for that tensor, and\n",
    "# current pipelining API doesn't really handle that\n",
    "P = [Tensor(rank_ids=[\"N\"], shape=[N]).setName(\"pipe-{}\".format(i)) for i in range(N)]\n",
    "\n",
    "C = Tensor(rank_ids=[\"N\"], shape=[N]).setName(\"output\")\n",
    "C.getRoot() << Fiber(coords=range(N))\n",
    "\n",
    "canvas = createCanvas(A_MN, B_N, *P, C, enable_wait=True)\n",
    "\n",
    "cycle = 0\n",
    "stage_delay = 1\n",
    "\n",
    "# \"wait\" means, for each key-value pair in the supplied dictionary,\n",
    "# we must wait `value` cycles when the `key`th argument in the canvas has been updated \n",
    "# in order to add our own activity\n",
    "\n",
    "for j in range(N):\n",
    "    # in the first row, read from B, rather than P\n",
    "    # also, skew these starts by cycle, as these input elements are piped in one after another\n",
    "    # i_act and j_act provide pair-wise activity locations for adjacent stages in the pipeline\n",
    "    # e.g., [(j,), (j,), ()] then [(), (j,), (j,)] then [(), (), (j,)]\n",
    "    j_act = [(j,) if j == jj or j-1 == jj else [] for jj in range(N)]\n",
    "    # print(j_act)\n",
    "    \n",
    "    if j == 0:\n",
    "        b_val = B.getPayload(j)\n",
    "        p_j = P[0].getPayloadRef(j)\n",
    "        p_j <<= b_val / A.getPayload(j, j)\n",
    "        j_val = p_j\n",
    "        addActivity(canvas, (j, j), (j,), *j_act, worker=str(j), skew=cycle)\n",
    "        cycle += 1\n",
    "    else:\n",
    "        p_j = P[j-1].getPayload(j)\n",
    "        p_jj = P[j].getPayloadRef(j)\n",
    "        p_jj <<= p_j / A.getPayload(j, j)\n",
    "        j_val = p_jj\n",
    "        addActivity(canvas, (j, j), [], *j_act, worker=str(j), wait={j+1:stage_delay})\n",
    "    \n",
    "    \n",
    "    for i in range(j+1, N):\n",
    "        # in the first row, read from B, rather than P\n",
    "        i_act = [(i,) if j == ii or j-1 == ii else [] for ii in range(N)]\n",
    "        i_val = B[i] if j == 0 else P[j-1].getPayload(i)\n",
    "        \n",
    "        p_j_i = P[j].getPayloadRef(i)\n",
    "        p_j_i <<= i_val - j_val * A.getPayload(j, i)\n",
    "        # print(\"j=\", j, \"i=\", i, \"p_j_i=\", p_j_i)\n",
    "\n",
    "        if j == 0:\n",
    "            addActivity(canvas, (j, i), (i,), *i_act, worker=str(j), skew=cycle)\n",
    "            cycle += 1\n",
    "        else:\n",
    "            addActivity(canvas, (j, i), [], *i_act, worker=str(j), wait={j+1:stage_delay})\n",
    "            \n",
    "\n",
    "for j in range(N):\n",
    "    c_j = C.getPayloadRef(j)\n",
    "    c_j <<= P[j].getPayload(j)\n",
    "    j_act = [(j,) if j == jj else [] for jj in range(N)]\n",
    "    addActivity(canvas, [], [], *j_act, (j,), wait={2+j:stage_delay})\n",
    "            \n",
    "displayCanvas(canvas)\n"
   ]
  },
  {
   "cell_type": "code",
   "execution_count": null,
   "metadata": {
    "scrolled": false
   },
   "outputs": [],
   "source": [
    "# final result\n",
    "displayTensor(C)"
   ]
  },
  {
   "cell_type": "markdown",
   "metadata": {},
   "source": [
    "## Check results\n",
    "\n",
    "Check the result by performing the dot product of `A` and `x` and ensuring that equals the `b` we started with. (The jth entry of `b` corresponds to the dot product of the jth _column_ of `A` and `x`.)"
   ]
  },
  {
   "cell_type": "code",
   "execution_count": null,
   "metadata": {},
   "outputs": [],
   "source": [
    "B2 = Fiber(coords=range(N), initial=0)\n",
    "# displayTensor(B2)\n",
    "\n",
    "canvas2 = createCanvas(A, C, B2)\n",
    "for j in range(N):\n",
    "    for i in range(N):\n",
    "        # print(j, i, a_pay[i], x_val, b2_ref)\n",
    "        b2_ref = B2.getPayloadRef(j)\n",
    "        x_val = C.getPayload(i)\n",
    "        b2_ref += A.getPayload(i,j) * x_val \n",
    "        addActivity(canvas2, (i,j), (i,), (i,))\n",
    "        \n",
    "displayCanvas(canvas2)"
   ]
  },
  {
   "cell_type": "code",
   "execution_count": null,
   "metadata": {},
   "outputs": [],
   "source": [
    "# check results\n",
    "B == B2\n",
    "\n",
    "# [1.33 -0.66 2.66 -1.33]"
   ]
  },
  {
   "cell_type": "code",
   "execution_count": null,
   "metadata": {},
   "outputs": [],
   "source": []
  }
 ],
 "metadata": {
  "kernelspec": {
   "display_name": "Python 3",
   "language": "python",
   "name": "python3"
  },
  "language_info": {
   "codemirror_mode": {
    "name": "ipython",
    "version": 3
   },
   "file_extension": ".py",
   "mimetype": "text/x-python",
   "name": "python",
   "nbconvert_exporter": "python",
   "pygments_lexer": "ipython3",
   "version": "3.6.9"
  }
 },
 "nbformat": 4,
 "nbformat_minor": 4
}
