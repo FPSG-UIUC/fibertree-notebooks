{
 "cells": [
  {
   "cell_type": "markdown",
   "metadata": {
    "slideshow": {
     "slide_type": "-"
    }
   },
   "source": [
    "# Exploring SPMV\n",
    "\n",
    "First, include some libraries"
   ]
  },
  {
   "cell_type": "code",
   "execution_count": 95,
   "metadata": {},
   "outputs": [
    {
     "name": "stdout",
     "output_type": "stream",
     "text": [
      "Prelude loaded OK\n"
     ]
    }
   ],
   "source": [
    "# Run boilerplate code to set up environment\n",
    "\n",
    "%run prelude.py"
   ]
  },
  {
   "cell_type": "markdown",
   "metadata": {},
   "source": [
    "## Preprocessing Graph"
   ]
  },
  {
   "cell_type": "code",
   "execution_count": 152,
   "metadata": {},
   "outputs": [],
   "source": [
    "#\n",
    "# Function to take a 2D tensor (i.e. an adjacenc matrix) as input and generate a CSF as output\n",
    "#\n",
    "\n",
    "\n",
    "def create_CSF():\n",
    "    \n"
   ]
  },
  {
   "cell_type": "markdown",
   "metadata": {},
   "source": [
    "## Graph Inputs"
   ]
  },
  {
   "cell_type": "code",
   "execution_count": 158,
   "metadata": {},
   "outputs": [],
   "source": [
    "#\n",
    "# Function to create graph inputs\n",
    "#\n",
    "\n",
    "\n",
    "# Create inputs based on the slides that Aamer used to do the initial SPMV mapping on Symphony\n",
    "def create_inputs(display=True):\n",
    "    \n",
    "    # Adjacency matrix - Ranks \"S\" (source) and \"D\" (destination)\n",
    "\n",
    "    adjMat = Tensor.fromUncompressed([ \"S\", \"D\"],\n",
    "                                [ [ 0, 1, 0, 0, 1, 1, 1, 0 ],\n",
    "                                  [ 1, 0, 0, 1, 1, 1, 0, 0 ],\n",
    "                                  [ 0, 0, 0, 0, 0, 0, 0, 0 ],\n",
    "                                  [ 0, 1, 0, 0, 1, 0, 1, 0 ],\n",
    "                                  [ 1, 1, 0, 1, 0, 1, 0, 1 ],\n",
    "                                  [ 1, 1, 0, 0, 1, 0, 0, 1 ],\n",
    "                                  [ 1, 0, 0, 1, 0, 0, 0, 0 ],\n",
    "                                  [ 0, 0, 0, 0, 1, 1, 0, 0 ] ])\n",
    "\n",
    "    # Vector\n",
    "    srcData = Tensor.fromUncompressed([ \"V\" ], [ 1, 1, 1, 1, 1, 1, 1, 1 ])\n",
    "\n",
    "    # Vector\n",
    "    dstData = Tensor(rank_ids=[\"V\"])\n",
    "    \n",
    "    print(\"Created Adjacency Matrix\")\n",
    "    if display:\n",
    "        displayTensor(adjMat)\n",
    "\n",
    "    print(\"Created SrcData\")\n",
    "    if display:\n",
    "        displayTensor(srcData)\n",
    "\n",
    "    print(\"Created DstData\")\n",
    "    if display:\n",
    "        displayTensor(dstData)\n",
    "\n",
    "    return (dstData, adjMat, srcData)\n",
    "\n"
   ]
  },
  {
   "cell_type": "markdown",
   "metadata": {},
   "source": [
    "# Naive SPMV - source stationary (push)\n",
    "\n",
    "This version traverses all neighbors of each source node."
   ]
  },
  {
   "cell_type": "code",
   "execution_count": 155,
   "metadata": {
    "scrolled": true
   },
   "outputs": [
    {
     "name": "stdout",
     "output_type": "stream",
     "text": [
      "Created Adjacency Matrix\n",
      "Created Vector\n",
      "Created Output\n",
      "Running SRC stationary SPMV:\n"
     ]
    },
    {
     "data": {
      "text/html": [
       "\n",
       "        <video width=\"100%\" loop autoplay controls>\n",
       "            <source src=\"IRzuwEXDfC.mp4?t=KpmUgsdabV\" type=\"video/mp4\">\n",
       "        </video>\n",
       "      "
      ],
      "text/plain": [
       "<IPython.core.display.HTML object>"
      ]
     },
     "metadata": {},
     "output_type": "display_data"
    }
   ],
   "source": [
    "# Create inputs\n",
    "(dstData, adjMat, srcData) = create_inputs(False)\n",
    "\n",
    "# Get root fibers\n",
    "adjMat_s  = adjMat.getRoot()\n",
    "srcData_v = srcData.getRoot()\n",
    "dstData_v = dstData.getRoot()\n",
    "\n",
    "#print(\"Displaying Graph\")\n",
    "#displayGraph(adjMat_s)\n",
    "\n",
    "#print(\"Displaying Fiber Tree Representation of Adjacency Matrix\")\n",
    "#displayTensor(adjMat)\n",
    "\n",
    "#print(\"Displaying Fiber Tree Representation of Vector\")\n",
    "#displayTensor(srcData)\n",
    "\n",
    "# create a tensor frame\n",
    "canvas = TensorCanvas(adjMat, srcData, dstData)\n",
    "\n",
    "# Perform the src stationary SPMV\n",
    "print(\"Running SRC stationary SPMV:\")\n",
    "\n",
    "for s, (adjMat_d, srcData_val) in (adjMat_s & srcData_v):\n",
    "    for d, (dstData_ref, adjMat_val), in (dstData_v << adjMat_d):\n",
    "        dstData_ref += adjMat_val * srcData_val\n",
    "        canvas.addFrame([s,d], [s], [d])\n",
    "\n",
    "# display the canvas animation\n",
    "displayCanvas(canvas)\n",
    "\n"
   ]
  },
  {
   "cell_type": "markdown",
   "metadata": {},
   "source": [
    "# Naive SPMV - destination stationary (pull)\n",
    "\n",
    "This version traverses all neighbors of each destination node."
   ]
  },
  {
   "cell_type": "code",
   "execution_count": 160,
   "metadata": {},
   "outputs": [
    {
     "name": "stdout",
     "output_type": "stream",
     "text": [
      "Created Adjacency Matrix\n",
      "Created SrcData\n",
      "Created DstData\n",
      "Creating Transpose of Typical Adjacency Matrix to Perform Dst Stationary Traversal:\n",
      "Running DST stationary SPMV:\n"
     ]
    },
    {
     "data": {
      "text/html": [
       "\n",
       "        <video width=\"100%\" loop autoplay controls>\n",
       "            <source src=\"gvGzaMvLTY.mp4?t=hOgcuZwVcm\" type=\"video/mp4\">\n",
       "        </video>\n",
       "      "
      ],
      "text/plain": [
       "<IPython.core.display.HTML object>"
      ]
     },
     "metadata": {},
     "output_type": "display_data"
    }
   ],
   "source": [
    "# Create inputs\n",
    "\n",
    "(dstData, adjMat, srcData) = create_inputs(False)\n",
    "\n",
    "# Get root fibers\n",
    "adjMat_s  = adjMat.getRoot()\n",
    "srcData_v = srcData.getRoot()\n",
    "dstData_v = dstData.getRoot()\n",
    "\n",
    "#print(\"Displaying Graph\")\n",
    "#displayGraph(adjMat_s)\n",
    "\n",
    "# For destination stationary we need to swap the matrix\n",
    "adjMat_transpose_d = adjMat_s.swapRanks();\n",
    "\n",
    "#print(\"Displaying Transposed Graph\")\n",
    "#displayGraph(adjMat_transpose_d)\n",
    "\n",
    "# create the actual transposed tensor in memory \n",
    "print(\"Creating Transpose of Typical Adjacency Matrix to Perform Dst Stationary Traversal:\")\n",
    "adjMat_transposed = Tensor.fromFiber([\"D\", \"S\"], adjMat_transpose_d)\n",
    "\n",
    "#print(\"Displaying Fiber Tree Representation of Transposed Adjacency Matrix\")\n",
    "#displayTensor(adjMat_transposed)\n",
    "\n",
    "#print(\"Displaying Fiber Tree Representation of srcData\")\n",
    "#displayTensor(srcData)\n",
    "\n",
    "#print(\"Displaying Fiber Tree Representation of dstData\")\n",
    "#displayTensor(dstData)\n",
    "\n",
    "# create the new canvas with transposed adjacency matrix\n",
    "canvas = TensorCanvas(adjMat_transposed, srcData, dstData)\n",
    "\n",
    "# Perform the dst stationary SPMV\n",
    "print(\"Running DST stationary SPMV:\")\n",
    "\n",
    "# Perform the destination stationary SPMV\n",
    "for d, (dstData_ref, adjMat_transpose_s) in (dstData_v << adjMat_transpose_d):\n",
    "    for s, (adjMat_transpose_val, srcData_val), in (adjMat_transpose_s & srcData_v):\n",
    "        dstData_ref += adjMat_transpose_val * srcData_val\n",
    "        canvas.addFrame([d,s], [s], [d])\n",
    "\n",
    "# display the canvas animation\n",
    "displayCanvas(canvas)\n",
    "\n"
   ]
  },
  {
   "cell_type": "markdown",
   "metadata": {},
   "source": [
    "# 1D -- Spatially Tiled SPMV - src stationary (push)\n",
    "\n",
    "This version traverses all neighbors of each source node."
   ]
  },
  {
   "cell_type": "code",
   "execution_count": 162,
   "metadata": {},
   "outputs": [
    {
     "name": "stdout",
     "output_type": "stream",
     "text": [
      "Created Adjacency Matrix\n",
      "Created SrcData\n",
      "Created DstData\n",
      "Tiling the adjacency matrix in coordinate space uniformly with tile size=2\n",
      "Tiling the srcData vector in coordinate space uniformly with tile size=2\n",
      "Running Tiled SRC stationary SPMV:\n"
     ]
    },
    {
     "data": {
      "text/html": [
       "\n",
       "        <video width=\"100%\" loop autoplay controls>\n",
       "            <source src=\"HJAMXoIIlv.mp4?t=qmhvjJQwEN\" type=\"video/mp4\">\n",
       "        </video>\n",
       "      "
      ],
      "text/plain": [
       "<IPython.core.display.HTML object>"
      ]
     },
     "metadata": {},
     "output_type": "display_data"
    }
   ],
   "source": [
    "# Create inputs\n",
    "(dstData, adjMat, srcData) = create_inputs(False)\n",
    "\n",
    "# Get root fibers\n",
    "adjMat_s  = adjMat.getRoot()\n",
    "srcData_v = srcData.getRoot()\n",
    "dstData_v = dstData.getRoot()\n",
    "\n",
    "# Tile the adjacency matrix in the source dimension \n",
    "print(\"Tiling the adjacency matrix in coordinate space uniformly with tile size=2\")\n",
    "adjMat_tiled_s1 = adjMat_s.splitUniform(2)\n",
    "#displayTensor(adjMat_tiled_s1)\n",
    "\n",
    "# Tile the srcData vector in the source dimension \n",
    "print(\"Tiling the srcData vector in coordinate space uniformly with tile size=2\")\n",
    "srcData_tiled_v1 = srcData_v.splitUniform(2)\n",
    "#displayTensor(srcData_tiled_v1)\n",
    "\n",
    "# create a tensor frame\n",
    "canvas = TensorCanvas(adjMat_tiled_s1, srcData_tiled_v1, dstData)\n",
    "\n",
    "# Perform the src stationary SPMV\n",
    "print(\"Running Tiled SRC stationary SPMV:\")\n",
    "\n",
    "# perform the tiled src stationary SPMV\n",
    "for s1, (adjMat_tiled_s0, srcData_tiled_v0) in (adjMat_tiled_s1 & srcData_tiled_v1):\n",
    "    for s0, (adjMat_tiled_d, srcData_tiled_val) in (adjMat_tiled_s0 & srcData_tiled_v0):\n",
    "        for d, (dstData_ref, adjMat_tiled_val) in (dstData_v << adjMat_tiled_d):\n",
    "            dstData_ref += adjMat_tiled_val * srcData_tiled_val\n",
    "            canvas.addFrame([s1,s0,d], [s1,s0], [d])\n",
    "\n",
    "# display the canvas animation\n",
    "displayCanvas(canvas)\n"
   ]
  },
  {
   "cell_type": "markdown",
   "metadata": {},
   "source": [
    "# 2D -- Spatially Tiled SPMV - src stationary (push)  -- Work In Progress\n",
    "\n",
    "This version traverses all neighbors of each source node."
   ]
  },
  {
   "cell_type": "code",
   "execution_count": 151,
   "metadata": {},
   "outputs": [
    {
     "name": "stdout",
     "output_type": "stream",
     "text": [
      "Created Adjacency Matrix\n",
      "Created Vector\n",
      "Created Output\n",
      "Tiling the adjacency matrix in coordinate space uniformly with tile size=2\n"
     ]
    },
    {
     "data": {
      "image/png": "[encoded data removed]",
      "text/plain": [
       "<PIL.Image.Image image mode=RGB size=2320x410 at 0x7F5EAF357EB8>"
      ]
     },
     "metadata": {},
     "output_type": "display_data"
    },
    {
     "name": "stdout",
     "output_type": "stream",
     "text": [
      "Tiling the srcData vector in coordinate space uniformly with tile size=2\n"
     ]
    },
    {
     "data": {
      "image/png": "[encoded data removed]",
      "text/plain": [
       "<PIL.Image.Image image mode=RGB size=1040x330 at 0x7F5EAF66C2E8>"
      ]
     },
     "metadata": {},
     "output_type": "display_data"
    },
    {
     "name": "stdout",
     "output_type": "stream",
     "text": [
      "Tiling the dstData vector in coordinate space uniformly with tile size=2\n"
     ]
    },
    {
     "data": {
      "image/png": "[encoded data removed]",
      "text/plain": [
       "<PIL.Image.Image image mode=RGB size=400x120 at 0x7F5EAF357F60>"
      ]
     },
     "metadata": {},
     "output_type": "display_data"
    },
    {
     "data": {
      "text/html": [
       "\n",
       "        <video width=\"100%\" loop autoplay controls>\n",
       "            <source src=\"RKkZQaKRXw.mp4?t=dMZqsDaotB\" type=\"video/mp4\">\n",
       "        </video>\n",
       "      "
      ],
      "text/plain": [
       "<IPython.core.display.HTML object>"
      ]
     },
     "metadata": {},
     "output_type": "display_data"
    }
   ],
   "source": [
    "# Create inputs\n",
    "(dstData, adjMat, srcData) = create_inputs(False)\n",
    "\n",
    "# Get root fibers\n",
    "adjMat_s  = adjMat.getRoot()\n",
    "srcData_v = srcData.getRoot()\n",
    "dstData_v = dstData.getRoot()\n",
    "\n",
    "# Tile the adjacency matrix in the source dimension \n",
    "print(\"Tiling the adjacency matrix in coordinate space uniformly with tile size=2\")\n",
    "adjMat_tiled_s1 = adjMat_s.splitUniform(2)\n",
    "\n",
    "# display the tiled tensor\n",
    "displayTensor(adjMat_tiled_s1)\n",
    "\n",
    "# Tile the srcData vector in the src dimension \n",
    "print(\"Tiling the srcData vector in coordinate space uniformly with tile size=2\")\n",
    "srcData_tiled_v1 = srcData_v.splitUniform(2)\n",
    "displayTensor(srcData_tiled_v1)\n",
    "\n",
    "# Tile the dstData vector in the dst dimension \n",
    "print(\"Tiling the dstData vector in coordinate space uniformly with tile size=2\")\n",
    "dstData_tiled_v1 = dstData_v.splitUniform(2)\n",
    "displayTensor(dstData_tiled_v1)\n",
    "\n",
    "# create a tensor frame\n",
    "canvas = TensorCanvas(adjMat_tiled_s1, srcData_tiled_v1, dstData)\n",
    "\n",
    "# perform the tiled src stationary SPMV\n",
    "for s1, (adjMat_tiled_s0, srcData_tiled_v0) in (adjMat_tiled_s1 & srcData_tiled_v1):\n",
    "    for s0, (adjMat_tiled_d, srcData_tiled_val) in (adjMat_tiled_s0 & srcData_tiled_v0):\n",
    "        for d, (dstData_ref, adjMat_tiled_val) in (dstData_v << adjMat_tiled_d):\n",
    "            dstData_ref += adjMat_tiled_val * srcData_tiled_val\n",
    "            canvas.addFrame([s1,s0,d], [s1,s0], [d])\n",
    "\n",
    "# display the canvas animation\n",
    "displayCanvas(canvas)\n"
   ]
  },
  {
   "cell_type": "code",
   "execution_count": null,
   "metadata": {},
   "outputs": [],
   "source": []
  },
  {
   "cell_type": "code",
   "execution_count": null,
   "metadata": {},
   "outputs": [],
   "source": [
    "\n",
    "\n"
   ]
  },
  {
   "cell_type": "code",
   "execution_count": null,
   "metadata": {
    "scrolled": false
   },
   "outputs": [],
   "source": []
  },
  {
   "cell_type": "markdown",
   "metadata": {},
   "source": []
  },
  {
   "cell_type": "code",
   "execution_count": null,
   "metadata": {},
   "outputs": [],
   "source": []
  },
  {
   "cell_type": "code",
   "execution_count": null,
   "metadata": {},
   "outputs": [],
   "source": []
  },
  {
   "cell_type": "code",
   "execution_count": null,
   "metadata": {},
   "outputs": [],
   "source": []
  }
 ],
 "metadata": {
  "kernelspec": {
   "display_name": "Python 3",
   "language": "python",
   "name": "python3"
  },
  "language_info": {
   "codemirror_mode": {
    "name": "ipython",
    "version": 3
   },
   "file_extension": ".py",
   "mimetype": "text/x-python",
   "name": "python",
   "nbconvert_exporter": "python",
   "pygments_lexer": "ipython3",
   "version": "3.6.9"
  }
 },
 "nbformat": 4,
 "nbformat_minor": 2
}
