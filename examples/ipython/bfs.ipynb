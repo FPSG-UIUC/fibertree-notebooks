{
 "cells": [
  {
   "cell_type": "markdown",
   "metadata": {
    "slideshow": {
     "slide_type": "-"
    }
   },
   "source": [
    "# Exploring BFS\n",
    "\n",
    "First, include some libraries"
   ]
  },
  {
   "cell_type": "code",
   "execution_count": null,
   "metadata": {},
   "outputs": [],
   "source": [
    "# Library imports\n",
    "\n",
    "#\n",
    "# Import tensor class\n",
    "#\n",
    "from fibertree import Payload, Fiber, Tensor, TensorImage\n",
    "\n",
    "#\n",
    "# Import display classes/utilities\n",
    "#\n",
    "from IPython.display import display # to display images\n",
    "\n",
    "def displayTensor(t):\n",
    "    display(TensorImage(t).im)\n",
    "\n",
    "#\n",
    "# Helper for data directory\n",
    "#\n",
    "import os\n",
    "\n",
    "data_dir = \"../data\"\n",
    "\n",
    "def datafileName(filename):\n",
    "    return os.path.join(data_dir, filename)\n",
    "\n"
   ]
  },
  {
   "cell_type": "markdown",
   "metadata": {},
   "source": [
    "## Graph Inputs\n"
   ]
  },
  {
   "cell_type": "code",
   "execution_count": null,
   "metadata": {},
   "outputs": [],
   "source": [
    "# Adjacency matrix\n",
    "a = Tensor.fromUncompressed([ \"S\", \"D\"],\n",
    "                            [ [ 0, 1, 1, 0, 0, 0 ],\n",
    "                              [ 0, 0, 1, 1, 0, 0 ],\n",
    "                              [ 0, 0, 0, 1, 1, 0 ],\n",
    "                              [ 0, 0, 0, 0, 1, 1 ],\n",
    "                              [ 1, 0, 0, 0, 0, 1 ],\n",
    "                              [ 1, 1, 0, 0, 0, 0 ] ])\n",
    "\n",
    "# Fringe (current and next)\n",
    "f0 = Tensor.fromUncompressed([ \"D\" ], [ 1, 0, 0, 0, 0, 0 ])\n",
    "\n",
    "# Distance\n",
    "d = Tensor(rank_ids=[ \"S\" ])\n",
    "\n",
    "print(\"Adjanceny Matrix\")\n",
    "displayTensor(a)\n",
    "\n",
    "print(\"Distance Vector\")\n",
    "displayTensor(d)\n",
    "\n",
    "print(\"CUrrent Fringe\")\n",
    "displayTensor(f0)\n",
    "\n",
    "\n",
    "\n"
   ]
  },
  {
   "cell_type": "markdown",
   "metadata": {},
   "source": [
    "## Naive BFS\n",
    "\n",
    "This version traverses all neighbors of each source node, even if there already is a distance. So there is a check to not create a new distance."
   ]
  },
  {
   "cell_type": "code",
   "execution_count": null,
   "metadata": {
    "scrolled": false
   },
   "outputs": [],
   "source": [
    "# Get root fibers\n",
    "a_s = a.root()\n",
    "f0_d = f0.root()\n",
    "d_d = d.root()\n",
    "\n",
    "level = 1\n",
    "\n",
    "\n",
    "while (f0_d.countValues() > 0):\n",
    "    print(\"\\n\\n\")\n",
    "    print(f\"Level {level} fringe\")\n",
    "    displayTensor(f0_d.nonEmpty())\n",
    "    print(f\"Level {level} distances\")\n",
    "    displayTensor(d_d)   \n",
    "\n",
    "    # Create a new next fringe (f1)\n",
    "    \n",
    "    f1 = Tensor(rank_ids=[ \"D\" ]) \n",
    "    f1_d = f1.root()\n",
    "\n",
    "    for s, (_, a_d) in f0_d & a_s:\n",
    "        print(f\"Processing source {s}\")\n",
    "        print(f\"Neighbors:\\n {a_d}\")\n",
    "\n",
    "        for d, (f1_ref, (d_ref, _)) in f1_d << (d_d << a_d):\n",
    "            print(f\"  Processing destination {d} = {d_ref}\")\n",
    "\n",
    "            if Payload.isEmpty(d_ref):\n",
    "                print(f\"  Adding destination {d}\")\n",
    "\n",
    "                f1_ref += 1\n",
    "                d_ref += level\n",
    "\n",
    "    # Move to next level\n",
    "    \n",
    "    level += 1\n",
    "    \n",
    "    # Copy next fringe to current fringe\n",
    "    \n",
    "    f0 = f1\n",
    "    f0_d = f0.root()\n",
    "\n",
    "\n",
    "print(\"Final Distances\")\n",
    "displayTensor(d_d)"
   ]
  },
  {
   "cell_type": "markdown",
   "metadata": {},
   "source": [
    "## Optimized BFS\n",
    "\n",
    "Avoid processing of any destination node that already has a distance by subtracting the distance array from the neighbors"
   ]
  },
  {
   "cell_type": "markdown",
   "metadata": {},
   "source": [
    "## Graph Inputs\n"
   ]
  },
  {
   "cell_type": "code",
   "execution_count": null,
   "metadata": {},
   "outputs": [],
   "source": [
    "# Adjacency matrix\n",
    "a = Tensor.fromUncompressed([ \"S\", \"D\"],\n",
    "                            [ [ 0, 1, 1, 0, 0, 0 ],\n",
    "                              [ 0, 0, 1, 1, 0, 0 ],\n",
    "                              [ 0, 0, 0, 1, 1, 0 ],\n",
    "                              [ 0, 0, 0, 0, 1, 1 ],\n",
    "                              [ 1, 0, 0, 0, 0, 1 ],\n",
    "                              [ 1, 1, 0, 0, 0, 0 ] ])\n",
    "\n",
    "# Fringe (current and next)\n",
    "f0 = Tensor.fromUncompressed([ \"D\" ], [ 1, 0, 0, 0, 0, 0 ])\n",
    "\n",
    "# Distance\n",
    "d = Tensor(rank_ids=[ \"S\" ])\n",
    "\n",
    "print(\"Adjanceny Matrix\")\n",
    "displayTensor(a)\n",
    "\n",
    "print(\"Distance Vector\")\n",
    "displayTensor(d)\n",
    "\n",
    "print(\"CUrrent Fringe\")\n",
    "displayTensor(f0)\n",
    "\n",
    "\n",
    "\n"
   ]
  },
  {
   "cell_type": "code",
   "execution_count": null,
   "metadata": {
    "scrolled": false
   },
   "outputs": [],
   "source": [
    "# Get root fibers\n",
    "a_s = a.root()\n",
    "f0_d = f0.root()\n",
    "d_d = d.root()\n",
    "\n",
    "level = 1\n",
    "\n",
    "\n",
    "while (f0_d.countValues() > 0):\n",
    "    print(\"\\n\\n\")\n",
    "    print(f\"Level {level} fringe\")\n",
    "    displayTensor(f0_d.nonEmpty())\n",
    "    print(f\"Level {level} distances\")\n",
    "    displayTensor(d_d)   \n",
    "\n",
    "    # Create a new next fringe (f1)\n",
    "    \n",
    "    f1 = Tensor(rank_ids=[ \"D\" ]) \n",
    "    f1_d = f1.root()\n",
    "\n",
    "    for s, (_, a_d) in f0_d & a_s:\n",
    "        print(f\"Processing source {s}\")\n",
    "        print(f\"Neighbors:\\n {a_d}\")\n",
    "\n",
    "        for d, (f1_ref, (d_ref, _)) in f1_d << (d_d << (a_d - d_d)):\n",
    "            print(f\"  Processing destination {d} = {d_ref}\")\n",
    "            print(f\"  Adding destination {d}\")\n",
    "\n",
    "            f1_ref += 1\n",
    "            d_ref += level\n",
    "\n",
    "    # Move to next level\n",
    "    \n",
    "    level += 1\n",
    "    \n",
    "    # Copy next fringe to current fringe\n",
    "    \n",
    "    f0 = f1\n",
    "    f0_d = f0.root()\n",
    "\n",
    "print(\"Final Distances\")\n",
    "displayTensor(d_d)"
   ]
  },
  {
   "cell_type": "markdown",
   "metadata": {},
   "source": [
    "## Testing area\n",
    "\n",
    "For running alternative algorithms"
   ]
  },
  {
   "cell_type": "code",
   "execution_count": null,
   "metadata": {},
   "outputs": [],
   "source": []
  },
  {
   "cell_type": "code",
   "execution_count": null,
   "metadata": {},
   "outputs": [],
   "source": []
  },
  {
   "cell_type": "code",
   "execution_count": null,
   "metadata": {},
   "outputs": [],
   "source": []
  }
 ],
 "metadata": {
  "kernelspec": {
   "display_name": "Python 3",
   "language": "python",
   "name": "python3"
  },
  "language_info": {
   "codemirror_mode": {
    "name": "ipython",
    "version": 3
   },
   "file_extension": ".py",
   "mimetype": "text/x-python",
   "name": "python",
   "nbconvert_exporter": "python",
   "pygments_lexer": "ipython3",
   "version": "3.6.8"
  }
 },
 "nbformat": 4,
 "nbformat_minor": 2
}
