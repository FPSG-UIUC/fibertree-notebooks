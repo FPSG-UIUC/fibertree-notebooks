{
 "cells": [
  {
   "cell_type": "markdown",
   "metadata": {
    "slideshow": {
     "slide_type": "-"
    }
   },
   "source": [
    "# Exploring Cartesian Product\n",
    "\n",
    "First, include some libraries"
   ]
  },
  {
   "cell_type": "code",
   "execution_count": null,
   "metadata": {},
   "outputs": [],
   "source": [
    "# Run boilerplate code to set up environment\n",
    "\n",
    "#%run prelude.py\n",
    "%run prelude.py --no-show-animations"
   ]
  },
  {
   "cell_type": "markdown",
   "metadata": {},
   "source": [
    "## Cartesian Product"
   ]
  },
  {
   "cell_type": "code",
   "execution_count": null,
   "metadata": {},
   "outputs": [],
   "source": [
    "#\n",
    "# Function to create graph inputs\n",
    "#\n",
    "\n",
    "def create_tensors():\n",
    "    a = Tensor.fromUncompressed([\"M\"], [0, 1, 2, 0, 0, 6, 7, 0, 9])\n",
    "    b = Tensor.fromUncompressed([\"N\"], [0, 0, 0, 30, 0, 60, 0, 80, 90])\n",
    "    z = Tensor(rank_ids=[\"m\", \"n\"])\n",
    "    \n",
    "    a.setColor(\"blue\")\n",
    "    b.setColor(\"green\")\n",
    "    \n",
    "    canvas = createCanvas(a, b, z)\n",
    "    \n",
    "    return (z, a, b, canvas)"
   ]
  },
  {
   "cell_type": "markdown",
   "metadata": {},
   "source": [
    "## Simple Cartesian product - with ordered outputs"
   ]
  },
  {
   "cell_type": "code",
   "execution_count": null,
   "metadata": {},
   "outputs": [],
   "source": [
    "# Cartesian product with assignment to z_ref\n",
    "\n",
    "(z, a, b, canvas) = create_tensors()\n",
    "\n",
    "a_m = a.getRoot()\n",
    "b_n = b.getRoot()\n",
    "z_m = z.getRoot()\n",
    "\n",
    "\n",
    "for m, (z_n, a_val) in z_m << a_m:\n",
    "    for n, (z_n_ref, b_val) in z_n << b_n:\n",
    "        z_n_ref += a_val * b_val\n",
    "        addFrame(canvas, [m], [n], [m,n])\n",
    "        \n",
    "        \n",
    "displayCanvas(canvas)"
   ]
  },
  {
   "cell_type": "markdown",
   "metadata": {},
   "source": [
    "## Cartesian product with outputs updated based on coordinates\n",
    "\n",
    "This example illustrates updating outputs based on coordinates using the Fiber.getPayloadRef(&lt;coord&gt;) method. This corresponds to doing a scatter write. Whether the write is into a uncompressed or compressed space is representation dependent. \n",
    "\n",
    "Note that procedure isn't really necessary because the outputs are generated in a concordent order."
   ]
  },
  {
   "cell_type": "code",
   "execution_count": null,
   "metadata": {},
   "outputs": [],
   "source": [
    "# Cartesian product with assignment to z payload\n",
    "\n",
    "(z, a, b, canvas) = create_tensors()\n",
    "\n",
    "a_m = a.getRoot()\n",
    "b_n = b.getRoot()\n",
    "z_m = z.getRoot()\n",
    "\n",
    "\n",
    "for m, (a_val) in a_m:\n",
    "    for n, (b_val) in b_n:\n",
    "        p = z_m.getPayloadRef(m, n)\n",
    "        p += a_val * b_val\n",
    "        addFrame(canvas, [m], [n], [m, n])\n",
    "        \n",
    "        \n",
    "displayCanvas(canvas)"
   ]
  },
  {
   "cell_type": "markdown",
   "metadata": {},
   "source": [
    "### Changing computation order\n",
    "\n",
    "Note that by using Fiber.getPayloadRef() we don't need to maintain a concordant traversal order for the writes. So the following sequence with the \"for\" loops reversed works just fine."
   ]
  },
  {
   "cell_type": "code",
   "execution_count": null,
   "metadata": {},
   "outputs": [],
   "source": [
    "# Cartesian product with assignment to z payload\n",
    "\n",
    "(z, a, b, canvas) = create_tensors()\n",
    "\n",
    "a_m = a.getRoot()\n",
    "b_n = b.getRoot()\n",
    "z_m = z.getRoot()\n",
    "\n",
    "\n",
    "for n, (b_val) in b_n:\n",
    "    for m, (a_val) in a_m:\n",
    "        p = z_m.getPayloadRef(m, n)\n",
    "        p += a_val * b_val\n",
    "        addFrame(canvas, [m], [n], [m, n])\n",
    "        \n",
    "        \n",
    "displayCanvas(canvas)"
   ]
  },
  {
   "cell_type": "markdown",
   "metadata": {},
   "source": [
    "## Cartesian product with position split inputs\n",
    "\n",
    "This example splits the input vectors uniformly in postion space (into groups of 2) and illustrates the processing sequence for a 2x2 parallel Cartesian product. \n",
    "\n",
    "### Generate inputs"
   ]
  },
  {
   "cell_type": "code",
   "execution_count": null,
   "metadata": {},
   "outputs": [],
   "source": [
    "# Get inputs\n",
    "\n",
    "(z, a, b, _) = create_tensors()\n",
    "\n",
    "a_m = a.getRoot()\n",
    "b_n = b.getRoot()\n",
    "z_m = z.getRoot()\n"
   ]
  },
  {
   "cell_type": "markdown",
   "metadata": {},
   "source": [
    "### Split the input vectors"
   ]
  },
  {
   "cell_type": "code",
   "execution_count": null,
   "metadata": {},
   "outputs": [],
   "source": [
    "# Run cartesian product\n",
    "\n",
    "a_m1 = a_m.splitEqual(2)\n",
    "print(\"Split a\")\n",
    "displayTensor(a_m1)\n",
    "\n",
    "b_n1 = b_n.splitEqual(2)\n",
    "print(\"Split b\")\n",
    "displayTensor(b_n1)"
   ]
  },
  {
   "cell_type": "markdown",
   "metadata": {},
   "source": [
    "### Process the split vectors"
   ]
  },
  {
   "cell_type": "code",
   "execution_count": null,
   "metadata": {
    "scrolled": false
   },
   "outputs": [],
   "source": [
    "for m1, (a_m0) in a_m1:\n",
    "    print(f\"Process a_m0: {a_m0}\")\n",
    "    \n",
    "    for n1,(b_n0) in b_n1:\n",
    "        print(f\"Process b_n0: {b_n0}\")\n",
    "        \n",
    "        # The following two loops can be run in parallel\n",
    "        for m0, a_val in a_m0:\n",
    "            for n0, b_val in b_n0:\n",
    "                # Note: m0 and n0 are the original coordinates\n",
    "                print(f\"Generate result for m0={m0}, n0={n0}\")\n",
    "                p = z_m.getPayloadRef(m0, n0)\n",
    "                p += a_val * b_val\n",
    "  \n",
    "displayTensor(z)"
   ]
  },
  {
   "cell_type": "markdown",
   "metadata": {},
   "source": [
    "## Testing area\n",
    "\n",
    "For running alternative algorithms"
   ]
  },
  {
   "cell_type": "code",
   "execution_count": null,
   "metadata": {},
   "outputs": [],
   "source": []
  },
  {
   "cell_type": "code",
   "execution_count": null,
   "metadata": {},
   "outputs": [],
   "source": []
  },
  {
   "cell_type": "code",
   "execution_count": null,
   "metadata": {},
   "outputs": [],
   "source": []
  }
 ],
 "metadata": {
  "kernelspec": {
   "display_name": "Python 3",
   "language": "python",
   "name": "python3"
  },
  "language_info": {
   "codemirror_mode": {
    "name": "ipython",
    "version": 3
   },
   "file_extension": ".py",
   "mimetype": "text/x-python",
   "name": "python",
   "nbconvert_exporter": "python",
   "pygments_lexer": "ipython3",
   "version": "3.6.9"
  }
 },
 "nbformat": 4,
 "nbformat_minor": 2
}
