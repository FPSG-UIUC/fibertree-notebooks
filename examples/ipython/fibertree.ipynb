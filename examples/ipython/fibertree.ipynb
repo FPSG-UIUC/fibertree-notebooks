{
 "cells": [
  {
   "cell_type": "markdown",
   "metadata": {
    "slideshow": {
     "slide_type": "-"
    }
   },
   "source": [
    "# Tool for manipulating tensors using the hierarchical fiber abstraction\n",
    "\n",
    "First, include some libraries"
   ]
  },
  {
   "cell_type": "code",
   "execution_count": null,
   "metadata": {},
   "outputs": [],
   "source": [
    "# Run boilerplate code to set up environment\n",
    "\n",
    "%run prelude.py"
   ]
  },
  {
   "cell_type": "markdown",
   "metadata": {},
   "source": [
    "## Display a tensor\n"
   ]
  },
  {
   "cell_type": "markdown",
   "metadata": {},
   "source": [
    "Following is an example of reading in a tensor and displaying it"
   ]
  },
  {
   "cell_type": "code",
   "execution_count": null,
   "metadata": {},
   "outputs": [],
   "source": [
    "        \n",
    "# Display an example tensor\n",
    "\n",
    "filename = datafileName(\"draw-a.yaml\")\n",
    "\n",
    "f = open(filename)\n",
    "for line in f:\n",
    "    print(line.rstrip('\\n'))\n",
    "f.close()"
   ]
  },
  {
   "cell_type": "code",
   "execution_count": null,
   "metadata": {
    "scrolled": true
   },
   "outputs": [],
   "source": [
    "a = Tensor(filename)\n",
    "\n",
    "displayTensor(a)"
   ]
  },
  {
   "cell_type": "markdown",
   "metadata": {},
   "source": [
    "## Traverse a tensor"
   ]
  },
  {
   "cell_type": "code",
   "execution_count": null,
   "metadata": {},
   "outputs": [],
   "source": [
    "# Traverse a tensor\n",
    "\n",
    "a = Tensor(datafileName(\"matrix-a.yaml\"))\n",
    "\n",
    "displayTensor(a)"
   ]
  },
  {
   "cell_type": "code",
   "execution_count": null,
   "metadata": {},
   "outputs": [],
   "source": [
    "a_m = a.getRoot()\n",
    "\n",
    "\n",
    "for m, (a_k) in a_m:\n",
    "    print(f\"({m}, {a_k})\")\n",
    "    for k, (a_val) in a_k:\n",
    "        print(f\"Processing: ({k}, {a_val})\")"
   ]
  },
  {
   "cell_type": "markdown",
   "metadata": {},
   "source": [
    "# Element-wise update (empty) tensor, i.e., copy"
   ]
  },
  {
   "cell_type": "code",
   "execution_count": null,
   "metadata": {
    "scrolled": false
   },
   "outputs": [],
   "source": [
    "# Element-wise update a tensor\n",
    "\n",
    "a = Tensor(datafileName(\"elementwise-a.yaml\"))\n",
    "z = Tensor(rank_ids=[\"M\"])\n",
    "\n",
    "displayTensor(a)\n",
    "displayTensor(z)\n"
   ]
  },
  {
   "cell_type": "code",
   "execution_count": null,
   "metadata": {},
   "outputs": [],
   "source": [
    "a_m = a.getRoot()\n",
    "z_m = z.getRoot()\n",
    "\n",
    "print(\"Z < A Fiber\")\n",
    "\n",
    "for m, (z_ref, a_val) in z_m << a_m:\n",
    "    print(f\"Processing: ({m}, ({z_ref}, {a_val})\")\n",
    "    \n",
    "    z_ref += a_val\n",
    "\n",
    "    displayTensor(z)"
   ]
  },
  {
   "cell_type": "markdown",
   "metadata": {},
   "source": [
    "# Intersection"
   ]
  },
  {
   "cell_type": "code",
   "execution_count": null,
   "metadata": {},
   "outputs": [],
   "source": [
    "# Fiber instersection\n",
    "\n",
    "a = Tensor(datafileName(\"elementwise-a.yaml\"))\n",
    "b = Tensor(datafileName(\"elementwise-b.yaml\"))\n",
    "\n",
    "displayTensor(a)\n",
    "displayTensor(b)"
   ]
  },
  {
   "cell_type": "code",
   "execution_count": null,
   "metadata": {},
   "outputs": [],
   "source": [
    "a_m = a.getRoot()\n",
    "b_m = b.getRoot()\n",
    "\n",
    "print(\"Fiber a_m & b_m\")\n",
    "\n",
    "z_m = a_m & b_m\n",
    "\n",
    "displayTensor(z_m)"
   ]
  },
  {
   "cell_type": "markdown",
   "metadata": {},
   "source": [
    "## Element-wise multiply"
   ]
  },
  {
   "cell_type": "code",
   "execution_count": null,
   "metadata": {},
   "outputs": [],
   "source": [
    "# Element-wise multiply\n",
    "\n",
    "a = Tensor(datafileName(\"elementwise-a.yaml\"))\n",
    "b = Tensor(datafileName(\"elementwise-b.yaml\"))\n",
    "z = Tensor(rank_ids=[\"M\"])\n",
    "\n",
    "displayTensor(a)\n",
    "displayTensor(b)"
   ]
  },
  {
   "cell_type": "code",
   "execution_count": null,
   "metadata": {
    "scrolled": false
   },
   "outputs": [],
   "source": [
    "a_m = a.getRoot()\n",
    "b_m = b.getRoot()\n",
    "z_m = z.getRoot()\n",
    "\n",
    "print(\"Z < A Fiber\")\n",
    "\n",
    "for m, (z_ref, (a_val, b_val)) in z_m << (a_m & b_m):\n",
    "    print(f\"Processing: ({m}, ({z_ref}, ({a_val}, {b_val})))\")\n",
    "\n",
    "    z_ref += a_val * b_val\n",
    "\n",
    "displayTensor(z)"
   ]
  },
  {
   "cell_type": "markdown",
   "metadata": {},
   "source": [
    "## Dot-product\n",
    "\n",
    "Here is a dot product of two tensors"
   ]
  },
  {
   "cell_type": "code",
   "execution_count": null,
   "metadata": {},
   "outputs": [],
   "source": [
    "# Dot product\n",
    "#\n",
    "# To perform a dot-product we need a \"row\" for an output.\n",
    "# So we represent the vectors as 2-D tensors\n",
    "#\n",
    "\n",
    "\n",
    "a = Tensor(datafileName(\"dot-product-a.yaml\"))\n",
    "b = Tensor(datafileName(\"dot-product-b.yaml\"))\n",
    "z = Tensor(rank_ids=[\"M\"])\n",
    "\n",
    "display(TensorImage(a).im)\n",
    "display(TensorImage(b).im)"
   ]
  },
  {
   "cell_type": "code",
   "execution_count": null,
   "metadata": {},
   "outputs": [],
   "source": [
    "a_m = a.getRoot()\n",
    "b_m = b.getRoot()\n",
    "z_m = z.getRoot()\n",
    "\n",
    "\n",
    "for m, (z_ref, (a_k, b_k)) in z_m << (a_m & b_m):\n",
    "    for k, (a_val, b_val) in a_k & b_k:\n",
    "        print(f\"Processing: [{k} -> ( {z_ref}, ({a_val}, {b_val})]\")\n",
    "\n",
    "        z_ref += a_val * b_val\n",
    "\n",
    "\n",
    "display(TensorImage(z).im)"
   ]
  },
  {
   "cell_type": "markdown",
   "metadata": {},
   "source": [
    "# Union"
   ]
  },
  {
   "cell_type": "code",
   "execution_count": null,
   "metadata": {},
   "outputs": [],
   "source": [
    "# Fiber union\n",
    "\n",
    "a = Tensor(datafileName(\"elementwise-a.yaml\"))\n",
    "b = Tensor(datafileName(\"elementwise-b.yaml\"))\n",
    "\n",
    "displayTensor(a)\n",
    "displayTensor(b)"
   ]
  },
  {
   "cell_type": "code",
   "execution_count": null,
   "metadata": {},
   "outputs": [],
   "source": [
    "a_m = a.getRoot()\n",
    "b_m = b.getRoot()\n",
    "\n",
    "print(\"Fiber a_m | b_m\")\n",
    "\n",
    "z_m = a_m | b_m\n",
    "\n",
    "displayTensor(z_m)"
   ]
  },
  {
   "cell_type": "markdown",
   "metadata": {},
   "source": [
    "## Element-wise addition\n",
    "\n",
    "Following...\n",
    "\n"
   ]
  },
  {
   "cell_type": "code",
   "execution_count": null,
   "metadata": {
    "scrolled": false
   },
   "outputs": [],
   "source": [
    "#\n",
    "# Do a sum of sums of the rows of two matrices\n",
    "#\n",
    "\n",
    "a = Tensor(datafileName(\"dot-product-a.yaml\"))\n",
    "b = Tensor(datafileName(\"dot-product-b.yaml\"))\n",
    "\n",
    "z = Tensor(rank_ids=[\"M\"])\n",
    "\n",
    "displayTensor(a)\n",
    "displayTensor(b)"
   ]
  },
  {
   "cell_type": "code",
   "execution_count": null,
   "metadata": {
    "scrolled": true
   },
   "outputs": [],
   "source": [
    "a_m = a.getRoot()\n",
    "b_m = b.getRoot()\n",
    "z_m = z.getRoot()\n",
    "\n",
    "\n",
    "for m, (z_ref, (mask_k, a_k, b_k)) in z_m << (a_m | b_m):\n",
    "    for k, (ab_mask, a_val, b_val) in a_k | b_k:\n",
    "        print(f\"Processing: [{k} -> ( {z_ref}, ({ab_mask}, {a_val}, {b_val})]\")\n",
    "\n",
    "        z_ref += a_val + b_val\n",
    "\n",
    "\n",
    "displayTensor(z)"
   ]
  },
  {
   "cell_type": "markdown",
   "metadata": {},
   "source": [
    "## Reduce vector to a rank zero tensor"
   ]
  },
  {
   "cell_type": "code",
   "execution_count": null,
   "metadata": {},
   "outputs": [],
   "source": [
    "a = Tensor(datafileName(\"elementwise-a.yaml\"))\n",
    "z = Tensor(rank_ids=[])\n",
    "\n",
    "print(\"Tensor a\")\n",
    "displayTensor(a)\n",
    "\n",
    "print(\"Tensor z\")\n",
    "displayTensor(z)\n",
    "\n",
    "a_m = a.getRoot()\n",
    "z_ref = z.getRoot()\n",
    "\n",
    "for m_coord, (a_val) in a_m:\n",
    "    z_ref += a_val\n",
    "\n",
    "print(\"Result\")\n",
    "displayTensor(z)"
   ]
  },
  {
   "cell_type": "markdown",
   "metadata": {},
   "source": [
    "## Testing area\n",
    "\n",
    "For running alternative algorithms"
   ]
  },
  {
   "cell_type": "code",
   "execution_count": null,
   "metadata": {},
   "outputs": [],
   "source": []
  },
  {
   "cell_type": "code",
   "execution_count": null,
   "metadata": {},
   "outputs": [],
   "source": []
  },
  {
   "cell_type": "code",
   "execution_count": null,
   "metadata": {},
   "outputs": [],
   "source": []
  }
 ],
 "metadata": {
  "kernelspec": {
   "display_name": "Python 3",
   "language": "python",
   "name": "python3"
  },
  "language_info": {
   "codemirror_mode": {
    "name": "ipython",
    "version": 3
   },
   "file_extension": ".py",
   "mimetype": "text/x-python",
   "name": "python",
   "nbconvert_exporter": "python",
   "pygments_lexer": "ipython3",
   "version": "3.6.7"
  }
 },
 "nbformat": 4,
 "nbformat_minor": 2
}
