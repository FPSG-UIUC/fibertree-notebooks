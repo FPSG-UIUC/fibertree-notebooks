{
 "cells": [
  {
   "cell_type": "markdown",
   "metadata": {
    "slideshow": {
     "slide_type": "-"
    }
   },
   "source": [
    "# Tool for manipulating tensors using the hierarchical fiber abstraction\n",
    "\n",
    "First, include some libraries"
   ]
  },
  {
   "cell_type": "code",
   "execution_count": null,
   "metadata": {},
   "outputs": [],
   "source": [
    "# Library imports\n",
    "\n",
    "import math\n",
    "import numpy as np\n",
    "\n",
    "#\n",
    "# Import tensor class\n",
    "#\n",
    "from fibertree import Tensor, TensorImage\n",
    "\n",
    "#\n",
    "# Import display classes/utilities\n",
    "#\n",
    "from IPython.display import display # to display images\n",
    "\n",
    "def displayTensor(t):\n",
    "    display(TensorImage(t).im)\n",
    "\n",
    "#\n",
    "# Matplolib classes (not currently used)\n",
    "#\n",
    "from matplotlib.pyplot import imshow\n",
    "\n",
    "#\n",
    "# Import rc to configure animation for HTML5\n",
    "#\n",
    "from matplotlib import rc\n",
    "rc('animation', html='html5')\n"
   ]
  },
  {
   "cell_type": "markdown",
   "metadata": {},
   "source": [
    "## Display a tensor\n"
   ]
  },
  {
   "cell_type": "markdown",
   "metadata": {},
   "source": [
    "Following is an example of reading in a tensor and displaying it"
   ]
  },
  {
   "cell_type": "code",
   "execution_count": null,
   "metadata": {},
   "outputs": [],
   "source": [
    "        \n",
    "# Display an example tensor\n",
    "\n",
    "filename = \"../data/draw-a.yaml\"\n",
    "\n",
    "f = open(filename)\n",
    "for line in f:\n",
    "    print(line.rstrip('\\n'))\n",
    "f.close()"
   ]
  },
  {
   "cell_type": "code",
   "execution_count": null,
   "metadata": {
    "scrolled": true
   },
   "outputs": [],
   "source": [
    "a = Tensor(filename)\n",
    "\n",
    "displayTensor(a)"
   ]
  },
  {
   "cell_type": "markdown",
   "metadata": {},
   "source": [
    "## Traverse a tensor"
   ]
  },
  {
   "cell_type": "code",
   "execution_count": null,
   "metadata": {},
   "outputs": [],
   "source": [
    "# Traverse a tensor\n",
    "\n",
    "a = Tensor(\"../data/matrix-a.yaml\")\n",
    "\n",
    "displayTensor(a)"
   ]
  },
  {
   "cell_type": "code",
   "execution_count": null,
   "metadata": {},
   "outputs": [],
   "source": [
    "a_m = a.root()\n",
    "\n",
    "\n",
    "for m, (a_k) in a_m:\n",
    "    print(\"(%s, %s)\" % (m, a_k))\n",
    "    for k, (a_val) in a_k:\n",
    "        print(\"Processing: (%s, %s)\"% (k, a_val))"
   ]
  },
  {
   "cell_type": "markdown",
   "metadata": {},
   "source": [
    "# Copy a tensor"
   ]
  },
  {
   "cell_type": "code",
   "execution_count": null,
   "metadata": {
    "scrolled": true
   },
   "outputs": [],
   "source": [
    "# Copy a tensor\n",
    "\n",
    "a = Tensor(\"../data/elementwise-a.yaml\")\n",
    "z = Tensor(rank_ids=[\"M\"])\n",
    "\n",
    "displayTensor(a)\n",
    "displayTensor(z)\n"
   ]
  },
  {
   "cell_type": "code",
   "execution_count": null,
   "metadata": {},
   "outputs": [],
   "source": [
    "a_m = a.root()\n",
    "z_m = z.root()\n",
    "\n",
    "print(\"Z < A Fiber\")\n",
    "\n",
    "for m, (z_ref, a_val) in z_m << a_m:\n",
    "    print(\"Processing: (%s, (%s, %s))\" % (m, z_ref, a_val))\n",
    "    \n",
    "    z_ref += a_val\n",
    "\n",
    "    displayTensor(z)"
   ]
  },
  {
   "cell_type": "markdown",
   "metadata": {},
   "source": [
    "# Intersection"
   ]
  },
  {
   "cell_type": "code",
   "execution_count": null,
   "metadata": {},
   "outputs": [],
   "source": [
    "# Fiber instersection\n",
    "\n",
    "a = Tensor(\"../data/elementwise-a.yaml\")\n",
    "b = Tensor(\"../data/elementwise-b.yaml\")\n",
    "\n",
    "displayTensor(a)\n",
    "displayTensor(b)"
   ]
  },
  {
   "cell_type": "code",
   "execution_count": null,
   "metadata": {},
   "outputs": [],
   "source": [
    "a_m = a.root()\n",
    "b_m = b.root()\n",
    "\n",
    "print(\"Fiber a_m & b_m\")\n",
    "\n",
    "z_m = a_m & b_m\n",
    "\n",
    "displayTensor(z_m)"
   ]
  },
  {
   "cell_type": "markdown",
   "metadata": {},
   "source": [
    "## Element-wise multiply"
   ]
  },
  {
   "cell_type": "code",
   "execution_count": null,
   "metadata": {},
   "outputs": [],
   "source": [
    "# Element-wise multiply\n",
    "\n",
    "a = Tensor(\"../data/elementwise-a.yaml\")\n",
    "b = Tensor(\"../data/elementwise-b.yaml\")\n",
    "z = Tensor(rank_ids=[\"M\"])\n",
    "\n",
    "displayTensor(a)\n",
    "displayTensor(b)"
   ]
  },
  {
   "cell_type": "code",
   "execution_count": null,
   "metadata": {
    "scrolled": false
   },
   "outputs": [],
   "source": [
    "a_m = a.root()\n",
    "b_m = b.root()\n",
    "z_m = z.root()\n",
    "\n",
    "print(\"Z < A Fiber\")\n",
    "\n",
    "for m, (z_ref, (a_val, b_val)) in z_m << (a_m & b_m):\n",
    "    print(\"Processing: (%s, (%s, (%s, %s)))\"\n",
    "          % (m, z_ref, a_val, b_val))\n",
    "\n",
    "    z_ref += a_val * b_val\n",
    "\n",
    "displayTensor(z)"
   ]
  },
  {
   "cell_type": "markdown",
   "metadata": {},
   "source": [
    "## Dot-product\n",
    "\n",
    "Here is a dot product of two tensors"
   ]
  },
  {
   "cell_type": "code",
   "execution_count": null,
   "metadata": {},
   "outputs": [],
   "source": [
    "# Dot product\n",
    "#\n",
    "# To perform a dot-product we need a \"row\" for an output.\n",
    "# So we represent the vectors as 2-D tensors\n",
    "#\n",
    "\n",
    "\n",
    "a = Tensor(\"../data/dot-product-a.yaml\")\n",
    "b = Tensor(\"../data/dot-product-b.yaml\")\n",
    "z = Tensor(rank_ids=[\"M\"])\n",
    "\n",
    "display(TensorImage(a).im)\n",
    "display(TensorImage(b).im)"
   ]
  },
  {
   "cell_type": "code",
   "execution_count": null,
   "metadata": {},
   "outputs": [],
   "source": [
    "a_m = a.root()\n",
    "b_m = b.root()\n",
    "z_m = z.root()\n",
    "\n",
    "\n",
    "for m, (z_ref, (a_k, b_k)) in z_m << (a_m & b_m):\n",
    "    for k, (a_val, b_val) in a_k & b_k:\n",
    "        print(\"Processing: [%s -> ( %s, (%s, %s)]\" % (k, z_ref, a_val, b_val))\n",
    "\n",
    "        z_ref += a_val * b_val\n",
    "\n",
    "\n",
    "display(TensorImage(z).im)"
   ]
  },
  {
   "cell_type": "markdown",
   "metadata": {},
   "source": [
    "# Union"
   ]
  },
  {
   "cell_type": "code",
   "execution_count": null,
   "metadata": {},
   "outputs": [],
   "source": [
    "# Fiber union\n",
    "\n",
    "a = Tensor(\"../data/elementwise-a.yaml\")\n",
    "b = Tensor(\"../data/elementwise-b.yaml\")\n",
    "\n",
    "displayTensor(a)\n",
    "displayTensor(b)"
   ]
  },
  {
   "cell_type": "code",
   "execution_count": null,
   "metadata": {},
   "outputs": [],
   "source": [
    "a_m = a.root()\n",
    "b_m = b.root()\n",
    "\n",
    "print(\"Fiber a_m | b_m\")\n",
    "\n",
    "z_m = a_m | b_m\n",
    "\n",
    "displayTensor(z_m)"
   ]
  },
  {
   "cell_type": "markdown",
   "metadata": {},
   "source": [
    "## Element-wise addition\n",
    "\n",
    "Following...\n",
    "\n"
   ]
  },
  {
   "cell_type": "code",
   "execution_count": null,
   "metadata": {
    "scrolled": true
   },
   "outputs": [],
   "source": [
    "#\n",
    "# Do a sum of sums of the rows of two matrices\n",
    "#\n",
    "\n",
    "a = Tensor(\"../data/dot-product-a.yaml\")\n",
    "b = Tensor(\"../data/dot-product-b.yaml\")\n",
    "\n",
    "z = Tensor(rank_ids=[\"M\"])\n",
    "\n",
    "displayTensor(a)\n",
    "displayTensor(b)"
   ]
  },
  {
   "cell_type": "code",
   "execution_count": null,
   "metadata": {
    "scrolled": true
   },
   "outputs": [],
   "source": [
    "a_m = a.root()\n",
    "b_m = b.root()\n",
    "z_m = z.root()\n",
    "\n",
    "\n",
    "for m, (z_ref, (mask_k, a_k, b_k)) in z_m << (a_m | b_m):\n",
    "    for k, (ab_mask, a_val, b_val) in a_k | b_k:\n",
    "        print(\"Processing: [%s -> ( %s, (%s, %s, %s)]\"\n",
    "              % (k, z_ref, ab_mask, a_val, b_val))\n",
    "\n",
    "        z_ref += a_val + b_val\n",
    "\n",
    "\n",
    "displayTensor(z)"
   ]
  },
  {
   "cell_type": "markdown",
   "metadata": {},
   "source": [
    "## Testing area\n",
    "\n",
    "For running alternative algorithms"
   ]
  },
  {
   "cell_type": "code",
   "execution_count": null,
   "metadata": {},
   "outputs": [],
   "source": []
  },
  {
   "cell_type": "code",
   "execution_count": null,
   "metadata": {},
   "outputs": [],
   "source": []
  },
  {
   "cell_type": "code",
   "execution_count": null,
   "metadata": {},
   "outputs": [],
   "source": []
  }
 ],
 "metadata": {
  "kernelspec": {
   "display_name": "Python 3",
   "language": "python",
   "name": "python3"
  },
  "language_info": {
   "codemirror_mode": {
    "name": "ipython",
    "version": 3
   },
   "file_extension": ".py",
   "mimetype": "text/x-python",
   "name": "python",
   "nbconvert_exporter": "python",
   "pygments_lexer": "ipython3",
   "version": "3.7.1"
  }
 },
 "nbformat": 4,
 "nbformat_minor": 2
}
