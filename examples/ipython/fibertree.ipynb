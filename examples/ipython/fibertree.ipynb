{
 "cells": [
  {
   "cell_type": "markdown",
   "metadata": {
    "slideshow": {
     "slide_type": "-"
    }
   },
   "source": [
    "# Tool for manipulating tensors using the hierarchical fiber abstraction\n",
    "\n",
    "First, include some libraries"
   ]
  },
  {
   "cell_type": "code",
   "execution_count": 21,
   "metadata": {},
   "outputs": [
    {
     "name": "stdout",
     "output_type": "stream",
     "text": [
      "Prelude loaded OK\n",
      "(Animation display disabled)\n"
     ]
    }
   ],
   "source": [
    "# Run boilerplate code to set up environment\n",
    "\n",
    "# Uncomment the first line and comment out the second to show movie animations\n",
    "\n",
    "#%run prelude.py\n",
    "%run prelude.py --no-show-animations\n"
   ]
  },
  {
   "cell_type": "markdown",
   "metadata": {},
   "source": [
    "## Creating a tensor\n",
    "\n",
    "Following is an example of reading in a tensor from a file in YAML format.\n"
   ]
  },
  {
   "cell_type": "code",
   "execution_count": 3,
   "metadata": {},
   "outputs": [
    {
     "name": "stdout",
     "output_type": "stream",
     "text": [
      "YAML represenation of a tensor\n",
      "\n",
      "tensor:\n",
      "  rank_ids: [ M, N, K ]\n",
      "  root:\n",
      "    - fiber:\n",
      "        coords: [ 10, 20 ]\n",
      "        payloads:\n",
      "          - fiber:\n",
      "              coords: [ 30, 40, 50]\n",
      "              payloads:\n",
      "                - fiber:\n",
      "                    coords:   [ 0 ]\n",
      "                    payloads: [ 1 ]\n",
      "                - fiber:\n",
      "                    coords:   [ 1, 2 ]\n",
      "                    payloads: [ 10, 20 ]\n",
      "                - fiber:\n",
      "                    coords:   [ 3, 4, 5 ]\n",
      "                    payloads: [ 30, 40, 50 ]\n",
      "          - fiber:\n",
      "              coords: [ 0, 1, 3]\n",
      "              payloads:\n",
      "                - fiber:\n",
      "                    coords:   [ 6, 7 ]\n",
      "                    payloads: [ 60, 70 ]\n",
      "                - fiber:\n",
      "                    coords:   [ 7, 8 ]\n",
      "                    payloads: [ 70, 80 ]\n",
      "                - fiber:\n",
      "                    coords:   [ 9, 10 ]\n",
      "                    payloads: [ 90, 100 ]\n"
     ]
    }
   ],
   "source": [
    "        \n",
    "# Display an example tensor\n",
    "\n",
    "filename = datafileName(\"draw-a.yaml\")\n",
    "\n",
    "print(\"YAML represenation of a tensor\\n\")\n",
    "f = open(filename)\n",
    "for line in f:\n",
    "    print(line.rstrip('\\n'))\n",
    "f.close()"
   ]
  },
  {
   "cell_type": "markdown",
   "metadata": {},
   "source": [
    "## Create and display a tensor from a YAML file"
   ]
  },
  {
   "cell_type": "code",
   "execution_count": 22,
   "metadata": {
    "scrolled": true
   },
   "outputs": [
    {
     "name": "stdout",
     "output_type": "stream",
     "text": [
      "Fiber-tree picture of a tensor\n"
     ]
    },
    {
     "data": {
      "image/png": "[encoded data removed]",
      "text/plain": [
       "<PIL.Image.Image image mode=RGB size=1360x410 at 0x7F0C5B0AC400>"
      ]
     },
     "metadata": {},
     "output_type": "display_data"
    }
   ],
   "source": [
    "a = Tensor(filename)\n",
    "\n",
    "print(\"Fiber-tree picture of a tensor\")\n",
    "displayTensor(a)"
   ]
  },
  {
   "cell_type": "markdown",
   "metadata": {},
   "source": [
    "## Print output for fibers in the tensor"
   ]
  },
  {
   "cell_type": "code",
   "execution_count": 16,
   "metadata": {},
   "outputs": [
    {
     "name": "stdout",
     "output_type": "stream",
     "text": [
      "Formatted printout of fiber\n",
      "\n",
      "F(M)/[( 10 -> F(N)/[( 30 -> F(K)/[(0 -> <1>) ])( 40 -> F(K)/[(1 -> <10>) (2 -> <20>) ])......)( 20 -> F(N)/[( 0 -> F(K)/[(6 -> <60>) (7 -> <70>) ])( 1 -> F(K)/[(7 -> <70>) (8 -> <80>) ])......)\n",
      "\n",
      "\n",
      "Formatted printout of fiber (with newlines)\n",
      "\n",
      "F(M)/[( 10 -> F(N)/[( 30 -> F(K)/[(0 -> <1>) ])\n",
      "                    ( 40 -> F(K)/[(1 -> <10>) \n",
      "                                  (2 -> <20>) ])\n",
      "                            ...\n",
      "                            ...)\n",
      "      ( 20 -> F(N)/[( 0 -> F(K)/[(6 -> <60>) \n",
      "                                 (7 -> <70>) ])\n",
      "                    ( 1 -> F(K)/[(7 -> <70>) \n",
      "                                 (8 -> <80>) ])\n",
      "                           ...\n",
      "                           ...)\n",
      "\n",
      "\n",
      "Formatted printout of fiber (with newlines and no elipsis)\n",
      "\n",
      "F(M)/[( 10 -> F(N)/[( 30 -> F(K)/[(0 -> <1>) ])\n",
      "                    ( 40 -> F(K)/[(1 -> <10>) \n",
      "                                  (2 -> <20>) ])\n",
      "                    ( 50 -> F(K)/[(3 -> <30>) \n",
      "                                  (4 -> <40>) \n",
      "                                  (5 -> <50>) ]))\n",
      "      ( 20 -> F(N)/[( 0 -> F(K)/[(6 -> <60>) \n",
      "                                 (7 -> <70>) ])\n",
      "                    ( 1 -> F(K)/[(7 -> <70>) \n",
      "                                 (8 -> <80>) ])\n",
      "                    ( 3 -> F(K)/[(9 -> <90>) \n",
      "                                 (10 -> <100>) ]))\n",
      "\n",
      "\n",
      "Formatted printout of fiber (with explicit coordinate and payload format)\n",
      "\n",
      "F(M)/[( 10 -> F(N)/[( 30 -> F(K)/[(00 -> <001>) ])\n",
      "                    ( 40 -> F(K)/[(01 -> <010>) \n",
      "                                  (02 -> <020>) ])\n",
      "                    ( 50 -> F(K)/[(03 -> <030>) \n",
      "                                  (04 -> <040>) \n",
      "                                  (05 -> <050>) ]))\n",
      "      ( 20 -> F(N)/[( 00 -> F(K)/[(06 -> <060>) \n",
      "                                  (07 -> <070>) ])\n",
      "                    ( 01 -> F(K)/[(07 -> <070>) \n",
      "                                  (08 -> <080>) ])\n",
      "                    ( 03 -> F(K)/[(09 -> <090>) \n",
      "                                  (10 -> <100>) ]))\n",
      "\n",
      "\n"
     ]
    }
   ],
   "source": [
    "# Get the root fiber out of the tensor\n",
    "a_m = a.getRoot()\n",
    "\n",
    "print(\"Formatted printout of fiber\\n\")\n",
    "print(f\"{a_m}\\n\\n\")\n",
    "\n",
    "print(\"Formatted printout of fiber (with newlines)\\n\")\n",
    "print(f\"{a_m:n}\\n\\n\")\n",
    "\n",
    "print(\"Formatted printout of fiber (with newlines and no elipsis)\\n\")\n",
    "print(f\"{a_m:n*}\\n\\n\")\n",
    "\n",
    "print(\"Formatted printout of fiber (with explicit coordinate and payload format)\\n\")\n",
    "print(f\"{a_m:(02d,03d)n*}\\n\\n\")\n"
   ]
  },
  {
   "cell_type": "markdown",
   "metadata": {},
   "source": [
    "## Create a tensor from an uncompressed array\n",
    "\n",
    "One can also create a tensor from an set of nested lists"
   ]
  },
  {
   "cell_type": "code",
   "execution_count": 20,
   "metadata": {},
   "outputs": [
    {
     "data": {
      "image/png": "[encoded data removed]",
      "text/plain": [
       "<PIL.Image.Image image mode=RGB size=880x330 at 0x7F0C5B0A9160>"
      ]
     },
     "metadata": {},
     "output_type": "display_data"
    }
   ],
   "source": [
    "b_data = [[0, 0, 0, 60, 70, 0, 0, 0],\n",
    "          [0, 0, 0, 0, 70, 80, 0, 0],\n",
    "          [0, 0, 0, 0, 0, 0, 0, 0],\n",
    "          [0, 0, 0, 0, 0, 90, 100]]\n",
    "\n",
    "b = Tensor.fromUncompressed([\"X\", \"Y\"], b_data)\n",
    "\n",
    "displayTensor(b)"
   ]
  },
  {
   "cell_type": "markdown",
   "metadata": {},
   "source": [
    "## Traverse a tensor\n",
    "\n",
    "The fibers in a tensor (starting with the root fiber) can be interated over using a for loop. Each iteration returns the coordinate and payload for each element in the fiber. If the payload is itself a fiber then that fiber can be iterated over."
   ]
  },
  {
   "cell_type": "code",
   "execution_count": null,
   "metadata": {},
   "outputs": [],
   "source": [
    "# Traverse a tensor\n",
    "\n",
    "a = Tensor(datafileName(\"matrix-a.yaml\"))\n",
    "\n",
    "displayTensor(a)"
   ]
  },
  {
   "cell_type": "code",
   "execution_count": null,
   "metadata": {},
   "outputs": [],
   "source": [
    "\n",
    "canvas = TensorCanvas(a)\n",
    "\n",
    "a_m = a.getRoot()\n",
    "\n",
    "for m, (a_k) in a_m:\n",
    "    print(f\"({m}, {a_k})\")\n",
    "    for k, (a_val) in a_k:\n",
    "        print(f\"Processing: ({k}, {a_val})\")\n",
    "        canvas.addFrame((m,k))\n",
    "\n",
    "displayCanvas(canvas)"
   ]
  },
  {
   "cell_type": "markdown",
   "metadata": {},
   "source": [
    "# Element-wise update (empty) tensor, i.e., copy"
   ]
  },
  {
   "cell_type": "code",
   "execution_count": null,
   "metadata": {},
   "outputs": [],
   "source": [
    "# Element-wise update a tensor\n",
    "\n",
    "a = Tensor(datafileName(\"elementwise-a.yaml\"))\n",
    "z = Tensor(rank_ids=[\"M\"])\n",
    "\n",
    "a_m = a.getRoot()\n",
    "z_m = z.getRoot()\n",
    "\n",
    "print(\"Z < A Fiber\")\n",
    "\n",
    "canvas = TensorCanvas(a, z)\n",
    "\n",
    "for m, (z_ref, a_val) in z_m << a_m:\n",
    "    print(f\"Processing: ({m}, ({z_ref}, {a_val})\")\n",
    "    \n",
    "    z_ref += a_val\n",
    "    canvas.addFrame([m], [m])\n",
    "\n",
    "displayCanvas(canvas)"
   ]
  },
  {
   "cell_type": "markdown",
   "metadata": {},
   "source": [
    "# Intersection"
   ]
  },
  {
   "cell_type": "code",
   "execution_count": null,
   "metadata": {},
   "outputs": [],
   "source": [
    "# Fiber instersection\n",
    "\n",
    "a = Tensor(datafileName(\"elementwise-a.yaml\"))\n",
    "b = Tensor(datafileName(\"elementwise-b.yaml\"))\n",
    "\n",
    "a_m = a.getRoot()\n",
    "b_m = b.getRoot()\n",
    "\n",
    "print(\"Fiber a_m & b_m\")\n",
    "\n",
    "z_m = a_m & b_m\n",
    "\n",
    "canvas = TensorCanvas(a, b, z_m)\n",
    "displayCanvas(canvas, width=None)"
   ]
  },
  {
   "cell_type": "markdown",
   "metadata": {},
   "source": [
    "## Element-wise multiply"
   ]
  },
  {
   "cell_type": "code",
   "execution_count": null,
   "metadata": {},
   "outputs": [],
   "source": [
    "# Element-wise multiply\n",
    "\n",
    "a = Tensor(datafileName(\"elementwise-a.yaml\"))\n",
    "b = Tensor(datafileName(\"elementwise-b.yaml\"))\n",
    "z = Tensor(rank_ids=[\"M\"])\n",
    "\n",
    "a_m = a.getRoot()\n",
    "b_m = b.getRoot()\n",
    "z_m = z.getRoot()\n",
    "\n",
    "print(\"Z < A Fiber\")\n",
    "\n",
    "canvas = TensorCanvas(a, b, z)\n",
    "\n",
    "for m, (z_ref, (a_val, b_val)) in z_m << (a_m & b_m):\n",
    "    print(f\"Processing: ({m}, ({z_ref}, ({a_val}, {b_val})))\")\n",
    "\n",
    "    z_ref += a_val * b_val\n",
    "    canvas.addFrame((m,), (m,), (m,))\n",
    "\n",
    "displayCanvas(canvas, width=\"75%\")"
   ]
  },
  {
   "cell_type": "markdown",
   "metadata": {},
   "source": [
    "## Dot-product\n",
    "\n",
    "Here is a dot product of two tensors"
   ]
  },
  {
   "cell_type": "code",
   "execution_count": null,
   "metadata": {},
   "outputs": [],
   "source": [
    "# Dot product\n",
    "#\n",
    "# To perform a dot-product we need a \"row\" for an output.\n",
    "# So we represent the vectors as 2-D tensors\n",
    "#\n",
    "\n",
    "\n",
    "a = Tensor(datafileName(\"dot-product-a.yaml\"))\n",
    "b = Tensor(datafileName(\"dot-product-b.yaml\"))\n",
    "z = Tensor(rank_ids=[\"M\"])\n",
    "\n",
    "a_m = a.getRoot()\n",
    "b_m = b.getRoot()\n",
    "z_m = z.getRoot()\n",
    "\n",
    "canvas = TensorCanvas(a, b, z)\n",
    "\n",
    "for m, (z_ref, (a_k, b_k)) in z_m << (a_m & b_m):\n",
    "    for k, (a_val, b_val) in a_k & b_k:\n",
    "        print(f\"Processing: [{k} -> ( {z_ref}, ({a_val}, {b_val})]\")\n",
    "\n",
    "        z_ref += a_val * b_val\n",
    "        canvas.addFrame((m,k), (m, k), (m,))\n",
    "\n",
    "\n",
    "displayCanvas(canvas, width=\"50%\")"
   ]
  },
  {
   "cell_type": "markdown",
   "metadata": {},
   "source": [
    "# Union"
   ]
  },
  {
   "cell_type": "code",
   "execution_count": null,
   "metadata": {},
   "outputs": [],
   "source": [
    "# Fiber union\n",
    "\n",
    "a = Tensor(datafileName(\"elementwise-a.yaml\"))\n",
    "b = Tensor(datafileName(\"elementwise-b.yaml\"))\n",
    "\n",
    "displayTensor(a)\n",
    "displayTensor(b)"
   ]
  },
  {
   "cell_type": "code",
   "execution_count": null,
   "metadata": {},
   "outputs": [],
   "source": [
    "a_m = a.getRoot()\n",
    "b_m = b.getRoot()\n",
    "\n",
    "print(\"Fiber a_m | b_m\")\n",
    "\n",
    "z_m = a_m | b_m\n",
    "\n",
    "displayTensor(z_m)"
   ]
  },
  {
   "cell_type": "markdown",
   "metadata": {},
   "source": [
    "## Element-wise addition\n",
    "\n",
    "Following...\n",
    "\n"
   ]
  },
  {
   "cell_type": "code",
   "execution_count": null,
   "metadata": {
    "scrolled": false
   },
   "outputs": [],
   "source": [
    "#\n",
    "# Do a sum of sums of the rows of two matrices\n",
    "#\n",
    "\n",
    "a = Tensor(datafileName(\"dot-product-a.yaml\"))\n",
    "b = Tensor(datafileName(\"dot-product-b.yaml\"))\n",
    "\n",
    "z = Tensor(rank_ids=[\"M\"])\n",
    "\n",
    "a_m = a.getRoot()\n",
    "b_m = b.getRoot()\n",
    "z_m = z.getRoot()\n",
    "\n",
    "canvas = TensorCanvas(a, b, z)\n",
    "\n",
    "for m, (z_ref, (mask_k, a_k, b_k)) in z_m << (a_m | b_m):\n",
    "    for k, (ab_mask, a_val, b_val) in a_k | b_k:\n",
    "        print(f\"Processing: [{k} -> ( {z_ref}, ({ab_mask}, {a_val}, {b_val})]\")\n",
    "\n",
    "        z_ref += a_val + b_val\n",
    "        canvas.addFrame((m, k), (m, k), (m,))\n",
    "\n",
    "\n",
    "displayCanvas(canvas, width=\"250\")"
   ]
  },
  {
   "cell_type": "markdown",
   "metadata": {},
   "source": [
    "## Reduce vector to a rank zero tensor"
   ]
  },
  {
   "cell_type": "code",
   "execution_count": null,
   "metadata": {},
   "outputs": [],
   "source": [
    "a = Tensor(datafileName(\"elementwise-a.yaml\"))\n",
    "z = Tensor(rank_ids=[])\n",
    "\n",
    "a_m = a.getRoot()\n",
    "z_ref = z.getRoot()\n",
    "\n",
    "canvas = TensorCanvas(a, z)\n",
    "\n",
    "for m_coord, (a_val) in a_m:\n",
    "    z_ref += a_val\n",
    "    canvas.addFrame((m_coord,), [])\n",
    "\n",
    "displayCanvas(canvas, width=None)"
   ]
  },
  {
   "cell_type": "markdown",
   "metadata": {},
   "source": [
    "## Testing area\n",
    "\n",
    "For running alternative algorithms"
   ]
  },
  {
   "cell_type": "code",
   "execution_count": null,
   "metadata": {},
   "outputs": [],
   "source": []
  },
  {
   "cell_type": "code",
   "execution_count": null,
   "metadata": {},
   "outputs": [],
   "source": []
  },
  {
   "cell_type": "code",
   "execution_count": null,
   "metadata": {},
   "outputs": [],
   "source": []
  }
 ],
 "metadata": {
  "kernelspec": {
   "display_name": "Python 3",
   "language": "python",
   "name": "python3"
  },
  "language_info": {
   "codemirror_mode": {
    "name": "ipython",
    "version": 3
   },
   "file_extension": ".py",
   "mimetype": "text/x-python",
   "name": "python",
   "nbconvert_exporter": "python",
   "pygments_lexer": "ipython3",
   "version": "3.6.7"
  }
 },
 "nbformat": 4,
 "nbformat_minor": 2
}
