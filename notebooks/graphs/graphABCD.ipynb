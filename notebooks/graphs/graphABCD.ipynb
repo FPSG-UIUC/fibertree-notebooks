{
 "cells": [
  {
   "cell_type": "markdown",
   "metadata": {
    "slideshow": {
     "slide_type": "-"
    }
   },
   "source": [
    "# GraphABCD\n",
    "\n",
    "First, include some libraries"
   ]
  },
  {
   "cell_type": "code",
   "execution_count": null,
   "metadata": {},
   "outputs": [],
   "source": [
    "# Run boilerplate code to set up environment\n",
    "import copy\n",
    "\n",
    "%run ../prelude.py --style=tree+uncompressed --animation=none"
   ]
  },
  {
   "cell_type": "markdown",
   "metadata": {},
   "source": [
    "## Create a graph\n",
    "\n",
    "Create a vertices array and adjacency matrix (source to destination"
   ]
  },
  {
   "cell_type": "code",
   "execution_count": null,
   "metadata": {
    "scrolled": false
   },
   "outputs": [],
   "source": [
    "S = 10\n",
    "D = S\n",
    "\n",
    "#vertex = Tensor.fromRandom([\"S\"], [S], (1.0,), 9, seed=10)\n",
    "vtx = Tensor.fromUncompressed([\"S\"], [1]*S)\n",
    "vtx.setMutable(True).setColor(\"blue\").setName(\"vertices\")\n",
    "\n",
    "g_SD = Tensor.fromRandom([\"S\", \"D\"], [S, D], (1.0, 0.28), 1, seed=100)\n",
    "g_SD.setMutable(True).setColor(\"green\")\n",
    "g_SD.setName(\"graph-SD\")\n",
    "\n",
    "displayTensor(vtx)\n",
    "displayTensor(g_SD)\n",
    "                         \n",
    "print(\"Graph\")\n",
    "displayGraph(g_SD.getRoot())\n"
   ]
  },
  {
   "cell_type": "markdown",
   "metadata": {},
   "source": [
    "## Create reverse adjacency matrix (destination to source)"
   ]
  },
  {
   "cell_type": "code",
   "execution_count": null,
   "metadata": {},
   "outputs": [],
   "source": [
    "g_DS = g_SD.swapRanks()\n",
    "g_DS.setMutable(True).setColor(\"green\")\n",
    "g_DS.setName(\"graph-DS\")\n",
    "\n",
    "displayTensor(g_DS)\n",
    "\n"
   ]
  },
  {
   "cell_type": "markdown",
   "metadata": {},
   "source": [
    "## Create scatter map tensor\n",
    "\n",
    "Create a tensor with rank order S, D whose value is the position of a source vertex in the graph.\n"
   ]
  },
  {
   "cell_type": "code",
   "execution_count": null,
   "metadata": {},
   "outputs": [],
   "source": [
    "def create_scatter_map(g_XX):\n",
    "    sm = g_XX.swapRanks()\n",
    "    sm.setMutable(True).setColor(\"purple\")\n",
    "    sm.setName(g_XX.getName()+\"-scattermap\")\n",
    "\n",
    "    canvas = createCanvas(g_XX, sm) if enable[\"scatter_map\"] else None\n",
    "    \n",
    "    sm_r1 = sm.getRoot()\n",
    "\n",
    "    for r1, sm_r0 in sm_r1:\n",
    "        for r0, sm_ref in sm_r0:\n",
    "            p = g_XX.getRoot().getPayload(r0).getPosition(r1)\n",
    "            sm_ref <<= (p,)\n",
    "            addFrame(canvas, (r0, r1), (r1, r0))\n",
    "\n",
    "    displayCanvas(canvas)\n",
    "    \n",
    "    return sm\n",
    "\n",
    "createEnableControl(\"scatter_map\")"
   ]
  },
  {
   "cell_type": "markdown",
   "metadata": {},
   "source": [
    "## Create scatter maps"
   ]
  },
  {
   "cell_type": "code",
   "execution_count": null,
   "metadata": {
    "scrolled": false
   },
   "outputs": [],
   "source": [
    "# create DS scatter map\n",
    "sm_DS = create_scatter_map(g_DS)\n",
    "\n",
    "displayTensor(sm_DS)\n",
    "\n",
    "# create SD scatter map\n",
    "sm_SD = create_scatter_map(g_SD)\n",
    "\n",
    "displayTensor(sm_SD)"
   ]
  },
  {
   "cell_type": "markdown",
   "metadata": {},
   "source": [
    "## Scatter the vertex data into the graph"
   ]
  },
  {
   "cell_type": "code",
   "execution_count": null,
   "metadata": {},
   "outputs": [],
   "source": [
    "def scatter(g_XX, sm_XX):\n",
    "    \n",
    "    vtx_s = vtx.getRoot()\n",
    "    sm_r1 = sm_XX.getRoot()\n",
    "    g_r1 = g_XX.getRoot()\n",
    "    \n",
    "    canvas = createCanvas(vtx, sm_XX,g_XX)if enable[\"scatter\"] else None\n",
    "    \n",
    "    for r1, (vtx_val, sm_r0) in vtx_s & sm_r1:\n",
    "        for r0, (g_r0, sm_val) in g_r1 << sm_r0:\n",
    "            # TBD: Fix so getitem takes a Payload\n",
    "            g_r0[sm_val.value[0]] = copy.deepcopy(vtx_val)\n",
    "            \n",
    "            addFrame(canvas, (r1,), (r1, r0), (r0, r1))\n",
    "\n",
    "    displayCanvas(canvas)\n",
    "    \n",
    "# Display control\n",
    "\n",
    "createEnableControl(\"scatter\")\n"
   ]
  },
  {
   "cell_type": "markdown",
   "metadata": {},
   "source": [
    "## Example application of scatter"
   ]
  },
  {
   "cell_type": "code",
   "execution_count": null,
   "metadata": {
    "scrolled": false
   },
   "outputs": [],
   "source": [
    "#\n",
    "# Example of application of scatter\n",
    "#\n",
    "vtx = Tensor.fromRandom([\"S\"], [S], (1.0,), 9, seed=10)\n",
    "vtx.setMutable(True).setColor(\"blue\").setName(\"vertices\")\n",
    "displayTensor(vtx)\n",
    "\n",
    "print(\"Before\")\n",
    "displayTensor(g_SD)\n",
    "\n",
    "scatter(g_SD, sm_SD)\n",
    "\n",
    "print(\"After\")\n",
    "displayTensor(g_SD)"
   ]
  },
  {
   "cell_type": "markdown",
   "metadata": {},
   "source": [
    "## Create an gather/apply function"
   ]
  },
  {
   "cell_type": "code",
   "execution_count": null,
   "metadata": {
    "scrolled": false
   },
   "outputs": [],
   "source": [
    "import copy\n",
    "\n",
    "def gather_apply(vtx, g_XX, update):\n",
    "    \n",
    "    changed = False\n",
    "    \n",
    "    vtx_old = copy.deepcopy(vtx)\n",
    "    vtx_old.setName(vtx.getName()+\"-old\")\n",
    "\n",
    "    # Treat the vtx values as same rank as top rank of g_XX\n",
    "    \n",
    "    vtx_old_r1 = vtx_old.getRoot()\n",
    "    vtx_r1 = vtx.getRoot()   \n",
    "    g_r1 = g_XX.getRoot()\n",
    "    \n",
    "    canvas = createCanvas(vtx_old, g_XX, vtx) if enable[\"apply\"] else None\n",
    "    \n",
    "    for r1, (vtx_ref, (vtx_val, g_r0)) in vtx_r1 << (vtx_old_r1 & g_r1):\n",
    "        for r0, g_val in g_r0:\n",
    "            if r0 == r1: continue\n",
    "                \n",
    "            new_vtx_val = update(vtx_val, g_val, r1=r1, r0=r0)\n",
    "    \n",
    "            if new_vtx_val is not None:\n",
    "                changed = True\n",
    "                vtx_ref.value = new_vtx_val\n",
    "                addFrame(canvas, (r1,), (r1, r0), (r1,))\n",
    "            else:\n",
    "                addFrame(canvas, (r1,), (r1, r0), ())\n",
    "\n",
    "    displayCanvas(canvas)\n",
    "    \n",
    "    return changed\n",
    "\n",
    "# Display control\n",
    "\n",
    "createEnableControl(\"apply\")"
   ]
  },
  {
   "cell_type": "markdown",
   "metadata": {},
   "source": [
    "## SSSP - DS form"
   ]
  },
  {
   "cell_type": "code",
   "execution_count": null,
   "metadata": {
    "scrolled": false
   },
   "outputs": [],
   "source": [
    "def sssp_DS(vtx_val, g_val, r1=None, r0=None):\n",
    "\n",
    "    print(f\"Working on {r0} to {r1}\")\n",
    "    #new_vtx_val <<= min(g_val+1, vtx_val)\n",
    "            \n",
    "    if g_val+1 < vtx_val:\n",
    "        print(f\"Vertex {r0} was closer to source so updating {r1} to {g_val+1}\")\n",
    "        \n",
    "        new_vtx_val  = g_val+1\n",
    "        return new_vtx_val\n",
    "    \n",
    "    return None\n",
    "\n",
    "            \n",
    "vtx = Tensor.fromUncompressed([\"S\"], [1]+[100]*(S-1))\n",
    "vtx.setMutable(True).setColor(\"blue\")\n",
    "vtx.setName(\"vertices\")\n",
    "\n",
    "scatter(g_DS, sm_DS)\n",
    "displayTensor(vtx)\n",
    "displayTensor(g_DS)\n",
    "\n",
    "for n in range(10):\n",
    "    print(f\"Generation: {n}\")\n",
    "    changed = gather_apply(vtx, g_DS, sssp_DS)\n",
    "    if not changed:\n",
    "        print(\"No changes - terminating\")\n",
    "        break\n",
    "\n",
    "    displayTensor(vtx)\n",
    "    \n",
    "    scatter(g_DS, sm_DS)\n",
    "    displayTensor(g_DS)\n",
    "\n"
   ]
  },
  {
   "cell_type": "markdown",
   "metadata": {},
   "source": [
    "## SSSP - SD form"
   ]
  },
  {
   "cell_type": "code",
   "execution_count": null,
   "metadata": {
    "scrolled": false
   },
   "outputs": [],
   "source": [
    "def sssp_SD(vtx_val, g_val, r1=None, r0=None):\n",
    "\n",
    "    print(f\"Working on {r1} {vtx_val} to {r0} {g_val}\")\n",
    "    #new_vtx_val <<= min(g_val+1, vtx_val)\n",
    "            \n",
    "    if  g_val != 100 and vtx_val > g_val-1:\n",
    "        print(f\"Vertex {r0} was closer to destination so updating {r1} to {g_val-1}\")\n",
    "        \n",
    "        new_vtx_val  = g_val-1\n",
    "        return new_vtx_val\n",
    "    \n",
    "    return None\n",
    "            \n",
    "\"\"\"\n",
    "Not working yet - please ignore\n",
    "\n",
    "vtx = Tensor.fromUncompressed([\"S\"], [20]+[100]*(S-1))\n",
    "vtx.setMutable(True).setColor(\"blue\").setName(\"vertices\")\n",
    "\n",
    "scatter(g_SD, sm_SD)\n",
    "displayTensor(vtx)\n",
    "displayTensor(g_SD)\n",
    "\n",
    "for n in range(10):\n",
    "    print(f\"Generation: {n}\")\n",
    "    changed = gather_apply(vtx, g_SD, sssp_SD)\n",
    "    if not changed:\n",
    "        print(\"No changes - terminating\")\n",
    "        break\n",
    "\n",
    "    displayTensor(vtx)\n",
    "    \n",
    "    scatter(g_SD, sm_SD)\n",
    "    displayTensor(g_SD)\n",
    "\n",
    "\"\"\""
   ]
  },
  {
   "cell_type": "markdown",
   "metadata": {},
   "source": [
    "## Testing area\n",
    "\n",
    "For running alternative algorithms"
   ]
  },
  {
   "cell_type": "code",
   "execution_count": null,
   "metadata": {},
   "outputs": [],
   "source": []
  },
  {
   "cell_type": "code",
   "execution_count": null,
   "metadata": {},
   "outputs": [],
   "source": []
  },
  {
   "cell_type": "code",
   "execution_count": null,
   "metadata": {},
   "outputs": [],
   "source": []
  }
 ],
 "metadata": {
  "kernelspec": {
   "display_name": "Python 3",
   "language": "python",
   "name": "python3"
  },
  "language_info": {
   "codemirror_mode": {
    "name": "ipython",
    "version": 3
   },
   "file_extension": ".py",
   "mimetype": "text/x-python",
   "name": "python",
   "nbconvert_exporter": "python",
   "pygments_lexer": "ipython3",
   "version": "3.6.7"
  }
 },
 "nbformat": 4,
 "nbformat_minor": 2
}
